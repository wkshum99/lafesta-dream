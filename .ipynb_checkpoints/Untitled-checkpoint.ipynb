{
 "cells": [
  {
   "cell_type": "code",
   "execution_count": 1,
   "metadata": {
    "collapsed": true
   },
   "outputs": [],
   "source": [
    "import csv"
   ]
  },
  {
   "cell_type": "code",
   "execution_count": 2,
   "metadata": {
    "collapsed": true
   },
   "outputs": [],
   "source": [
    "def list_words(text):\n",
    "  words = []\n",
    "  words_tmp = text.lower().split()\n",
    "  for w in words_tmp:\n",
    "    if w not in words and len(w) > 3:\n",
    "      words.append(w)\n",
    "  return words"
   ]
  },
  {
   "cell_type": "code",
   "execution_count": 3,
   "metadata": {
    "collapsed": true
   },
   "outputs": [],
   "source": [
    "def training(texts):\n",
    "  c_words ={}\n",
    "  c_categories ={}\n",
    "  c_texts = 0\n",
    "  c_total_words =0\n",
    "  #add the classes to the categories\n",
    "  for t in texts:\n",
    "    c_texts = c_texts + 1\n",
    "    if t[1] not in c_categories:\n",
    "      c_categories[t[1]] = 1\n",
    "    else:\n",
    "      c_categories[t[1]]= c_categories[t[1]] + 1\n",
    "\n",
    "  #add the words with list_words() function\n",
    "  for t in texts:\n",
    "    words = list_words(t[0])\n",
    "\n",
    "  for p in words:\n",
    "    if p not in c_words:\n",
    "      c_total_words = c_total_words +1\n",
    "      c_words[p] = {}\n",
    "      for c in c_categories:\n",
    "        c_words[p][c] = 0\n",
    "    c_words[p][t[1]] = c_words[p][t[1]] + 1\n",
    "\n",
    "  return (c_words, c_categories, c_texts, c_total_words)"
   ]
  },
  {
   "cell_type": "code",
   "execution_count": 4,
   "metadata": {
    "collapsed": false
   },
   "outputs": [],
   "source": [
    "def classifier(subject_line, c_words, c_categories, c_texts, c_tot_words):\n",
    "  category =\"\"\n",
    "  category_prob = 0\n",
    "\n",
    "  for c in c_categories:\n",
    "    #category probability\n",
    "    prob_c = float(c_categories[c])/float(c_texts)\n",
    "    words = list_words(subject_line)\n",
    "    prob_total_c = prob_c\n",
    "    for p in words:\n",
    "      #word probability\n",
    "      if p in c_words:\n",
    "        prob_p= float(c_words[p][c])/float(c_tot_words)\n",
    "        #probability P(category|word)\n",
    "        prob_cond = prob_p/prob_c\n",
    "        #probability P(word|category)\n",
    "        prob =(prob_cond * prob_p)/ prob_c\n",
    "        prob_total_c = prob_total_c * prob\n",
    "\n",
    "      if category_prob < prob_total_c:\n",
    "        category = c\n",
    "        category_prob = prob_total_c\n",
    "  return (category, category_prob)"
   ]
  },
  {
   "cell_type": "code",
   "execution_count": 7,
   "metadata": {
    "collapsed": false
   },
   "outputs": [],
   "source": [
    "with open('training.csv') as f:\n",
    "    subjects = dict(csv.reader(f, delimiter=','))\n",
    "#words,categories,texts,total_words = training(subjects)"
   ]
  },
  {
   "cell_type": "code",
   "execution_count": 8,
   "metadata": {
    "collapsed": false
   },
   "outputs": [
    {
     "data": {
      "text/plain": [
       "{'Cd Package: 300 Million Email Addresses + 1.5 Mil Fax Numbers $99.95': 'spam',\n",
       " 'FREE Cell Phone + $50 Cash Back': 'spam',\n",
       " 'Get $100 Free - Beat the House at Royal Vegas': 'spam',\n",
       " 'Interest Rates at Forty Yr. Lows': ' spam',\n",
       " 'Interesting article on free software licences': 'nospam',\n",
       " 'Lowest Rates Available on Term Life - Free Quote': 'spam',\n",
       " 'Meetings the Hottest Place to Meet Women With Big Bucks': 'nospam',\n",
       " 'Reports You Need To Make Cash': 'spam',\n",
       " 'Some Friends Indeed Do More Harm Than Good': 'nospam',\n",
       " 'Watchin Espn..Jus seen this new Nike Commerical with a Puppet Lebron': 'nospam'}"
      ]
     },
     "execution_count": 8,
     "metadata": {},
     "output_type": "execute_result"
    }
   ],
   "source": [
    "subjects"
   ]
  }
 ],
 "metadata": {
  "kernelspec": {
   "display_name": "Python 2",
   "language": "python",
   "name": "python2"
  },
  "language_info": {
   "codemirror_mode": {
    "name": "ipython",
    "version": 2
   },
   "file_extension": ".py",
   "mimetype": "text/x-python",
   "name": "python",
   "nbconvert_exporter": "python",
   "pygments_lexer": "ipython2",
   "version": "2.7.10"
  }
 },
 "nbformat": 4,
 "nbformat_minor": 0
}
