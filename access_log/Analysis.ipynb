{
 "cells": [
  {
   "cell_type": "code",
   "execution_count": null,
   "metadata": {
    "collapsed": true
   },
   "outputs": [],
   "source": [
    "from __future__ import division"
   ]
  },
  {
   "cell_type": "code",
   "execution_count": 1,
   "metadata": {
    "collapsed": true
   },
   "outputs": [],
   "source": [
    "import pandas as pd\n",
    "import datetime\n",
    "import string\n",
    "import numpy as np\n",
    "import helper as hp"
   ]
  },
  {
   "cell_type": "code",
   "execution_count": 2,
   "metadata": {
    "collapsed": false
   },
   "outputs": [],
   "source": [
    "pd.set_option('display.max_columns', None)\n",
    "Gb = 1000000000"
   ]
  },
  {
   "cell_type": "code",
   "execution_count": 3,
   "metadata": {
    "collapsed": true
   },
   "outputs": [],
   "source": [
    "sqlitedb = 'v:\\\\temp\\\\access_log.db'"
   ]
  },
  {
   "cell_type": "code",
   "execution_count": 5,
   "metadata": {
    "collapsed": false
   },
   "outputs": [],
   "source": [
    "from sqlalchemy import create_engine"
   ]
  },
  {
   "cell_type": "code",
   "execution_count": 6,
   "metadata": {
    "collapsed": true
   },
   "outputs": [],
   "source": [
    "disk_engine = create_engine('sqlite:///'+sqlitedb)"
   ]
  },
  {
   "cell_type": "code",
   "execution_count": 25,
   "metadata": {
    "collapsed": true
   },
   "outputs": [],
   "source": [
    "sql = 'select src, dst, date, sum(total_size) from data group by src, dst, date'"
   ]
  },
  {
   "cell_type": "code",
   "execution_count": 26,
   "metadata": {
    "collapsed": false
   },
   "outputs": [],
   "source": [
    "df = pd.read_sql(sql, disk_engine)"
   ]
  },
  {
   "cell_type": "code",
   "execution_count": 27,
   "metadata": {
    "collapsed": false
   },
   "outputs": [
    {
     "data": {
      "text/html": [
       "<div style=\"max-height:1000px;max-width:1500px;overflow:auto;\">\n",
       "<table border=\"1\" class=\"dataframe\">\n",
       "  <thead>\n",
       "    <tr style=\"text-align: right;\">\n",
       "      <th></th>\n",
       "      <th>src</th>\n",
       "      <th>dst</th>\n",
       "      <th>date</th>\n",
       "      <th>sum(total_size)</th>\n",
       "    </tr>\n",
       "  </thead>\n",
       "  <tbody>\n",
       "    <tr>\n",
       "      <th>434457</th>\n",
       "      <td>172.20.78.248</td>\n",
       "      <td>210.184.45.54</td>\n",
       "      <td>2015-01-28</td>\n",
       "      <td>8874772515</td>\n",
       "    </tr>\n",
       "    <tr>\n",
       "      <th>526859</th>\n",
       "      <td>172.20.78.75</td>\n",
       "      <td>61.244.242.16</td>\n",
       "      <td>2015-10-09</td>\n",
       "      <td>8812135910</td>\n",
       "    </tr>\n",
       "    <tr>\n",
       "      <th>75523</th>\n",
       "      <td>172.20.68.21</td>\n",
       "      <td>172.20.78.33</td>\n",
       "      <td>2015-10-12</td>\n",
       "      <td>8477934532</td>\n",
       "    </tr>\n",
       "    <tr>\n",
       "      <th>75524</th>\n",
       "      <td>172.20.68.21</td>\n",
       "      <td>172.20.78.33</td>\n",
       "      <td>2015-10-13</td>\n",
       "      <td>8312708456</td>\n",
       "    </tr>\n",
       "    <tr>\n",
       "      <th>533914</th>\n",
       "      <td>172.20.78.76</td>\n",
       "      <td>121.121.16.132</td>\n",
       "      <td>2015-09-10</td>\n",
       "      <td>7893099304</td>\n",
       "    </tr>\n",
       "  </tbody>\n",
       "</table>\n",
       "</div>"
      ],
      "text/plain": [
       "                  src             dst        date  sum(total_size)\n",
       "434457  172.20.78.248   210.184.45.54  2015-01-28       8874772515\n",
       "526859   172.20.78.75   61.244.242.16  2015-10-09       8812135910\n",
       "75523    172.20.68.21    172.20.78.33  2015-10-12       8477934532\n",
       "75524    172.20.68.21    172.20.78.33  2015-10-13       8312708456\n",
       "533914   172.20.78.76  121.121.16.132  2015-09-10       7893099304"
      ]
     },
     "execution_count": 27,
     "metadata": {},
     "output_type": "execute_result"
    }
   ],
   "source": [
    "df.sort(['sum(total_size)'], ascending = False).head()"
   ]
  }
 ],
 "metadata": {
  "kernelspec": {
   "display_name": "Python 2",
   "language": "python",
   "name": "python2"
  },
  "language_info": {
   "codemirror_mode": {
    "name": "ipython",
    "version": 2
   },
   "file_extension": ".py",
   "mimetype": "text/x-python",
   "name": "python",
   "nbconvert_exporter": "python",
   "pygments_lexer": "ipython2",
   "version": "2.7.8"
  }
 },
 "nbformat": 4,
 "nbformat_minor": 0
}
