{
 "cells": [
  {
   "cell_type": "code",
   "execution_count": 35,
   "metadata": {
    "collapsed": true
   },
   "outputs": [],
   "source": [
    "from __future__ import division"
   ]
  },
  {
   "cell_type": "code",
   "execution_count": 36,
   "metadata": {
    "collapsed": false
   },
   "outputs": [],
   "source": [
    "import csv\n",
    "import pandas as pd\n",
    "import datetime\n",
    "import string\n",
    "import numpy as np\n",
    "import helper as hp\n",
    "import sq\n",
    "import jp\n",
    "import urllib"
   ]
  },
  {
   "cell_type": "code",
   "execution_count": 37,
   "metadata": {
    "collapsed": false
   },
   "outputs": [],
   "source": [
    "pd.set_option('display.max_columns', None)\n",
    "Gb = 1000000000"
   ]
  },
  {
   "cell_type": "code",
   "execution_count": 38,
   "metadata": {
    "collapsed": false
   },
   "outputs": [],
   "source": [
    "#store = pd.HDFStore('access_log.h5')"
   ]
  },
  {
   "cell_type": "code",
   "execution_count": 39,
   "metadata": {
    "collapsed": true
   },
   "outputs": [],
   "source": [
    "def get_server_from_URL(URLs):\n",
    "    result = []\n",
    "    \n",
    "    for u in URLs:\n",
    "        if u.startswith('http://'):\n",
    "            temp = u.split('http://')[1]\n",
    "            # further split on '/' character to return only server \n",
    "            result.append(temp.split('/')[0])\n",
    "        \n",
    "        elif u.startswith('http://'):\n",
    "            temp = u.split('https://')[1]\n",
    "            # further split on '/' character to return only server \n",
    "            result.append(temp.split('/')[0])\n",
    "        \n",
    "    return result"
   ]
  },
  {
   "cell_type": "code",
   "execution_count": 40,
   "metadata": {
    "collapsed": true
   },
   "outputs": [],
   "source": [
    "def remove_safe_site(URLs, safe_list):\n",
    "    result = []\n",
    "    for u in URLs:\n",
    "        m = False\n",
    "        for s in safe_list:\n",
    "            if s in u:\n",
    "                m = True\n",
    "                break\n",
    "                \n",
    "        if (m == False):\n",
    "            result.append(u)\n",
    "            \n",
    "    result = pd.Series(result).unique()\n",
    "        \n",
    "    return result            "
   ]
  },
  {
   "cell_type": "code",
   "execution_count": 41,
   "metadata": {
    "collapsed": true
   },
   "outputs": [],
   "source": [
    "def get_match_site(URLs, safe_list):\n",
    "    result = []\n",
    "    for u in URLs:\n",
    "        m = False\n",
    "        for s in safe_list:\n",
    "            if s in u:\n",
    "                m = True                \n",
    "                break\n",
    "                                \n",
    "        if (m == True):\n",
    "            result.append(u)\n",
    "            \n",
    "    result = pd.Series(result).unique()\n",
    "        \n",
    "    return result   "
   ]
  },
  {
   "cell_type": "code",
   "execution_count": 42,
   "metadata": {
    "collapsed": false
   },
   "outputs": [],
   "source": [
    "#squid = sq.read_squid_log('access.log')"
   ]
  },
  {
   "cell_type": "code",
   "execution_count": 43,
   "metadata": {
    "collapsed": false
   },
   "outputs": [],
   "source": [
    "#squid.tail()"
   ]
  },
  {
   "cell_type": "code",
   "execution_count": 44,
   "metadata": {
    "collapsed": true
   },
   "outputs": [],
   "source": [
    "#safe_websites = 'google|microsoft|trendmicro|gstatic.com|bdpinsight.eu|.gov.hk'"
   ]
  },
  {
   "cell_type": "code",
   "execution_count": 45,
   "metadata": {
    "collapsed": false
   },
   "outputs": [],
   "source": [
    "#access = squid[squid['URL'].str.contains(safe_websites) == False]"
   ]
  },
  {
   "cell_type": "code",
   "execution_count": 46,
   "metadata": {
    "collapsed": false
   },
   "outputs": [],
   "source": [
    "#sum(squid.bytes)/Gb"
   ]
  },
  {
   "cell_type": "code",
   "execution_count": 89,
   "metadata": {
    "collapsed": true
   },
   "outputs": [],
   "source": [
    "def juniper_log_cleansing(x):\n",
    "    if str(x).find('=') > 0:\n",
    "        return str(x)[str(x).find('=')+1:]\n",
    "    elif str(x).find(':') > 0:\n",
    "        return str(x)[:str(x).find(':')]    \n",
    "    else:\n",
    "        return x\n",
    "\n",
    "def read_syslog_juniper(filename):\n",
    "    \n",
    "    #if (filename)[-3:] == '.gz':\n",
    "    #    f = hp.open_gz(filename)\n",
    "    #elif (filename)[-6:] == 'tar.gz':\n",
    "    #    f = hp.open_tar_gz(filename)\n",
    "    #else:\n",
    "    #    f = hp.open_txt(filename)\n",
    "    \n",
    "    chunksize = 20000\n",
    "    total_chunksize = 0\n",
    "    \n",
    "    #df =  pd.read_csv('311_100M.csv', chunksize=chunksize, iterator=True, encoding='utf-8'):\n",
    "    df = pd.DataFrame()\n",
    "    \n",
    "    for c in pd.read_table(filename, sep=' {1,}|\"', chunksize=chunksize, iterator=True, engine='python', index_col=False, header=None, parse_dates=[[0, 1, 2], [9,10]]):\n",
    "            df = pd.concat([df, c])\n",
    "            total_chunksize += chunksize\n",
    "            print(str(total_chunksize) + \" processed.\")\n",
    "    \n",
    "    df = df[df[7].str.contains('information') == False]\n",
    "    \n",
    "    # restructure the dataframe\n",
    "    i = [0]\n",
    "    i.extend(range(3, 4))\n",
    "    i.extend([1])\n",
    "    i.extend(range(9, 13))\n",
    "    i.extend([14])\n",
    "    i.extend([16])\n",
    "    i.extend(range(17, 25))\n",
    "    df = df.iloc[:, i]\n",
    "    \n",
    "    df.columns = ['time', 'device_name', 'traffic_start', 'duration', 'policy_no', 'service', 'protocol', 'src_zone', 'dst_zone', 'action', 'sent_size', 'received_size', 'src_address', 'dst_address', 'src_port', 'dst_port', 'remarks']\n",
    "    df[['device_name', 'duration', 'policy_no', 'service', 'protocol', 'src_zone', 'dst_zone', 'action', 'sent_size', 'received_size', 'src_address', 'dst_address', 'src_port', 'dst_port']] = df[['device_name', 'duration', 'policy_no', 'service', 'protocol', 'src_zone', 'dst_zone', 'action', 'sent_size', 'received_size', 'src_address', 'dst_address', 'src_port', 'dst_port']].applymap(juniper_log_cleansing)\n",
    "    \n",
    "    return df"
   ]
  },
  {
   "cell_type": "code",
   "execution_count": 93,
   "metadata": {
    "collapsed": true
   },
   "outputs": [],
   "source": [
    "infile = \"C:\\Temp\\hk-ssg140.log-20150918\""
   ]
  },
  {
   "cell_type": "code",
   "execution_count": 94,
   "metadata": {
    "collapsed": false,
    "scrolled": true
   },
   "outputs": [
    {
     "name": "stdout",
     "output_type": "stream",
     "text": [
      "20000 processed.\n",
      "40000 processed.\n",
      "60000 processed.\n",
      "80000 processed.\n",
      "100000 processed.\n",
      "120000 processed.\n",
      "140000 processed.\n",
      "160000 processed.\n",
      "180000 processed.\n",
      "200000 processed.\n",
      "220000 processed.\n",
      "240000 processed.\n",
      "260000 processed.\n",
      "280000 processed.\n",
      "300000 processed.\n",
      "320000 processed.\n",
      "340000 processed.\n",
      "360000 processed.\n",
      "380000 processed.\n",
      "400000 processed.\n",
      "420000 processed.\n",
      "440000 processed.\n",
      "460000 processed.\n",
      "480000 processed.\n",
      "500000 processed.\n",
      "520000 processed.\n",
      "540000 processed.\n",
      "560000 processed.\n",
      "580000 processed.\n",
      "600000 processed.\n",
      "620000 processed.\n",
      "640000 processed.\n",
      "660000 processed.\n",
      "680000 processed.\n",
      "700000 processed.\n",
      "720000 processed.\n",
      "740000 processed.\n",
      "760000 processed.\n",
      "780000 processed.\n",
      "800000 processed.\n",
      "820000 processed.\n",
      "840000 processed.\n",
      "860000 processed.\n",
      "880000 processed.\n",
      "900000 processed.\n",
      "920000 processed.\n",
      "940000 processed.\n",
      "960000 processed.\n",
      "980000 processed.\n",
      "1000000 processed.\n",
      "1020000 processed.\n",
      "1040000 processed.\n",
      "1060000 processed.\n",
      "1080000 processed.\n",
      "1100000 processed.\n",
      "1120000 processed.\n",
      "1140000 processed.\n",
      "1160000 processed.\n",
      "1180000 processed.\n",
      "1200000 processed.\n",
      "1220000 processed.\n",
      "1240000 processed.\n",
      "1260000 processed.\n",
      "1280000 processed.\n",
      "1300000 processed.\n",
      "1320000 processed.\n",
      "1340000 processed.\n",
      "1360000 processed.\n",
      "1380000 processed.\n",
      "1400000 processed.\n",
      "1420000 processed.\n",
      "1440000 processed.\n",
      "1460000 processed.\n",
      "1480000 processed.\n",
      "1500000 processed.\n",
      "1520000 processed.\n",
      "1540000 processed.\n",
      "1560000 processed.\n",
      "1580000 processed.\n"
     ]
    }
   ],
   "source": [
    "juniper = read_syslog_juniper(infile)"
   ]
  },
  {
   "cell_type": "code",
   "execution_count": 97,
   "metadata": {
    "collapsed": false,
    "scrolled": true
   },
   "outputs": [
    {
     "data": {
      "text/html": [
       "<div style=\"max-height:1000px;max-width:1500px;overflow:auto;\">\n",
       "<table border=\"1\" class=\"dataframe\">\n",
       "  <thead>\n",
       "    <tr style=\"text-align: right;\">\n",
       "      <th></th>\n",
       "      <th>time</th>\n",
       "      <th>device_name</th>\n",
       "      <th>traffic_start</th>\n",
       "      <th>duration</th>\n",
       "      <th>policy_no</th>\n",
       "      <th>service</th>\n",
       "      <th>protocol</th>\n",
       "      <th>src_zone</th>\n",
       "      <th>dst_zone</th>\n",
       "      <th>action</th>\n",
       "      <th>sent_size</th>\n",
       "      <th>received_size</th>\n",
       "      <th>src_address</th>\n",
       "      <th>dst_address</th>\n",
       "      <th>src_port</th>\n",
       "      <th>dst_port</th>\n",
       "      <th>remarks</th>\n",
       "    </tr>\n",
       "  </thead>\n",
       "  <tbody>\n",
       "    <tr>\n",
       "      <th>0</th>\n",
       "      <td>2015-09-17 04:02:02</td>\n",
       "      <td> hk-SSG140</td>\n",
       "      <td> 2015-09-17 04:13:57</td>\n",
       "      <td> 0</td>\n",
       "      <td>  29</td>\n",
       "      <td>            dns</td>\n",
       "      <td> 17</td>\n",
       "      <td> HK-LAN</td>\n",
       "      <td> Untrust</td>\n",
       "      <td> Permit</td>\n",
       "      <td>    0</td>\n",
       "      <td>    0</td>\n",
       "      <td>   172.20.78.20</td>\n",
       "      <td>  216.69.185.8</td>\n",
       "      <td> 57524</td>\n",
       "      <td>    53</td>\n",
       "      <td>   src-xlated</td>\n",
       "    </tr>\n",
       "    <tr>\n",
       "      <th>1</th>\n",
       "      <td>2015-09-17 04:02:02</td>\n",
       "      <td> hk-SSG140</td>\n",
       "      <td> 2015-09-17 04:13:57</td>\n",
       "      <td> 0</td>\n",
       "      <td>  29</td>\n",
       "      <td>            dns</td>\n",
       "      <td> 17</td>\n",
       "      <td> HK-LAN</td>\n",
       "      <td> Untrust</td>\n",
       "      <td> Permit</td>\n",
       "      <td>    0</td>\n",
       "      <td>    0</td>\n",
       "      <td>   172.20.78.20</td>\n",
       "      <td>  192.33.14.30</td>\n",
       "      <td> 57436</td>\n",
       "      <td>    53</td>\n",
       "      <td>   src-xlated</td>\n",
       "    </tr>\n",
       "    <tr>\n",
       "      <th>3</th>\n",
       "      <td>2015-09-17 04:02:02</td>\n",
       "      <td> hk-SSG140</td>\n",
       "      <td> 2015-09-17 04:13:57</td>\n",
       "      <td> 0</td>\n",
       "      <td>  37</td>\n",
       "      <td>           snmp</td>\n",
       "      <td> 17</td>\n",
       "      <td> HK-DMZ</td>\n",
       "      <td>  HK-LAN</td>\n",
       "      <td>   Deny</td>\n",
       "      <td>    0</td>\n",
       "      <td>   50</td>\n",
       "      <td> 172.21.200.230</td>\n",
       "      <td> 172.20.78.123</td>\n",
       "      <td> 50835</td>\n",
       "      <td>   161</td>\n",
       "      <td> session_id=0</td>\n",
       "    </tr>\n",
       "    <tr>\n",
       "      <th>4</th>\n",
       "      <td>2015-09-17 04:02:03</td>\n",
       "      <td> hk-SSG140</td>\n",
       "      <td> 2015-09-17 04:13:56</td>\n",
       "      <td> 3</td>\n",
       "      <td>  38</td>\n",
       "      <td>          https</td>\n",
       "      <td>  6</td>\n",
       "      <td> HK-LAN</td>\n",
       "      <td>  HK-DMZ</td>\n",
       "      <td> Permit</td>\n",
       "      <td> 1271</td>\n",
       "      <td> 2001</td>\n",
       "      <td>   172.20.78.77</td>\n",
       "      <td>  172.20.113.3</td>\n",
       "      <td> 58776</td>\n",
       "      <td>   443</td>\n",
       "      <td>   src-xlated</td>\n",
       "    </tr>\n",
       "    <tr>\n",
       "      <th>5</th>\n",
       "      <td>2015-09-17 04:02:03</td>\n",
       "      <td> hk-SSG140</td>\n",
       "      <td> 2015-09-17 04:13:56</td>\n",
       "      <td> 3</td>\n",
       "      <td> 470</td>\n",
       "      <td> tcp/port:47337</td>\n",
       "      <td>  6</td>\n",
       "      <td> HK-LAN</td>\n",
       "      <td>  HK-DMZ</td>\n",
       "      <td> Permit</td>\n",
       "      <td>   95</td>\n",
       "      <td>   58</td>\n",
       "      <td>  172.20.78.115</td>\n",
       "      <td>  172.24.66.31</td>\n",
       "      <td>   443</td>\n",
       "      <td> 47337</td>\n",
       "      <td>   src-xlated</td>\n",
       "    </tr>\n",
       "  </tbody>\n",
       "</table>\n",
       "</div>"
      ],
      "text/plain": [
       "                 time device_name        traffic_start duration policy_no  \\\n",
       "0 2015-09-17 04:02:02   hk-SSG140  2015-09-17 04:13:57        0        29   \n",
       "1 2015-09-17 04:02:02   hk-SSG140  2015-09-17 04:13:57        0        29   \n",
       "3 2015-09-17 04:02:02   hk-SSG140  2015-09-17 04:13:57        0        37   \n",
       "4 2015-09-17 04:02:03   hk-SSG140  2015-09-17 04:13:56        3        38   \n",
       "5 2015-09-17 04:02:03   hk-SSG140  2015-09-17 04:13:56        3       470   \n",
       "\n",
       "          service protocol src_zone dst_zone  action sent_size received_size  \\\n",
       "0             dns       17   HK-LAN  Untrust  Permit         0             0   \n",
       "1             dns       17   HK-LAN  Untrust  Permit         0             0   \n",
       "3            snmp       17   HK-DMZ   HK-LAN    Deny         0            50   \n",
       "4           https        6   HK-LAN   HK-DMZ  Permit      1271          2001   \n",
       "5  tcp/port:47337        6   HK-LAN   HK-DMZ  Permit        95            58   \n",
       "\n",
       "      src_address    dst_address src_port dst_port       remarks  \n",
       "0    172.20.78.20   216.69.185.8    57524       53    src-xlated  \n",
       "1    172.20.78.20   192.33.14.30    57436       53    src-xlated  \n",
       "3  172.21.200.230  172.20.78.123    50835      161  session_id=0  \n",
       "4    172.20.78.77   172.20.113.3    58776      443    src-xlated  \n",
       "5   172.20.78.115   172.24.66.31      443    47337    src-xlated  "
      ]
     },
     "execution_count": 97,
     "metadata": {},
     "output_type": "execute_result"
    }
   ],
   "source": [
    "juniper.head()"
   ]
  }
 ],
 "metadata": {
  "kernelspec": {
   "display_name": "Python 2",
   "language": "python",
   "name": "python2"
  },
  "language_info": {
   "codemirror_mode": {
    "name": "ipython",
    "version": 2
   },
   "file_extension": ".py",
   "mimetype": "text/x-python",
   "name": "python",
   "nbconvert_exporter": "python",
   "pygments_lexer": "ipython2",
   "version": "2.7.7"
  }
 },
 "nbformat": 4,
 "nbformat_minor": 0
}
