{
 "cells": [
  {
   "cell_type": "code",
   "execution_count": 13,
   "metadata": {
    "collapsed": true
   },
   "outputs": [],
   "source": [
    "from __future__ import division"
   ]
  },
  {
   "cell_type": "code",
   "execution_count": 14,
   "metadata": {
    "collapsed": false
   },
   "outputs": [],
   "source": [
    "import csv\n",
    "import pandas as pd\n",
    "import datetime\n",
    "import string\n",
    "import numpy as np\n",
    "import helper as hp\n",
    "import sq\n",
    "import jp"
   ]
  },
  {
   "cell_type": "code",
   "execution_count": 15,
   "metadata": {
    "collapsed": true
   },
   "outputs": [],
   "source": [
    "Gb = 1000000000"
   ]
  },
  {
   "cell_type": "code",
   "execution_count": 16,
   "metadata": {
    "collapsed": false
   },
   "outputs": [],
   "source": [
    "#store = pd.HDFStore('access_log.h5')"
   ]
  },
  {
   "cell_type": "code",
   "execution_count": 17,
   "metadata": {
    "collapsed": true
   },
   "outputs": [],
   "source": [
    "def get_server_from_URL(URLs):\n",
    "    result = []\n",
    "    \n",
    "    for u in URLs:\n",
    "        if u.startswith('http://'):\n",
    "            temp = u.split('http://')[1]\n",
    "            # further split on '/' character to return only server \n",
    "            result.append(temp.split('/')[0])\n",
    "        \n",
    "        elif u.startswith('http://'):\n",
    "            temp = u.split('https://')[1]\n",
    "            # further split on '/' character to return only server \n",
    "            result.append(temp.split('/')[0])\n",
    "        \n",
    "    return result"
   ]
  },
  {
   "cell_type": "code",
   "execution_count": 18,
   "metadata": {
    "collapsed": true
   },
   "outputs": [],
   "source": [
    "def remove_safe_site(URLs, safe_list):\n",
    "    result = []\n",
    "    for u in URLs:\n",
    "        m = False\n",
    "        for s in safe_list:\n",
    "            if s in u:\n",
    "                m = True\n",
    "                break\n",
    "                \n",
    "        if (m == False):\n",
    "            result.append(u)\n",
    "            \n",
    "    result = pd.Series(result).unique()\n",
    "        \n",
    "    return result            "
   ]
  },
  {
   "cell_type": "code",
   "execution_count": 19,
   "metadata": {
    "collapsed": true
   },
   "outputs": [],
   "source": [
    "def get_match_site(URLs, safe_list):\n",
    "    result = []\n",
    "    for u in URLs:\n",
    "        m = False\n",
    "        for s in safe_list:\n",
    "            if s in u:\n",
    "                m = True                \n",
    "                break\n",
    "                                \n",
    "        if (m == True):\n",
    "            result.append(u)\n",
    "            \n",
    "    result = pd.Series(result).unique()\n",
    "        \n",
    "    return result   "
   ]
  },
  {
   "cell_type": "code",
   "execution_count": 20,
   "metadata": {
    "collapsed": false
   },
   "outputs": [],
   "source": [
    "#result = []\n",
    "\n",
    "#f = hp.open_tar_gz('sgkc-ssg140.log-20150610.tar.gz')\n",
    "\n",
    "#f = f[0].split('\\n')"
   ]
  },
  {
   "cell_type": "code",
   "execution_count": 21,
   "metadata": {
    "collapsed": false
   },
   "outputs": [],
   "source": [
    "#sample = f[0]\n",
    "#sample"
   ]
  },
  {
   "cell_type": "code",
   "execution_count": 22,
   "metadata": {
    "collapsed": false
   },
   "outputs": [],
   "source": [
    "def process_juniper_line(line):\n",
    "    result = []\n",
    "    line = hp.remove_duplicate_spaces(line).split(' ')\n",
    "    result.append(line[0] + ' ' + line[1] + ' ' + line[2])\n",
    "    result.append(line[3])\n",
    "    result.append(line[4] + ' ' + line[5])\n",
    "    result.append(line[6])\n",
    "    result.append(line[8] + ' ' + line[9])\n",
    "    for i in range(10, 13):\n",
    "        result.append(line[i])\n",
    "    result.append(line[14] + ' ' + line[15])    \n",
    "    result.append(line[16] + ' ' + line[17])\n",
    "    for i in range(18, 25):\n",
    "        result.append(line[i])\n",
    "    result.append(line[26] + ' ' + line[27]) \n",
    "    result.append(line[28] + ' ' + line[29]) \n",
    "    for i in range(30, len(line) - 4):\n",
    "        result.append(line[i])\n",
    "    result.append(line[32] + ' ' + line[33] + ' ' + line[34] + ' ' + line[35])\n",
    "    return result"
   ]
  },
  {
   "cell_type": "code",
   "execution_count": 23,
   "metadata": {
    "collapsed": false
   },
   "outputs": [],
   "source": [
    "squid = sq.read_squid_log('access.log')"
   ]
  },
  {
   "cell_type": "code",
   "execution_count": 24,
   "metadata": {
    "collapsed": false
   },
   "outputs": [
    {
     "data": {
      "text/html": [
       "<div style=\"max-height:1000px;max-width:1500px;overflow:auto;\">\n",
       "<table border=\"1\" class=\"dataframe\">\n",
       "  <thead>\n",
       "    <tr style=\"text-align: right;\">\n",
       "      <th></th>\n",
       "      <th>date</th>\n",
       "      <th>duration</th>\n",
       "      <th>client_address</th>\n",
       "      <th>result_code</th>\n",
       "      <th>bytes</th>\n",
       "      <th>method</th>\n",
       "      <th>URL</th>\n",
       "      <th>hierarchy</th>\n",
       "      <th>type</th>\n",
       "    </tr>\n",
       "  </thead>\n",
       "  <tbody>\n",
       "    <tr>\n",
       "      <th>521551</th>\n",
       "      <td>2015-09-17 03:45:58.797000</td>\n",
       "      <td>0</td>\n",
       "      <td>172.20.78.98</td>\n",
       "      <td>TCP_DENIED/403</td>\n",
       "      <td>3794</td>\n",
       "      <td>GET</td>\n",
       "      <td>http://js.tongji.linezing.com/2112694/tongji.js</td>\n",
       "      <td>HIER_NONE/-</td>\n",
       "      <td>text/html</td>\n",
       "    </tr>\n",
       "    <tr>\n",
       "      <th>521552</th>\n",
       "      <td>2015-09-17 03:45:59.384000</td>\n",
       "      <td>1</td>\n",
       "      <td>172.20.78.167</td>\n",
       "      <td>TCP_DENIED/403</td>\n",
       "      <td>4026</td>\n",
       "      <td>GET</td>\n",
       "      <td>http://csm90-en.url.trendmicro.com/T/152/Q0c96...</td>\n",
       "      <td>HIER_NONE/-</td>\n",
       "      <td>text/html</td>\n",
       "    </tr>\n",
       "    <tr>\n",
       "      <th>521553</th>\n",
       "      <td>2015-09-17 03:46:00.733000</td>\n",
       "      <td>4736</td>\n",
       "      <td>172.20.114.37</td>\n",
       "      <td>TCP_MISS/200</td>\n",
       "      <td>0</td>\n",
       "      <td>CONNECT</td>\n",
       "      <td>www.bdpinsight.eu:443</td>\n",
       "      <td>HIER_DIRECT/190.93.241.58</td>\n",
       "      <td>-</td>\n",
       "    </tr>\n",
       "    <tr>\n",
       "      <th>521554</th>\n",
       "      <td>2015-09-17 03:46:00.734000</td>\n",
       "      <td>0</td>\n",
       "      <td>172.20.78.167</td>\n",
       "      <td>TCP_DENIED/403</td>\n",
       "      <td>3892</td>\n",
       "      <td>GET</td>\n",
       "      <td>http://csm90-en.url.trendmicro.com/T/108/2uHnX...</td>\n",
       "      <td>HIER_NONE/-</td>\n",
       "      <td>text/html</td>\n",
       "    </tr>\n",
       "    <tr>\n",
       "      <th>521555</th>\n",
       "      <td>2015-09-17 03:46:01.632000</td>\n",
       "      <td>0</td>\n",
       "      <td>172.20.78.167</td>\n",
       "      <td>TCP_DENIED/403</td>\n",
       "      <td>4142</td>\n",
       "      <td>GET</td>\n",
       "      <td>http://csm90-en.url.trendmicro.com/T/192/Q0c96...</td>\n",
       "      <td>HIER_NONE/-</td>\n",
       "      <td>text/html</td>\n",
       "    </tr>\n",
       "  </tbody>\n",
       "</table>\n",
       "</div>"
      ],
      "text/plain": [
       "                             date  duration client_address     result_code  \\\n",
       "521551 2015-09-17 03:45:58.797000         0   172.20.78.98  TCP_DENIED/403   \n",
       "521552 2015-09-17 03:45:59.384000         1  172.20.78.167  TCP_DENIED/403   \n",
       "521553 2015-09-17 03:46:00.733000      4736  172.20.114.37    TCP_MISS/200   \n",
       "521554 2015-09-17 03:46:00.734000         0  172.20.78.167  TCP_DENIED/403   \n",
       "521555 2015-09-17 03:46:01.632000         0  172.20.78.167  TCP_DENIED/403   \n",
       "\n",
       "        bytes   method                                                URL  \\\n",
       "521551   3794      GET    http://js.tongji.linezing.com/2112694/tongji.js   \n",
       "521552   4026      GET  http://csm90-en.url.trendmicro.com/T/152/Q0c96...   \n",
       "521553      0  CONNECT                              www.bdpinsight.eu:443   \n",
       "521554   3892      GET  http://csm90-en.url.trendmicro.com/T/108/2uHnX...   \n",
       "521555   4142      GET  http://csm90-en.url.trendmicro.com/T/192/Q0c96...   \n",
       "\n",
       "                        hierarchy       type  \n",
       "521551                HIER_NONE/-  text/html  \n",
       "521552                HIER_NONE/-  text/html  \n",
       "521553  HIER_DIRECT/190.93.241.58          -  \n",
       "521554                HIER_NONE/-  text/html  \n",
       "521555                HIER_NONE/-  text/html  "
      ]
     },
     "execution_count": 24,
     "metadata": {},
     "output_type": "execute_result"
    }
   ],
   "source": [
    "squid.tail()"
   ]
  },
  {
   "cell_type": "code",
   "execution_count": 25,
   "metadata": {
    "collapsed": true
   },
   "outputs": [],
   "source": [
    "safe_websites = 'google|microsoft|trendmicro|gstatic.com|bdpinsight.eu|.gov.hk'"
   ]
  },
  {
   "cell_type": "code",
   "execution_count": 26,
   "metadata": {
    "collapsed": false
   },
   "outputs": [],
   "source": [
    "access = squid[squid['URL'].str.contains(safe_websites) == False]"
   ]
  },
  {
   "cell_type": "code",
   "execution_count": 27,
   "metadata": {
    "collapsed": false
   },
   "outputs": [
    {
     "data": {
      "text/plain": [
       "15.718760193"
      ]
     },
     "execution_count": 27,
     "metadata": {},
     "output_type": "execute_result"
    }
   ],
   "source": [
    "sum(squid.bytes)/Gb"
   ]
  },
  {
   "cell_type": "code",
   "execution_count": 28,
   "metadata": {
    "collapsed": false
   },
   "outputs": [],
   "source": [
    "#store.put('GZ', squid, format='table')\n",
    "#store"
   ]
  },
  {
   "cell_type": "code",
   "execution_count": 29,
   "metadata": {
    "collapsed": false
   },
   "outputs": [],
   "source": [
    "#df = []"
   ]
  },
  {
   "cell_type": "code",
   "execution_count": 30,
   "metadata": {
    "collapsed": false
   },
   "outputs": [],
   "source": [
    "#store.open()"
   ]
  },
  {
   "cell_type": "code",
   "execution_count": 31,
   "metadata": {
    "collapsed": false
   },
   "outputs": [],
   "source": [
    "#pd.read_table"
   ]
  },
  {
   "cell_type": "code",
   "execution_count": 32,
   "metadata": {
    "collapsed": false
   },
   "outputs": [],
   "source": [
    "#squid.h"
   ]
  },
  {
   "cell_type": "code",
   "execution_count": 33,
   "metadata": {
    "collapsed": false
   },
   "outputs": [],
   "source": [
    "#np.max(squid['bytes'])"
   ]
  },
  {
   "cell_type": "code",
   "execution_count": 34,
   "metadata": {
    "collapsed": false
   },
   "outputs": [],
   "source": [
    "#squid.head()"
   ]
  },
  {
   "cell_type": "code",
   "execution_count": 35,
   "metadata": {
    "collapsed": false
   },
   "outputs": [],
   "source": [
    "#URL = squid[squid['time'] > '2015-06-05 09:00:00']['URL']\n",
    "#URL = squid[squid['client_address'] == '172.20.70.89']['URL']\n",
    "#URL = squid['URL']"
   ]
  },
  {
   "cell_type": "code",
   "execution_count": 36,
   "metadata": {
    "collapsed": false
   },
   "outputs": [],
   "source": [
    "#server = get_server_from_URL(URL)"
   ]
  },
  {
   "cell_type": "code",
   "execution_count": 37,
   "metadata": {
    "collapsed": false
   },
   "outputs": [],
   "source": [
    "#question_url = remove_safe_site(server, ['qq.com', 'bdpint.com', 'sogou.com', 'sohu.com', 'trendmicro.com'])"
   ]
  },
  {
   "cell_type": "code",
   "execution_count": 38,
   "metadata": {
    "collapsed": false
   },
   "outputs": [],
   "source": [
    "#np.mean(squid['bytes'])"
   ]
  },
  {
   "cell_type": "code",
   "execution_count": 39,
   "metadata": {
    "collapsed": false
   },
   "outputs": [],
   "source": [
    "#squid.to_csv('20150601004228-20150608105645.csv', index=False)"
   ]
  },
  {
   "cell_type": "code",
   "execution_count": 70,
   "metadata": {
    "collapsed": true
   },
   "outputs": [],
   "source": [
    "def read_syslog_juniper(filename, filter=None):\n",
    "    result = []\n",
    "    \n",
    "    #if (filename)[-3:] == '.gz':\n",
    "    #    f = hp.open_gz(filename)\n",
    "    #elif (filename)[-6:] == 'tar.gz':\n",
    "    #    f = hp.open_tar_gz(filename)\n",
    "    #else:\n",
    "    #    f = hp.open_txt(filename)\n",
    "    \n",
    "    #f = f.split('\\n')\n",
    "    \n",
    "    df = pd.read_table(filename, sep=' {1,}', engine='python', index_col=False, header=None, parse_dates=[0])\n",
    "    \n",
    "    #return df\n",
    "    return df"
   ]
  },
  {
   "cell_type": "code",
   "execution_count": 71,
   "metadata": {
    "collapsed": false
   },
   "outputs": [],
   "source": [
    "jp = read_syslog_juniper('hk-ssg140.1.log')"
   ]
  },
  {
   "cell_type": "code",
   "execution_count": 72,
   "metadata": {
    "collapsed": false
   },
   "outputs": [
    {
     "data": {
      "text/html": [
       "<div style=\"max-height:1000px;max-width:1500px;overflow:auto;\">\n",
       "<table border=\"1\" class=\"dataframe\">\n",
       "  <thead>\n",
       "    <tr style=\"text-align: right;\">\n",
       "      <th></th>\n",
       "      <th>0</th>\n",
       "      <th>1</th>\n",
       "      <th>2</th>\n",
       "      <th>3</th>\n",
       "      <th>4</th>\n",
       "      <th>5</th>\n",
       "      <th>6</th>\n",
       "      <th>7</th>\n",
       "      <th>8</th>\n",
       "      <th>9</th>\n",
       "      <th>...</th>\n",
       "      <th>26</th>\n",
       "      <th>27</th>\n",
       "      <th>28</th>\n",
       "      <th>29</th>\n",
       "      <th>30</th>\n",
       "      <th>31</th>\n",
       "      <th>32</th>\n",
       "      <th>33</th>\n",
       "      <th>34</th>\n",
       "      <th>35</th>\n",
       "    </tr>\n",
       "  </thead>\n",
       "  <tbody>\n",
       "    <tr>\n",
       "      <th>0</th>\n",
       "      <td>2015-09-18</td>\n",
       "      <td>18</td>\n",
       "      <td>03:34:04</td>\n",
       "      <td>172.20.68.4</td>\n",
       "      <td>hk-SSG140:</td>\n",
       "      <td>NetScreen</td>\n",
       "      <td>device_id=hk-SSG140</td>\n",
       "      <td>[Root]system-notification-00257(traffic):</td>\n",
       "      <td>start_time=\"2015-09-18</td>\n",
       "      <td>03:45:52\"</td>\n",
       "      <td>...</td>\n",
       "      <td>ip=172.20.68.77</td>\n",
       "      <td>port=50863</td>\n",
       "      <td>dst-xlated</td>\n",
       "      <td>ip=172.20.113.3</td>\n",
       "      <td>port=443</td>\n",
       "      <td>session_id=40329</td>\n",
       "      <td>reason=Close</td>\n",
       "      <td>-</td>\n",
       "      <td>TCP</td>\n",
       "      <td>RST</td>\n",
       "    </tr>\n",
       "    <tr>\n",
       "      <th>1</th>\n",
       "      <td>2015-09-18</td>\n",
       "      <td>18</td>\n",
       "      <td>03:34:04</td>\n",
       "      <td>172.20.68.4</td>\n",
       "      <td>hk-SSG140:</td>\n",
       "      <td>NetScreen</td>\n",
       "      <td>device_id=hk-SSG140</td>\n",
       "      <td>[Root]system-notification-00257(traffic):</td>\n",
       "      <td>start_time=\"2015-09-18</td>\n",
       "      <td>03:45:54\"</td>\n",
       "      <td>...</td>\n",
       "      <td>ip=172.20.78.2</td>\n",
       "      <td>port=2490</td>\n",
       "      <td>dst-xlated</td>\n",
       "      <td>ip=172.20.78.20</td>\n",
       "      <td>port=8059</td>\n",
       "      <td>session_id=38500</td>\n",
       "      <td>reason=Close</td>\n",
       "      <td>-</td>\n",
       "      <td>TCP</td>\n",
       "      <td>FIN</td>\n",
       "    </tr>\n",
       "    <tr>\n",
       "      <th>2</th>\n",
       "      <td>2015-09-18</td>\n",
       "      <td>18</td>\n",
       "      <td>03:34:04</td>\n",
       "      <td>172.20.68.4</td>\n",
       "      <td>hk-SSG140:</td>\n",
       "      <td>NetScreen</td>\n",
       "      <td>device_id=hk-SSG140</td>\n",
       "      <td>[Root]system-notification-00257(traffic):</td>\n",
       "      <td>start_time=\"2015-09-18</td>\n",
       "      <td>03:45:53\"</td>\n",
       "      <td>...</td>\n",
       "      <td>code=0</td>\n",
       "      <td>src-xlated</td>\n",
       "      <td>ip=172.24.66.31</td>\n",
       "      <td>dst-xlated</td>\n",
       "      <td>ip=172.20.78.35</td>\n",
       "      <td>session_id=37797</td>\n",
       "      <td>reason=Close</td>\n",
       "      <td>-</td>\n",
       "      <td>RESP</td>\n",
       "      <td>None</td>\n",
       "    </tr>\n",
       "    <tr>\n",
       "      <th>3</th>\n",
       "      <td>2015-09-18</td>\n",
       "      <td>18</td>\n",
       "      <td>03:34:04</td>\n",
       "      <td>172.20.68.4</td>\n",
       "      <td>hk-SSG140:</td>\n",
       "      <td>NetScreen</td>\n",
       "      <td>device_id=hk-SSG140</td>\n",
       "      <td>[Root]system-notification-00257(traffic):</td>\n",
       "      <td>start_time=\"2015-09-18</td>\n",
       "      <td>03:45:55\"</td>\n",
       "      <td>...</td>\n",
       "      <td>ip=202.77.48.25</td>\n",
       "      <td>port=10926</td>\n",
       "      <td>dst-xlated</td>\n",
       "      <td>ip=202.14.67.4</td>\n",
       "      <td>port=53</td>\n",
       "      <td>session_id=42617</td>\n",
       "      <td>reason=Close</td>\n",
       "      <td>-</td>\n",
       "      <td>RESP</td>\n",
       "      <td>None</td>\n",
       "    </tr>\n",
       "    <tr>\n",
       "      <th>4</th>\n",
       "      <td>2015-09-18</td>\n",
       "      <td>18</td>\n",
       "      <td>03:34:04</td>\n",
       "      <td>172.20.68.4</td>\n",
       "      <td>hk-SSG140:</td>\n",
       "      <td>NetScreen</td>\n",
       "      <td>device_id=hk-SSG140</td>\n",
       "      <td>[Root]system-notification-00257(traffic):</td>\n",
       "      <td>start_time=\"2015-09-18</td>\n",
       "      <td>03:45:55\"</td>\n",
       "      <td>...</td>\n",
       "      <td>ip=202.77.48.25</td>\n",
       "      <td>port=21265</td>\n",
       "      <td>dst-xlated</td>\n",
       "      <td>ip=192.48.79.30</td>\n",
       "      <td>port=53</td>\n",
       "      <td>session_id=37258</td>\n",
       "      <td>reason=Close</td>\n",
       "      <td>-</td>\n",
       "      <td>RESP</td>\n",
       "      <td>None</td>\n",
       "    </tr>\n",
       "    <tr>\n",
       "      <th>5</th>\n",
       "      <td>2015-09-18</td>\n",
       "      <td>18</td>\n",
       "      <td>03:34:04</td>\n",
       "      <td>172.20.68.4</td>\n",
       "      <td>hk-SSG140:</td>\n",
       "      <td>NetScreen</td>\n",
       "      <td>device_id=hk-SSG140</td>\n",
       "      <td>[Root]system-notification-00257(traffic):</td>\n",
       "      <td>start_time=\"2015-09-18</td>\n",
       "      <td>03:45:55\"</td>\n",
       "      <td>...</td>\n",
       "      <td>ip=202.77.48.25</td>\n",
       "      <td>port=16469</td>\n",
       "      <td>dst-xlated</td>\n",
       "      <td>ip=8.8.8.8</td>\n",
       "      <td>port=53</td>\n",
       "      <td>session_id=45254</td>\n",
       "      <td>reason=Close</td>\n",
       "      <td>-</td>\n",
       "      <td>RESP</td>\n",
       "      <td>None</td>\n",
       "    </tr>\n",
       "    <tr>\n",
       "      <th>6</th>\n",
       "      <td>2015-09-18</td>\n",
       "      <td>18</td>\n",
       "      <td>03:34:04</td>\n",
       "      <td>172.20.68.4</td>\n",
       "      <td>hk-SSG140:</td>\n",
       "      <td>NetScreen</td>\n",
       "      <td>device_id=hk-SSG140</td>\n",
       "      <td>[Root]system-notification-00257(traffic):</td>\n",
       "      <td>start_time=\"2015-09-18</td>\n",
       "      <td>03:45:55\"</td>\n",
       "      <td>...</td>\n",
       "      <td>ip=202.77.48.25</td>\n",
       "      <td>port=31815</td>\n",
       "      <td>dst-xlated</td>\n",
       "      <td>ip=208.109.255.8</td>\n",
       "      <td>port=53</td>\n",
       "      <td>session_id=44427</td>\n",
       "      <td>reason=Close</td>\n",
       "      <td>-</td>\n",
       "      <td>RESP</td>\n",
       "      <td>None</td>\n",
       "    </tr>\n",
       "    <tr>\n",
       "      <th>7</th>\n",
       "      <td>2015-09-18</td>\n",
       "      <td>18</td>\n",
       "      <td>03:34:04</td>\n",
       "      <td>172.20.68.4</td>\n",
       "      <td>hk-SSG140:</td>\n",
       "      <td>NetScreen</td>\n",
       "      <td>device_id=hk-SSG140</td>\n",
       "      <td>[Root]system-notification-00257(traffic):</td>\n",
       "      <td>start_time=\"2015-09-18</td>\n",
       "      <td>03:45:55\"</td>\n",
       "      <td>...</td>\n",
       "      <td>ip=202.77.48.25</td>\n",
       "      <td>port=13809</td>\n",
       "      <td>dst-xlated</td>\n",
       "      <td>ip=202.153.97.2</td>\n",
       "      <td>port=53</td>\n",
       "      <td>session_id=40056</td>\n",
       "      <td>reason=Close</td>\n",
       "      <td>-</td>\n",
       "      <td>RESP</td>\n",
       "      <td>None</td>\n",
       "    </tr>\n",
       "    <tr>\n",
       "      <th>8</th>\n",
       "      <td>2015-09-18</td>\n",
       "      <td>18</td>\n",
       "      <td>03:34:04</td>\n",
       "      <td>172.20.68.4</td>\n",
       "      <td>hk-SSG140:</td>\n",
       "      <td>NetScreen</td>\n",
       "      <td>device_id=hk-SSG140</td>\n",
       "      <td>[Root]system-notification-00257(traffic):</td>\n",
       "      <td>start_time=\"2015-09-18</td>\n",
       "      <td>03:45:55\"</td>\n",
       "      <td>...</td>\n",
       "      <td>ip=202.77.48.25</td>\n",
       "      <td>port=24371</td>\n",
       "      <td>dst-xlated</td>\n",
       "      <td>ip=216.69.185.8</td>\n",
       "      <td>port=53</td>\n",
       "      <td>session_id=47719</td>\n",
       "      <td>reason=Close</td>\n",
       "      <td>-</td>\n",
       "      <td>RESP</td>\n",
       "      <td>None</td>\n",
       "    </tr>\n",
       "    <tr>\n",
       "      <th>9</th>\n",
       "      <td>2015-09-18</td>\n",
       "      <td>18</td>\n",
       "      <td>03:34:04</td>\n",
       "      <td>172.20.68.4</td>\n",
       "      <td>hk-SSG140:</td>\n",
       "      <td>NetScreen</td>\n",
       "      <td>device_id=hk-SSG140</td>\n",
       "      <td>[Root]system-notification-00257(traffic):</td>\n",
       "      <td>start_time=\"2015-09-18</td>\n",
       "      <td>03:45:55\"</td>\n",
       "      <td>...</td>\n",
       "      <td>ip=202.77.48.25</td>\n",
       "      <td>port=10948</td>\n",
       "      <td>dst-xlated</td>\n",
       "      <td>ip=210.184.16.65</td>\n",
       "      <td>port=53</td>\n",
       "      <td>session_id=46720</td>\n",
       "      <td>reason=Close</td>\n",
       "      <td>-</td>\n",
       "      <td>RESP</td>\n",
       "      <td>None</td>\n",
       "    </tr>\n",
       "  </tbody>\n",
       "</table>\n",
       "<p>10 rows × 36 columns</p>\n",
       "</div>"
      ],
      "text/plain": [
       "          0   1         2            3           4          5   \\\n",
       "0 2015-09-18  18  03:34:04  172.20.68.4  hk-SSG140:  NetScreen   \n",
       "1 2015-09-18  18  03:34:04  172.20.68.4  hk-SSG140:  NetScreen   \n",
       "2 2015-09-18  18  03:34:04  172.20.68.4  hk-SSG140:  NetScreen   \n",
       "3 2015-09-18  18  03:34:04  172.20.68.4  hk-SSG140:  NetScreen   \n",
       "4 2015-09-18  18  03:34:04  172.20.68.4  hk-SSG140:  NetScreen   \n",
       "5 2015-09-18  18  03:34:04  172.20.68.4  hk-SSG140:  NetScreen   \n",
       "6 2015-09-18  18  03:34:04  172.20.68.4  hk-SSG140:  NetScreen   \n",
       "7 2015-09-18  18  03:34:04  172.20.68.4  hk-SSG140:  NetScreen   \n",
       "8 2015-09-18  18  03:34:04  172.20.68.4  hk-SSG140:  NetScreen   \n",
       "9 2015-09-18  18  03:34:04  172.20.68.4  hk-SSG140:  NetScreen   \n",
       "\n",
       "                    6                                          7   \\\n",
       "0  device_id=hk-SSG140  [Root]system-notification-00257(traffic):   \n",
       "1  device_id=hk-SSG140  [Root]system-notification-00257(traffic):   \n",
       "2  device_id=hk-SSG140  [Root]system-notification-00257(traffic):   \n",
       "3  device_id=hk-SSG140  [Root]system-notification-00257(traffic):   \n",
       "4  device_id=hk-SSG140  [Root]system-notification-00257(traffic):   \n",
       "5  device_id=hk-SSG140  [Root]system-notification-00257(traffic):   \n",
       "6  device_id=hk-SSG140  [Root]system-notification-00257(traffic):   \n",
       "7  device_id=hk-SSG140  [Root]system-notification-00257(traffic):   \n",
       "8  device_id=hk-SSG140  [Root]system-notification-00257(traffic):   \n",
       "9  device_id=hk-SSG140  [Root]system-notification-00257(traffic):   \n",
       "\n",
       "                       8          9   ...                26          27  \\\n",
       "0  start_time=\"2015-09-18  03:45:52\"  ...   ip=172.20.68.77  port=50863   \n",
       "1  start_time=\"2015-09-18  03:45:54\"  ...    ip=172.20.78.2   port=2490   \n",
       "2  start_time=\"2015-09-18  03:45:53\"  ...            code=0  src-xlated   \n",
       "3  start_time=\"2015-09-18  03:45:55\"  ...   ip=202.77.48.25  port=10926   \n",
       "4  start_time=\"2015-09-18  03:45:55\"  ...   ip=202.77.48.25  port=21265   \n",
       "5  start_time=\"2015-09-18  03:45:55\"  ...   ip=202.77.48.25  port=16469   \n",
       "6  start_time=\"2015-09-18  03:45:55\"  ...   ip=202.77.48.25  port=31815   \n",
       "7  start_time=\"2015-09-18  03:45:55\"  ...   ip=202.77.48.25  port=13809   \n",
       "8  start_time=\"2015-09-18  03:45:55\"  ...   ip=202.77.48.25  port=24371   \n",
       "9  start_time=\"2015-09-18  03:45:55\"  ...   ip=202.77.48.25  port=10948   \n",
       "\n",
       "                28                29               30                31  \\\n",
       "0       dst-xlated   ip=172.20.113.3         port=443  session_id=40329   \n",
       "1       dst-xlated   ip=172.20.78.20        port=8059  session_id=38500   \n",
       "2  ip=172.24.66.31        dst-xlated  ip=172.20.78.35  session_id=37797   \n",
       "3       dst-xlated    ip=202.14.67.4          port=53  session_id=42617   \n",
       "4       dst-xlated   ip=192.48.79.30          port=53  session_id=37258   \n",
       "5       dst-xlated        ip=8.8.8.8          port=53  session_id=45254   \n",
       "6       dst-xlated  ip=208.109.255.8          port=53  session_id=44427   \n",
       "7       dst-xlated   ip=202.153.97.2          port=53  session_id=40056   \n",
       "8       dst-xlated   ip=216.69.185.8          port=53  session_id=47719   \n",
       "9       dst-xlated  ip=210.184.16.65          port=53  session_id=46720   \n",
       "\n",
       "             32 33    34    35  \n",
       "0  reason=Close  -   TCP   RST  \n",
       "1  reason=Close  -   TCP   FIN  \n",
       "2  reason=Close  -  RESP  None  \n",
       "3  reason=Close  -  RESP  None  \n",
       "4  reason=Close  -  RESP  None  \n",
       "5  reason=Close  -  RESP  None  \n",
       "6  reason=Close  -  RESP  None  \n",
       "7  reason=Close  -  RESP  None  \n",
       "8  reason=Close  -  RESP  None  \n",
       "9  reason=Close  -  RESP  None  \n",
       "\n",
       "[10 rows x 36 columns]"
      ]
     },
     "execution_count": 72,
     "metadata": {},
     "output_type": "execute_result"
    }
   ],
   "source": [
    "jp"
   ]
  }
 ],
 "metadata": {
  "kernelspec": {
   "display_name": "Python 2",
   "language": "python",
   "name": "python2"
  },
  "language_info": {
   "codemirror_mode": {
    "name": "ipython",
    "version": 2
   },
   "file_extension": ".py",
   "mimetype": "text/x-python",
   "name": "python",
   "nbconvert_exporter": "python",
   "pygments_lexer": "ipython2",
   "version": "2.7.8"
  }
 },
 "nbformat": 4,
 "nbformat_minor": 0
}
