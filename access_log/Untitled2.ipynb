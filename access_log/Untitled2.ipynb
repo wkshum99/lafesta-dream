{
 "cells": [
  {
   "cell_type": "code",
   "execution_count": 1,
   "metadata": {
    "collapsed": true
   },
   "outputs": [],
   "source": [
    "from __future__ import division"
   ]
  },
  {
   "cell_type": "code",
   "execution_count": 2,
   "metadata": {
    "collapsed": false
   },
   "outputs": [],
   "source": [
    "import csv\n",
    "import pandas as pd\n",
    "import datetime\n",
    "import string\n",
    "import numpy as np\n",
    "import helper as hp\n",
    "import sq\n",
    "import jp\n",
    "import urllib"
   ]
  },
  {
   "cell_type": "code",
   "execution_count": 3,
   "metadata": {
    "collapsed": true
   },
   "outputs": [],
   "source": [
    "Gb = 1000000000"
   ]
  },
  {
   "cell_type": "code",
   "execution_count": 4,
   "metadata": {
    "collapsed": false
   },
   "outputs": [],
   "source": [
    "#store = pd.HDFStore('access_log.h5')"
   ]
  },
  {
   "cell_type": "code",
   "execution_count": 5,
   "metadata": {
    "collapsed": true
   },
   "outputs": [],
   "source": [
    "def get_server_from_URL(URLs):\n",
    "    result = []\n",
    "    \n",
    "    for u in URLs:\n",
    "        if u.startswith('http://'):\n",
    "            temp = u.split('http://')[1]\n",
    "            # further split on '/' character to return only server \n",
    "            result.append(temp.split('/')[0])\n",
    "        \n",
    "        elif u.startswith('http://'):\n",
    "            temp = u.split('https://')[1]\n",
    "            # further split on '/' character to return only server \n",
    "            result.append(temp.split('/')[0])\n",
    "        \n",
    "    return result"
   ]
  },
  {
   "cell_type": "code",
   "execution_count": 6,
   "metadata": {
    "collapsed": true
   },
   "outputs": [],
   "source": [
    "def remove_safe_site(URLs, safe_list):\n",
    "    result = []\n",
    "    for u in URLs:\n",
    "        m = False\n",
    "        for s in safe_list:\n",
    "            if s in u:\n",
    "                m = True\n",
    "                break\n",
    "                \n",
    "        if (m == False):\n",
    "            result.append(u)\n",
    "            \n",
    "    result = pd.Series(result).unique()\n",
    "        \n",
    "    return result            "
   ]
  },
  {
   "cell_type": "code",
   "execution_count": 7,
   "metadata": {
    "collapsed": true
   },
   "outputs": [],
   "source": [
    "def get_match_site(URLs, safe_list):\n",
    "    result = []\n",
    "    for u in URLs:\n",
    "        m = False\n",
    "        for s in safe_list:\n",
    "            if s in u:\n",
    "                m = True                \n",
    "                break\n",
    "                                \n",
    "        if (m == True):\n",
    "            result.append(u)\n",
    "            \n",
    "    result = pd.Series(result).unique()\n",
    "        \n",
    "    return result   "
   ]
  },
  {
   "cell_type": "code",
   "execution_count": 8,
   "metadata": {
    "collapsed": false
   },
   "outputs": [],
   "source": [
    "def process_juniper_line(line):\n",
    "    result = []\n",
    "    line = hp.remove_duplicate_spaces(line).split(' ')\n",
    "    result.append(line[0] + ' ' + line[1] + ' ' + line[2])\n",
    "    result.append(line[3])\n",
    "    result.append(line[4] + ' ' + line[5])\n",
    "    result.append(line[6])\n",
    "    result.append(line[8] + ' ' + line[9])\n",
    "    for i in range(10, 13):\n",
    "        result.append(line[i])\n",
    "    result.append(line[14] + ' ' + line[15])    \n",
    "    result.append(line[16] + ' ' + line[17])\n",
    "    for i in range(18, 25):\n",
    "        result.append(line[i])\n",
    "    result.append(line[26] + ' ' + line[27]) \n",
    "    result.append(line[28] + ' ' + line[29]) \n",
    "    for i in range(30, len(line) - 4):\n",
    "        result.append(line[i])\n",
    "    result.append(line[32] + ' ' + line[33] + ' ' + line[34] + ' ' + line[35])\n",
    "    return result"
   ]
  },
  {
   "cell_type": "code",
   "execution_count": 9,
   "metadata": {
    "collapsed": false
   },
   "outputs": [],
   "source": [
    "#squid = sq.read_squid_log('access.log')"
   ]
  },
  {
   "cell_type": "code",
   "execution_count": 10,
   "metadata": {
    "collapsed": false
   },
   "outputs": [],
   "source": [
    "#squid.tail()"
   ]
  },
  {
   "cell_type": "code",
   "execution_count": 11,
   "metadata": {
    "collapsed": true
   },
   "outputs": [],
   "source": [
    "#safe_websites = 'google|microsoft|trendmicro|gstatic.com|bdpinsight.eu|.gov.hk'"
   ]
  },
  {
   "cell_type": "code",
   "execution_count": 12,
   "metadata": {
    "collapsed": false
   },
   "outputs": [],
   "source": [
    "#access = squid[squid['URL'].str.contains(safe_websites) == False]"
   ]
  },
  {
   "cell_type": "code",
   "execution_count": 13,
   "metadata": {
    "collapsed": false
   },
   "outputs": [],
   "source": [
    "#sum(squid.bytes)/Gb"
   ]
  },
  {
   "cell_type": "code",
   "execution_count": 72,
   "metadata": {
    "collapsed": false
   },
   "outputs": [],
   "source": [
    "def read_syslog_juniper(filename, filter=None):\n",
    "    result = []\n",
    "    \n",
    "    #if (filename)[-3:] == '.gz':\n",
    "    #    f = hp.open_gz(filename)\n",
    "    #elif (filename)[-6:] == 'tar.gz':\n",
    "    #    f = hp.open_tar_gz(filename)\n",
    "    #else:\n",
    "    #    f = hp.open_txt(filename)\n",
    "    \n",
    "    #f = f.split('\\n')\n",
    "    \n",
    "    df = pd.read_table(filename, sep=' {1,}|\"', engine='python', index_col=False, header=None, parse_dates=[[0, 1, 2], [9,10]])\n",
    "    \n",
    "    # restructure the dataframe\n",
    "    i = [0]\n",
    "    i.extend(range(2, 8))\n",
    "    i.extend([1])\n",
    "    i.extend(range(9, 25))\n",
    "    df = df.iloc[:, i]\n",
    "    \n",
    "    #return df\n",
    "    return df"
   ]
  },
  {
   "cell_type": "code",
   "execution_count": 73,
   "metadata": {
    "collapsed": true
   },
   "outputs": [],
   "source": [
    "URL = urllib.urlopen('https://doc-04-0c-docs.googleusercontent.com/docs/securesc/ha0ro937gcuc7l7deffksulhg5h7mbp1/k2437uo2luabbjlvpq4q5mvnshcmb5m7/1442995200000/13625217592848274312/*/0B9C3OkBK2B-JRlBkYXI4UXo5RVU?e=download')"
   ]
  },
  {
   "cell_type": "code",
   "execution_count": 74,
   "metadata": {
    "collapsed": false,
    "scrolled": true
   },
   "outputs": [],
   "source": [
    "jp = read_syslog_juniper(URL)"
   ]
  },
  {
   "cell_type": "code",
   "execution_count": 75,
   "metadata": {
    "collapsed": false,
    "scrolled": true
   },
   "outputs": [
    {
     "data": {
      "text/html": [
       "<div>\n",
       "<table border=\"1\" class=\"dataframe\">\n",
       "  <thead>\n",
       "    <tr style=\"text-align: right;\">\n",
       "      <th></th>\n",
       "      <th>0_1_2</th>\n",
       "      <th>3</th>\n",
       "      <th>4</th>\n",
       "      <th>5</th>\n",
       "      <th>6</th>\n",
       "      <th>7</th>\n",
       "      <th>8</th>\n",
       "      <th>9_10</th>\n",
       "      <th>12</th>\n",
       "      <th>13</th>\n",
       "      <th>...</th>\n",
       "      <th>18</th>\n",
       "      <th>19</th>\n",
       "      <th>20</th>\n",
       "      <th>21</th>\n",
       "      <th>22</th>\n",
       "      <th>23</th>\n",
       "      <th>24</th>\n",
       "      <th>25</th>\n",
       "      <th>26</th>\n",
       "      <th>27</th>\n",
       "    </tr>\n",
       "  </thead>\n",
       "  <tbody>\n",
       "    <tr>\n",
       "      <th>0</th>\n",
       "      <td>2015-09-20 03:47:04</td>\n",
       "      <td>172.20.68.4</td>\n",
       "      <td>hk-SSG140:</td>\n",
       "      <td>NetScreen</td>\n",
       "      <td>device_id=hk-SSG140</td>\n",
       "      <td>[Root]system-notification-00257(traffic):</td>\n",
       "      <td>start_time=</td>\n",
       "      <td>2015-09-20 03:59:04</td>\n",
       "      <td>duration=0</td>\n",
       "      <td>policy_id=6</td>\n",
       "      <td>...</td>\n",
       "      <td>dst</td>\n",
       "      <td>zone=Untrust</td>\n",
       "      <td>action=Deny</td>\n",
       "      <td>sent=0</td>\n",
       "      <td>rcvd=28</td>\n",
       "      <td>src=172.20.78.90</td>\n",
       "      <td>dst=192.168.137.42</td>\n",
       "      <td>src_port=139</td>\n",
       "      <td>dst_port=2539</td>\n",
       "      <td>session_id=0</td>\n",
       "    </tr>\n",
       "    <tr>\n",
       "      <th>1</th>\n",
       "      <td>2015-09-20 03:47:05</td>\n",
       "      <td>172.20.68.4</td>\n",
       "      <td>hk-SSG140:</td>\n",
       "      <td>NetScreen</td>\n",
       "      <td>device_id=hk-SSG140</td>\n",
       "      <td>[Root]system-notification-00257(traffic):</td>\n",
       "      <td>start_time=</td>\n",
       "      <td>2015-09-20 03:58:05</td>\n",
       "      <td>duration=61</td>\n",
       "      <td>policy_id=397</td>\n",
       "      <td>...</td>\n",
       "      <td>dst</td>\n",
       "      <td>zone=HK-DMZ</td>\n",
       "      <td>action=Permit</td>\n",
       "      <td>sent=93</td>\n",
       "      <td>rcvd=0</td>\n",
       "      <td>src=10.20.47.254</td>\n",
       "      <td>dst=172.24.66.31</td>\n",
       "      <td>src_port=161</td>\n",
       "      <td>dst_port=37738</td>\n",
       "      <td>src-xlated</td>\n",
       "    </tr>\n",
       "    <tr>\n",
       "      <th>2</th>\n",
       "      <td>2015-09-20 03:47:05</td>\n",
       "      <td>172.20.68.4</td>\n",
       "      <td>hk-SSG140:</td>\n",
       "      <td>NetScreen</td>\n",
       "      <td>device_id=hk-SSG140</td>\n",
       "      <td>[Root]system-notification-00257(traffic):</td>\n",
       "      <td>start_time=</td>\n",
       "      <td>2015-09-20 03:58:04</td>\n",
       "      <td>duration=62</td>\n",
       "      <td>policy_id=587</td>\n",
       "      <td>...</td>\n",
       "      <td>dst</td>\n",
       "      <td>zone=HK-DMZ</td>\n",
       "      <td>action=Permit</td>\n",
       "      <td>sent=90</td>\n",
       "      <td>rcvd=0</td>\n",
       "      <td>src=172.24.66.31</td>\n",
       "      <td>dst=172.20.68.253</td>\n",
       "      <td>src_port=47176</td>\n",
       "      <td>dst_port=161</td>\n",
       "      <td>src-xlated</td>\n",
       "    </tr>\n",
       "    <tr>\n",
       "      <th>3</th>\n",
       "      <td>2015-09-20 03:47:05</td>\n",
       "      <td>172.20.68.4</td>\n",
       "      <td>hk-SSG140:</td>\n",
       "      <td>NetScreen</td>\n",
       "      <td>device_id=hk-SSG140</td>\n",
       "      <td>[Root]system-notification-00257(traffic):</td>\n",
       "      <td>start_time=</td>\n",
       "      <td>2015-09-20 03:58:05</td>\n",
       "      <td>duration=61</td>\n",
       "      <td>policy_id=505</td>\n",
       "      <td>...</td>\n",
       "      <td>dst</td>\n",
       "      <td>zone=HK-LAN</td>\n",
       "      <td>action=Permit</td>\n",
       "      <td>sent=92</td>\n",
       "      <td>rcvd=0</td>\n",
       "      <td>src=172.24.66.31</td>\n",
       "      <td>dst=172.20.78.2</td>\n",
       "      <td>src_port=42377</td>\n",
       "      <td>dst_port=161</td>\n",
       "      <td>src-xlated</td>\n",
       "    </tr>\n",
       "    <tr>\n",
       "      <th>4</th>\n",
       "      <td>2015-09-20 03:47:05</td>\n",
       "      <td>172.20.68.4</td>\n",
       "      <td>hk-SSG140:</td>\n",
       "      <td>NetScreen</td>\n",
       "      <td>device_id=hk-SSG140</td>\n",
       "      <td>[Root]system-notification-00257(traffic):</td>\n",
       "      <td>start_time=</td>\n",
       "      <td>2015-09-20 03:58:05</td>\n",
       "      <td>duration=61</td>\n",
       "      <td>policy_id=505</td>\n",
       "      <td>...</td>\n",
       "      <td>dst</td>\n",
       "      <td>zone=HK-LAN</td>\n",
       "      <td>action=Permit</td>\n",
       "      <td>sent=92</td>\n",
       "      <td>rcvd=0</td>\n",
       "      <td>src=172.24.66.31</td>\n",
       "      <td>dst=172.20.78.2</td>\n",
       "      <td>src_port=37738</td>\n",
       "      <td>dst_port=161</td>\n",
       "      <td>src-xlated</td>\n",
       "    </tr>\n",
       "  </tbody>\n",
       "</table>\n",
       "<p>5 rows × 24 columns</p>\n",
       "</div>"
      ],
      "text/plain": [
       "                0_1_2            3           4          5  \\\n",
       "0 2015-09-20 03:47:04  172.20.68.4  hk-SSG140:  NetScreen   \n",
       "1 2015-09-20 03:47:05  172.20.68.4  hk-SSG140:  NetScreen   \n",
       "2 2015-09-20 03:47:05  172.20.68.4  hk-SSG140:  NetScreen   \n",
       "3 2015-09-20 03:47:05  172.20.68.4  hk-SSG140:  NetScreen   \n",
       "4 2015-09-20 03:47:05  172.20.68.4  hk-SSG140:  NetScreen   \n",
       "\n",
       "                     6                                          7  \\\n",
       "0  device_id=hk-SSG140  [Root]system-notification-00257(traffic):   \n",
       "1  device_id=hk-SSG140  [Root]system-notification-00257(traffic):   \n",
       "2  device_id=hk-SSG140  [Root]system-notification-00257(traffic):   \n",
       "3  device_id=hk-SSG140  [Root]system-notification-00257(traffic):   \n",
       "4  device_id=hk-SSG140  [Root]system-notification-00257(traffic):   \n",
       "\n",
       "             8                9_10           12             13      ...       \\\n",
       "0  start_time= 2015-09-20 03:59:04   duration=0    policy_id=6      ...        \n",
       "1  start_time= 2015-09-20 03:58:05  duration=61  policy_id=397      ...        \n",
       "2  start_time= 2015-09-20 03:58:04  duration=62  policy_id=587      ...        \n",
       "3  start_time= 2015-09-20 03:58:05  duration=61  policy_id=505      ...        \n",
       "4  start_time= 2015-09-20 03:58:05  duration=61  policy_id=505      ...        \n",
       "\n",
       "    18            19             20       21       22                23  \\\n",
       "0  dst  zone=Untrust    action=Deny   sent=0  rcvd=28  src=172.20.78.90   \n",
       "1  dst   zone=HK-DMZ  action=Permit  sent=93   rcvd=0  src=10.20.47.254   \n",
       "2  dst   zone=HK-DMZ  action=Permit  sent=90   rcvd=0  src=172.24.66.31   \n",
       "3  dst   zone=HK-LAN  action=Permit  sent=92   rcvd=0  src=172.24.66.31   \n",
       "4  dst   zone=HK-LAN  action=Permit  sent=92   rcvd=0  src=172.24.66.31   \n",
       "\n",
       "                   24              25              26            27  \n",
       "0  dst=192.168.137.42    src_port=139   dst_port=2539  session_id=0  \n",
       "1    dst=172.24.66.31    src_port=161  dst_port=37738    src-xlated  \n",
       "2   dst=172.20.68.253  src_port=47176    dst_port=161    src-xlated  \n",
       "3     dst=172.20.78.2  src_port=42377    dst_port=161    src-xlated  \n",
       "4     dst=172.20.78.2  src_port=37738    dst_port=161    src-xlated  \n",
       "\n",
       "[5 rows x 24 columns]"
      ]
     },
     "execution_count": 75,
     "metadata": {},
     "output_type": "execute_result"
    }
   ],
   "source": [
    "jp.head()"
   ]
  }
 ],
 "metadata": {
  "kernelspec": {
   "display_name": "Python 2",
   "language": "python",
   "name": "python2"
  },
  "language_info": {
   "codemirror_mode": {
    "name": "ipython",
    "version": 2
   },
   "file_extension": ".py",
   "mimetype": "text/x-python",
   "name": "python",
   "nbconvert_exporter": "python",
   "pygments_lexer": "ipython2",
   "version": "2.7.10"
  }
 },
 "nbformat": 4,
 "nbformat_minor": 0
}
