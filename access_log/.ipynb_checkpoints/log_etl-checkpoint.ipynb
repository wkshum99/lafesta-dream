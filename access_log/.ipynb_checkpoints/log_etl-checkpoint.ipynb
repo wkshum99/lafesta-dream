{
 "cells": [
  {
   "cell_type": "code",
   "execution_count": null,
   "metadata": {
    "collapsed": true
   },
   "outputs": [],
   "source": [
    "from __future__ import division\n",
    "import pandas as pd\n",
    "import numpy as np\n",
    "import time\n",
    "import sys\n",
    "import os\n",
    "import sqlalchemy"
   ]
  },
  {
   "cell_type": "code",
   "execution_count": null,
   "metadata": {
    "collapsed": true
   },
   "outputs": [],
   "source": [
    "log_dir = 'E:'+os.sep+'temp'+os.sep+'log'+os.sep\n",
    "sqlitedb = 'E:'+os.sep+'temp'+os.sep+'sg_access_log.db'\n",
    "mode = 'full'\n",
    "Gb = 1000000000"
   ]
  },
  {
   "cell_type": "code",
   "execution_count": null,
   "metadata": {
    "collapsed": true
   },
   "outputs": [],
   "source": [
    "def check_file_format(file):\n",
    "    if file[-4:] == '.zip':\n",
    "        return 'zip'\n",
    "    elif file[-4:] == 'r.gz':\n",
    "        return 'gzip'\n",
    "    else:\n",
    "        return 'txt'"
   ]
  },
  {
   "cell_type": "code",
   "execution_count": null,
   "metadata": {
    "collapsed": true
   },
   "outputs": [],
   "source": [
    "def get_values(x):\n",
    "    # remove the label-of-next-field\n",
    "    # input: string\n",
    "    # output: string\n",
    "    if x != None:\n",
    "        if x[0] == '\"':\n",
    "            x = x[1:]\n",
    "        x = str(x).split()\n",
    "        return x[0]\n",
    "    return x"
   ]
  },
  {
   "cell_type": "code",
   "execution_count": null,
   "metadata": {
    "collapsed": false
   },
   "outputs": [],
   "source": [
    "def read_log_file(file):\n",
    "    # read csv file into dataframe,\n",
    "    # and grab only interesting columns\n",
    "    # input: file\n",
    "    # output: dataframe\n",
    "    df = pd.read_table(file, sep='[a-z]*=', quotechar='\"', engine='python', header=None, names=range(22))\n",
    "    #df = df.iloc[:,[2, 3, 7, 8, 9, 10, 11, 12, 13]]\n",
    "    df = df[pd.isnull(df[2])!=True][[2, 7, 8, 9, 10, 11, 12, 13]]\n",
    "    df.columns = ['time', 'src_zone', 'dst_zone', 'status', 'sent', 'received', 'src_ip', 'dst_ip']\n",
    "    df[['time', 'src_zone', 'dst_zone', 'status', 'src_ip', 'dst_ip']] = \\\n",
    "        df[['time', 'src_zone', 'dst_zone', 'status', 'src_ip', 'dst_ip']].applymap(get_values)\n",
    "    df[['sent', 'received']] = df[['sent', 'received']].astype(float)\n",
    "    df['total'] = df.sent + df.received\n",
    "    return df"
   ]
  },
  {
   "cell_type": "code",
   "execution_count": null,
   "metadata": {
    "collapsed": true
   },
   "outputs": [],
   "source": [
    "def df_groupby(df, group):\n",
    "    return df.groupby(group, sort=False, as_index=False)"
   ]
  },
  {
   "cell_type": "code",
   "execution_count": null,
   "metadata": {
    "collapsed": true
   },
   "outputs": [],
   "source": [
    "def process_group(grouped):\n",
    "    #temp_result = pd.DataFrame()\n",
    "    #for t, sz, dz, si, di in grouped.groups.keys():\n",
    "    #    temp_result.append([t, sz, dz, si, di, grouped.get_group((t, sz, dz, si, di)).size()[0],\n",
    "    #                        grouped.get_group((t, sz, dz, si, di))[['total']].sum()[0]], ignore_index=True)\n",
    "    return grouped.agg([np.sum, np.size])"
   ]
  },
  {
   "cell_type": "code",
   "execution_count": null,
   "metadata": {
    "collapsed": true
   },
   "outputs": [],
   "source": [
    "def connect_sqlite(db):\n",
    "    return sqlalchemy.create_engine('sqlite:///'+db)"
   ]
  },
  {
   "cell_type": "code",
   "execution_count": null,
   "metadata": {
    "collapsed": false
   },
   "outputs": [],
   "source": [
    "def main():\n",
    "\n",
    "    if len(os.listdir(log_dir)) <= 0:\n",
    "        sys.exit('There is no file in the log directory, program ended')\n",
    "\n",
    "    print('Started at: ' + time.strftime('%Y-%m-%d %H:%M:%S'))\n",
    "    # loop for files in the directory\n",
    "    for file in os.listdir(log_dir):\n",
    "        file_format = check_file_format(os.path.join(log_dir, file))\n",
    "        if file_format == 'zip':\n",
    "            log_file = hp.open_zip(os.path.join(log_dir, file))\n",
    "        elif (file_format == 'txt'):\n",
    "            df = read_log_file(os.path.join(log_dir, file))\n",
    "            grouped = df_groupby(df, ['time', 'src_zone', 'dst_zone', 'src_ip', 'dst_ip'])\n",
    "            grouped = process_group(grouped)\n",
    "            grouped = grouped.reset_index()\n",
    "            grouped[['time', 'src_zone', 'dst_zone', 'src_ip', 'dst_ip', 'total']].to_sql('data', connect_sqlite(sqlitedb), index=False, if_exists='replace')\n",
    "            #nrow = read_log_file(os.path.join(log_dir, file))\n",
    "        else:\n",
    "            # skip this file if non txt and zip\n",
    "            continue\n",
    "        print('file ' + file + ' is processed at ' + time.strftime('%Y-%m-%d %H:%M:%S'))"
   ]
  },
  {
   "cell_type": "code",
   "execution_count": null,
   "metadata": {
    "collapsed": false
   },
   "outputs": [],
   "source": [
    "main()"
   ]
  },
  {
   "cell_type": "code",
   "execution_count": null,
   "metadata": {
    "collapsed": false
   },
   "outputs": [],
   "source": [
    "grouped.groups"
   ]
  }
 ],
 "metadata": {
  "kernelspec": {
   "display_name": "Python 2",
   "language": "python",
   "name": "python2"
  },
  "language_info": {
   "codemirror_mode": {
    "name": "ipython",
    "version": 2
   },
   "file_extension": ".py",
   "mimetype": "text/x-python",
   "name": "python",
   "nbconvert_exporter": "python",
   "pygments_lexer": "ipython2",
   "version": "2.7.11"
  }
 },
 "nbformat": 4,
 "nbformat_minor": 0
}
