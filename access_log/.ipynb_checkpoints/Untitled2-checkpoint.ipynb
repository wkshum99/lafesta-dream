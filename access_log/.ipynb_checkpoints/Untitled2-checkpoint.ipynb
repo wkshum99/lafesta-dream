{
 "cells": [
  {
   "cell_type": "code",
   "execution_count": 5,
   "metadata": {
    "collapsed": true
   },
   "outputs": [],
   "source": [
    "from __future__ import division"
   ]
  },
  {
   "cell_type": "code",
   "execution_count": 6,
   "metadata": {
    "collapsed": false
   },
   "outputs": [],
   "source": [
    "import csv\n",
    "import pandas as pd\n",
    "import datetime\n",
    "import string\n",
    "import numpy as np\n",
    "import helper as hp\n",
    "import sq\n",
    "import jp\n",
    "import urllib\n",
    "import os"
   ]
  },
  {
   "cell_type": "code",
   "execution_count": 7,
   "metadata": {
    "collapsed": true
   },
   "outputs": [],
   "source": [
    "from sqlalchemy import create_engine"
   ]
  },
  {
   "cell_type": "code",
   "execution_count": 8,
   "metadata": {
    "collapsed": false
   },
   "outputs": [],
   "source": [
    "pd.set_option('display.max_columns', None)\n",
    "Gb = 1000000000"
   ]
  },
  {
   "cell_type": "code",
   "execution_count": 9,
   "metadata": {
    "collapsed": false
   },
   "outputs": [],
   "source": [
    "temp_csv = 'c:'+os.sep+'temp'+os.sep+'temp.log'"
   ]
  },
  {
   "cell_type": "code",
   "execution_count": 10,
   "metadata": {
    "collapsed": true
   },
   "outputs": [],
   "source": [
    "log_file = 'c:'+os.sep+'temp'+os.sep+'hk-ssg140.log-20150922'"
   ]
  },
  {
   "cell_type": "code",
   "execution_count": 11,
   "metadata": {
    "collapsed": false
   },
   "outputs": [],
   "source": [
    "disk_engine = create_engine('sqlite:////c:'+os.sep+'temp'+os.sep+'access_log.db')"
   ]
  },
  {
   "cell_type": "code",
   "execution_count": 12,
   "metadata": {
    "collapsed": false
   },
   "outputs": [],
   "source": [
    "#store = pd.HDFStore('access_log.h5')"
   ]
  },
  {
   "cell_type": "code",
   "execution_count": 13,
   "metadata": {
    "collapsed": true
   },
   "outputs": [],
   "source": [
    "def get_server_from_URL(URLs):\n",
    "    result = []\n",
    "    \n",
    "    for u in URLs:\n",
    "        if u.startswith('http://'):\n",
    "            temp = u.split('http://')[1]\n",
    "            # further split on '/' character to return only server \n",
    "            result.append(temp.split('/')[0])\n",
    "        \n",
    "        elif u.startswith('http://'):\n",
    "            temp = u.split('https://')[1]\n",
    "            # further split on '/' character to return only server \n",
    "            result.append(temp.split('/')[0])\n",
    "        \n",
    "    return result"
   ]
  },
  {
   "cell_type": "code",
   "execution_count": 14,
   "metadata": {
    "collapsed": true
   },
   "outputs": [],
   "source": [
    "def remove_safe_site(URLs, safe_list):\n",
    "    result = []\n",
    "    for u in URLs:\n",
    "        m = False\n",
    "        for s in safe_list:\n",
    "            if s in u:\n",
    "                m = True\n",
    "                break\n",
    "                \n",
    "        if (m == False):\n",
    "            result.append(u)\n",
    "            \n",
    "    result = pd.Series(result).unique()\n",
    "        \n",
    "    return result            "
   ]
  },
  {
   "cell_type": "code",
   "execution_count": 15,
   "metadata": {
    "collapsed": true
   },
   "outputs": [],
   "source": [
    "def get_match_site(URLs, safe_list):\n",
    "    result = []\n",
    "    for u in URLs:\n",
    "        m = False\n",
    "        for s in safe_list:\n",
    "            if s in u:\n",
    "                m = True                \n",
    "                break\n",
    "                                \n",
    "        if (m == True):\n",
    "            result.append(u)\n",
    "            \n",
    "    result = pd.Series(result).unique()\n",
    "        \n",
    "    return result   "
   ]
  },
  {
   "cell_type": "code",
   "execution_count": 16,
   "metadata": {
    "collapsed": false
   },
   "outputs": [],
   "source": [
    "#squid = sq.read_squid_log('access.log')"
   ]
  },
  {
   "cell_type": "code",
   "execution_count": 17,
   "metadata": {
    "collapsed": false
   },
   "outputs": [],
   "source": [
    "#squid.tail()"
   ]
  },
  {
   "cell_type": "code",
   "execution_count": 18,
   "metadata": {
    "collapsed": true
   },
   "outputs": [],
   "source": [
    "#safe_websites = 'google|microsoft|trendmicro|gstatic.com|bdpinsight.eu|.gov.hk'"
   ]
  },
  {
   "cell_type": "code",
   "execution_count": 19,
   "metadata": {
    "collapsed": false
   },
   "outputs": [],
   "source": [
    "#access = squid[squid['URL'].str.contains(safe_websites) == False]"
   ]
  },
  {
   "cell_type": "code",
   "execution_count": 20,
   "metadata": {
    "collapsed": false
   },
   "outputs": [],
   "source": [
    "#sum(squid.bytes)/Gb"
   ]
  },
  {
   "cell_type": "code",
   "execution_count": 62,
   "metadata": {
    "collapsed": false
   },
   "outputs": [],
   "source": [
    "def clean_juniper_file(infile, outfile):\n",
    "    with open(infile, 'r') as in_file:\n",
    "        with open(outfile, 'w') as out_file:\n",
    "            for line in in_file:\n",
    "                if ('system-notification-00257(traffic)' in line):                                                \n",
    "                    idx_1 = line.find('service=')\n",
    "                    idx_2 = line.find(' proto=')\n",
    "                    if (idx_1 and idx_2):\n",
    "                        out_file.write(line[:idx_1]+line[idx_1:idx_2].replace(' ', '')+line[idx_2:])"
   ]
  },
  {
   "cell_type": "code",
   "execution_count": 63,
   "metadata": {
    "collapsed": false
   },
   "outputs": [],
   "source": [
    "clean_juniper_file(log_file, temp_csv)"
   ]
  },
  {
   "cell_type": "code",
   "execution_count": 64,
   "metadata": {
    "collapsed": false
   },
   "outputs": [],
   "source": [
    "def open_csv(filename, chunksize=20000):\n",
    "    \n",
    "    df = pd.DataFrame()\n",
    "    \n",
    "    for c in pd.read_table(filename, sep='\\s{1,}|\"', chunksize=chunksize, iterator=True, engine='python', index_col=False, header=None, parse_dates=[[0, 1, 2], [9,10]]):        \n",
    "        df = pd.concat([df, c])        \n",
    "        \n",
    "    print(str(len(df)) + \" rows processed.\")\n",
    "    \n",
    "    return df\n",
    "\n",
    "def juniper_log_cleansing(x):\n",
    "    if str(x).find('=') > 0:\n",
    "        return str(x)[str(x).find('=')+1:]\n",
    "    elif str(x).find(':') > 0:\n",
    "        return str(x)[:str(x).find(':')]    \n",
    "    else:\n",
    "        return x\n",
    "\n",
    "def read_syslog_juniper(filename):\n",
    "       \n",
    "    df = open_csv(filename)\n",
    "    \n",
    "    df = df[df[7].str.contains('information') == False]\n",
    "    \n",
    "    # restructure the dataframe\n",
    "    i = [0]\n",
    "    i.extend(range(3, 4))\n",
    "    i.extend([1])\n",
    "    i.extend(range(9, 13))\n",
    "    i.extend([14])\n",
    "    i.extend([16])\n",
    "    i.extend(range(17, 25))\n",
    "    df = df.iloc[:, i]\n",
    "    \n",
    "    df.columns = ['time', 'device_name', 'traffic_start', 'duration', 'policy_no', 'service', 'protocol', 'src_zone', 'dst_zone', 'action', 'sent_size', 'received_size', 'src_address', 'dst_address', 'src_port', 'dst_port', 'remarks']\n",
    "    df[['device_name', 'duration', 'policy_no', 'service', 'protocol', 'src_zone', 'dst_zone', 'action', 'sent_size', 'received_size', 'src_address', 'dst_address', 'src_port', 'dst_port']] = df[['device_name', 'duration', 'policy_no', 'service', 'protocol', 'src_zone', 'dst_zone', 'action', 'sent_size', 'received_size', 'src_address', 'dst_address', 'src_port', 'dst_port']].applymap(juniper_log_cleansing)\n",
    "    df[['policy_no', 'protocol', 'sent_size', 'received_size', 'src_port', 'dst_port']] = df[['policy_no', 'protocol', 'sent_size', 'received_size', 'src_port', 'dst_port']].convert_objects(convert_numeric = True)\n",
    "    \n",
    "    df = df.reset_index(drop=True)\n",
    "    \n",
    "    return df\n",
    "\n",
    "def summary_groups(grouped):\n",
    "    for name, group in grouped:\n",
    "        print group\n",
    "        "
   ]
  },
  {
   "cell_type": "code",
   "execution_count": 65,
   "metadata": {
    "collapsed": false,
    "scrolled": true
   },
   "outputs": [
    {
     "name": "stdout",
     "output_type": "stream",
     "text": [
      "1657993 rows processed.\n"
     ]
    }
   ],
   "source": [
    "juniper = read_syslog_juniper(temp_csv)"
   ]
  },
  {
   "cell_type": "code",
   "execution_count": 66,
   "metadata": {
    "collapsed": false
   },
   "outputs": [],
   "source": [
    "grouped = juniper.groupby('src_address')"
   ]
  },
  {
   "cell_type": "code",
   "execution_count": 67,
   "metadata": {
    "collapsed": false
   },
   "outputs": [
    {
     "name": "stdout",
     "output_type": "stream",
     "text": [
      "total: 24.844180885 Gb\n"
     ]
    }
   ],
   "source": [
    "total = 0\n",
    "for i in grouped.groups.keys():\n",
    "    subtotal = np.nansum(juniper.iloc[grouped.groups[i]].sent_size)\n",
    "    #print (i + ': ' + str(subtotal))\n",
    "    total += subtotal\n",
    "    #print i\n",
    "    #print grouped.groups[i]\n",
    "print 'total: ' + str(total/Gb) + ' Gb'"
   ]
  },
  {
   "cell_type": "code",
   "execution_count": 71,
   "metadata": {
    "collapsed": false
   },
   "outputs": [
    {
     "data": {
      "text/plain": [
       "1131"
      ]
     },
     "execution_count": 71,
     "metadata": {},
     "output_type": "execute_result"
    }
   ],
   "source": [
    "grouped.ngroups"
   ]
  },
  {
   "cell_type": "code",
   "execution_count": 69,
   "metadata": {
    "collapsed": false
   },
   "outputs": [
    {
     "ename": "KeyError",
     "evalue": "'-1913'",
     "output_type": "error",
     "traceback": [
      "\u001b[1;31m---------------------------------------------------------------------------\u001b[0m",
      "\u001b[1;31mKeyError\u001b[0m                                  Traceback (most recent call last)",
      "\u001b[1;32m<ipython-input-69-1528cf55ab5f>\u001b[0m in \u001b[0;36m<module>\u001b[1;34m()\u001b[0m\n\u001b[1;32m----> 1\u001b[1;33m \u001b[0mgrouped\u001b[0m\u001b[1;33m.\u001b[0m\u001b[0mgroups\u001b[0m\u001b[1;33m[\u001b[0m\u001b[1;34m'-1913'\u001b[0m\u001b[1;33m]\u001b[0m\u001b[1;33m\u001b[0m\u001b[0m\n\u001b[0m",
      "\u001b[1;31mKeyError\u001b[0m: '-1913'"
     ]
    }
   ],
   "source": [
    "grouped.groups['-1913']"
   ]
  },
  {
   "cell_type": "code",
   "execution_count": null,
   "metadata": {
    "collapsed": false
   },
   "outputs": [],
   "source": [
    "juniper.iloc[925410,]"
   ]
  },
  {
   "cell_type": "code",
   "execution_count": null,
   "metadata": {
    "collapsed": false,
    "scrolled": true
   },
   "outputs": [],
   "source": [
    "#pd.DataFrame.sum(juniper[['sent_size']])"
   ]
  },
  {
   "cell_type": "code",
   "execution_count": null,
   "metadata": {
    "collapsed": false
   },
   "outputs": [],
   "source": [
    "#juniper"
   ]
  }
 ],
 "metadata": {
  "kernelspec": {
   "display_name": "Python 2",
   "language": "python",
   "name": "python2"
  },
  "language_info": {
   "codemirror_mode": {
    "name": "ipython",
    "version": 2
   },
   "file_extension": ".py",
   "mimetype": "text/x-python",
   "name": "python",
   "nbconvert_exporter": "python",
   "pygments_lexer": "ipython2",
   "version": "2.7.10"
  }
 },
 "nbformat": 4,
 "nbformat_minor": 0
}
