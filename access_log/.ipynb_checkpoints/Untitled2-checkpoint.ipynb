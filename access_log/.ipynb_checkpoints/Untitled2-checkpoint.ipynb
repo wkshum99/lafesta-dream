{
 "cells": [
  {
   "cell_type": "code",
   "execution_count": 1,
   "metadata": {
    "collapsed": true
   },
   "outputs": [],
   "source": [
    "from __future__ import division"
   ]
  },
  {
   "cell_type": "code",
   "execution_count": 1,
   "metadata": {
    "collapsed": false
   },
   "outputs": [],
   "source": [
    "import csv\n",
    "import pandas as pd\n",
    "import datetime\n",
    "import string\n",
    "import numpy as np\n",
    "import helper as hp\n",
    "import sq\n",
    "import jp\n",
    "import urllib"
   ]
  },
  {
   "cell_type": "code",
   "execution_count": 3,
   "metadata": {
    "collapsed": false
   },
   "outputs": [],
   "source": [
    "pd.set_option('display.max_columns', None)\n",
    "Gb = 1000000000"
   ]
  },
  {
   "cell_type": "code",
   "execution_count": 4,
   "metadata": {
    "collapsed": false
   },
   "outputs": [],
   "source": [
    "#store = pd.HDFStore('access_log.h5')"
   ]
  },
  {
   "cell_type": "code",
   "execution_count": 5,
   "metadata": {
    "collapsed": true
   },
   "outputs": [],
   "source": [
    "def get_server_from_URL(URLs):\n",
    "    result = []\n",
    "    \n",
    "    for u in URLs:\n",
    "        if u.startswith('http://'):\n",
    "            temp = u.split('http://')[1]\n",
    "            # further split on '/' character to return only server \n",
    "            result.append(temp.split('/')[0])\n",
    "        \n",
    "        elif u.startswith('http://'):\n",
    "            temp = u.split('https://')[1]\n",
    "            # further split on '/' character to return only server \n",
    "            result.append(temp.split('/')[0])\n",
    "        \n",
    "    return result"
   ]
  },
  {
   "cell_type": "code",
   "execution_count": 6,
   "metadata": {
    "collapsed": true
   },
   "outputs": [],
   "source": [
    "def remove_safe_site(URLs, safe_list):\n",
    "    result = []\n",
    "    for u in URLs:\n",
    "        m = False\n",
    "        for s in safe_list:\n",
    "            if s in u:\n",
    "                m = True\n",
    "                break\n",
    "                \n",
    "        if (m == False):\n",
    "            result.append(u)\n",
    "            \n",
    "    result = pd.Series(result).unique()\n",
    "        \n",
    "    return result            "
   ]
  },
  {
   "cell_type": "code",
   "execution_count": 7,
   "metadata": {
    "collapsed": true
   },
   "outputs": [],
   "source": [
    "def get_match_site(URLs, safe_list):\n",
    "    result = []\n",
    "    for u in URLs:\n",
    "        m = False\n",
    "        for s in safe_list:\n",
    "            if s in u:\n",
    "                m = True                \n",
    "                break\n",
    "                                \n",
    "        if (m == True):\n",
    "            result.append(u)\n",
    "            \n",
    "    result = pd.Series(result).unique()\n",
    "        \n",
    "    return result   "
   ]
  },
  {
   "cell_type": "code",
   "execution_count": 8,
   "metadata": {
    "collapsed": false
   },
   "outputs": [],
   "source": [
    "#squid = sq.read_squid_log('access.log')"
   ]
  },
  {
   "cell_type": "code",
   "execution_count": 9,
   "metadata": {
    "collapsed": false
   },
   "outputs": [],
   "source": [
    "#squid.tail()"
   ]
  },
  {
   "cell_type": "code",
   "execution_count": 10,
   "metadata": {
    "collapsed": true
   },
   "outputs": [],
   "source": [
    "#safe_websites = 'google|microsoft|trendmicro|gstatic.com|bdpinsight.eu|.gov.hk'"
   ]
  },
  {
   "cell_type": "code",
   "execution_count": 11,
   "metadata": {
    "collapsed": false
   },
   "outputs": [],
   "source": [
    "#access = squid[squid['URL'].str.contains(safe_websites) == False]"
   ]
  },
  {
   "cell_type": "code",
   "execution_count": 12,
   "metadata": {
    "collapsed": false
   },
   "outputs": [],
   "source": [
    "#sum(squid.bytes)/Gb"
   ]
  },
  {
   "cell_type": "code",
   "execution_count": 16,
   "metadata": {
    "collapsed": true
   },
   "outputs": [],
   "source": [
    "def juniper_log_cleansing(x):\n",
    "    if x.find('=') > 0:\n",
    "        return x[x.find('=')+1:]\n",
    "    elif x.find(':') > 0:\n",
    "        return x[:x.find(':')]    \n",
    "    else:\n",
    "        return x\n",
    "\n",
    "def read_syslog_juniper(filename):\n",
    "    \n",
    "    #if (filename)[-3:] == '.gz':\n",
    "    #    f = hp.open_gz(filename)\n",
    "    #elif (filename)[-6:] == 'tar.gz':\n",
    "    #    f = hp.open_tar_gz(filename)\n",
    "    #else:\n",
    "    #    f = hp.open_txt(filename)\n",
    "    \n",
    "    chunksize = 20000\n",
    "    \n",
    "    #df =  pd.read_csv('311_100M.csv', chunksize=chunksize, iterator=True, encoding='utf-8'):\n",
    "    df = pd.DataFrame()\n",
    "    \n",
    "    for c in pd.read_table(filename, sep=' {1,}|\"', chunksize=chunksize, iterator=True, engine='python', index_col=False, header=None, parse_dates=[[0, 1, 2], [9,10]]):\n",
    "            df = pd.concat([df, c])\n",
    "            print(str(chunk) + \" processed.\")\n",
    "    \n",
    "    # restructure the dataframe\n",
    "    i = [0]\n",
    "    i.extend(range(3, 4))\n",
    "    i.extend([1])\n",
    "    i.extend(range(9, 13))\n",
    "    i.extend([14])\n",
    "    i.extend([16])\n",
    "    i.extend(range(17, 25))\n",
    "    df = df.iloc[:, i]\n",
    "    \n",
    "    df.columns = ['time', 'device_name', 'traffic_start', 'duration', 'policy_no', 'service', 'protocol', 'src_zone', 'dst_zone', 'action', 'sent_size', 'received_size', 'src_address', 'dst_address', 'src_port', 'dst_port', 'remarks']\n",
    "    df[['device_name', 'duration', 'policy_no', 'service', 'protocol', 'src_zone', 'dst_zone', 'action', 'sent_size', 'received_size', 'src_address', 'dst_address', 'src_port', 'dst_port']] = df[['device_name', 'duration', 'policy_no', 'service', 'protocol', 'src_zone', 'dst_zone', 'action', 'sent_size', 'received_size', 'src_address', 'dst_address', 'src_port', 'dst_port']].applymap(juniper_log_cleansing)\n",
    "    \n",
    "    return df"
   ]
  },
  {
   "cell_type": "code",
   "execution_count": 16,
   "metadata": {
    "collapsed": true
   },
   "outputs": [],
   "source": [
    "infile = \"C:\\Temp\\hk-ssg140.log-20150922\""
   ]
  },
  {
   "cell_type": "code",
   "execution_count": null,
   "metadata": {
    "collapsed": false,
    "scrolled": true
   },
   "outputs": [],
   "source": [
    "juniper = jp.read_syslog_juniper(infile)"
   ]
  },
  {
   "cell_type": "code",
   "execution_count": 15,
   "metadata": {
    "collapsed": false,
    "scrolled": true
   },
   "outputs": [
    {
     "data": {
      "text/html": [
       "<div>\n",
       "<table border=\"1\" class=\"dataframe\">\n",
       "  <thead>\n",
       "    <tr style=\"text-align: right;\">\n",
       "      <th></th>\n",
       "      <th>time</th>\n",
       "      <th>device_name</th>\n",
       "      <th>traffic_start</th>\n",
       "      <th>duration</th>\n",
       "      <th>policy_no</th>\n",
       "      <th>service</th>\n",
       "      <th>protocol</th>\n",
       "      <th>src_zone</th>\n",
       "      <th>dst_zone</th>\n",
       "      <th>action</th>\n",
       "      <th>sent_size</th>\n",
       "      <th>received_size</th>\n",
       "      <th>src_address</th>\n",
       "      <th>dst_address</th>\n",
       "      <th>src_port</th>\n",
       "      <th>dst_port</th>\n",
       "      <th>remarks</th>\n",
       "    </tr>\n",
       "  </thead>\n",
       "  <tbody>\n",
       "    <tr>\n",
       "      <th>0</th>\n",
       "      <td>2015-09-20 03:47:04</td>\n",
       "      <td>hk-SSG140</td>\n",
       "      <td>2015-09-20 03:59:04</td>\n",
       "      <td>0</td>\n",
       "      <td>6</td>\n",
       "      <td>tcp/port:2539</td>\n",
       "      <td>6</td>\n",
       "      <td>HK-LAN</td>\n",
       "      <td>Untrust</td>\n",
       "      <td>Deny</td>\n",
       "      <td>0</td>\n",
       "      <td>28</td>\n",
       "      <td>172.20.78.90</td>\n",
       "      <td>192.168.137.42</td>\n",
       "      <td>139</td>\n",
       "      <td>2539</td>\n",
       "      <td>session_id=0</td>\n",
       "    </tr>\n",
       "    <tr>\n",
       "      <th>1</th>\n",
       "      <td>2015-09-20 03:47:05</td>\n",
       "      <td>hk-SSG140</td>\n",
       "      <td>2015-09-20 03:58:05</td>\n",
       "      <td>61</td>\n",
       "      <td>397</td>\n",
       "      <td>udp/port:37738</td>\n",
       "      <td>17</td>\n",
       "      <td>AP-WAN</td>\n",
       "      <td>HK-DMZ</td>\n",
       "      <td>Permit</td>\n",
       "      <td>93</td>\n",
       "      <td>0</td>\n",
       "      <td>10.20.47.254</td>\n",
       "      <td>172.24.66.31</td>\n",
       "      <td>161</td>\n",
       "      <td>37738</td>\n",
       "      <td>src-xlated</td>\n",
       "    </tr>\n",
       "    <tr>\n",
       "      <th>2</th>\n",
       "      <td>2015-09-20 03:47:05</td>\n",
       "      <td>hk-SSG140</td>\n",
       "      <td>2015-09-20 03:58:04</td>\n",
       "      <td>62</td>\n",
       "      <td>587</td>\n",
       "      <td>snmp</td>\n",
       "      <td>17</td>\n",
       "      <td>HK-DMZ</td>\n",
       "      <td>HK-DMZ</td>\n",
       "      <td>Permit</td>\n",
       "      <td>90</td>\n",
       "      <td>0</td>\n",
       "      <td>172.24.66.31</td>\n",
       "      <td>172.20.68.253</td>\n",
       "      <td>47176</td>\n",
       "      <td>161</td>\n",
       "      <td>src-xlated</td>\n",
       "    </tr>\n",
       "    <tr>\n",
       "      <th>3</th>\n",
       "      <td>2015-09-20 03:47:05</td>\n",
       "      <td>hk-SSG140</td>\n",
       "      <td>2015-09-20 03:58:05</td>\n",
       "      <td>61</td>\n",
       "      <td>505</td>\n",
       "      <td>snmp</td>\n",
       "      <td>17</td>\n",
       "      <td>HK-DMZ</td>\n",
       "      <td>HK-LAN</td>\n",
       "      <td>Permit</td>\n",
       "      <td>92</td>\n",
       "      <td>0</td>\n",
       "      <td>172.24.66.31</td>\n",
       "      <td>172.20.78.2</td>\n",
       "      <td>42377</td>\n",
       "      <td>161</td>\n",
       "      <td>src-xlated</td>\n",
       "    </tr>\n",
       "    <tr>\n",
       "      <th>4</th>\n",
       "      <td>2015-09-20 03:47:05</td>\n",
       "      <td>hk-SSG140</td>\n",
       "      <td>2015-09-20 03:58:05</td>\n",
       "      <td>61</td>\n",
       "      <td>505</td>\n",
       "      <td>snmp</td>\n",
       "      <td>17</td>\n",
       "      <td>HK-DMZ</td>\n",
       "      <td>HK-LAN</td>\n",
       "      <td>Permit</td>\n",
       "      <td>92</td>\n",
       "      <td>0</td>\n",
       "      <td>172.24.66.31</td>\n",
       "      <td>172.20.78.2</td>\n",
       "      <td>37738</td>\n",
       "      <td>161</td>\n",
       "      <td>src-xlated</td>\n",
       "    </tr>\n",
       "  </tbody>\n",
       "</table>\n",
       "</div>"
      ],
      "text/plain": [
       "                 time device_name       traffic_start duration policy_no  \\\n",
       "0 2015-09-20 03:47:04   hk-SSG140 2015-09-20 03:59:04        0         6   \n",
       "1 2015-09-20 03:47:05   hk-SSG140 2015-09-20 03:58:05       61       397   \n",
       "2 2015-09-20 03:47:05   hk-SSG140 2015-09-20 03:58:04       62       587   \n",
       "3 2015-09-20 03:47:05   hk-SSG140 2015-09-20 03:58:05       61       505   \n",
       "4 2015-09-20 03:47:05   hk-SSG140 2015-09-20 03:58:05       61       505   \n",
       "\n",
       "          service protocol src_zone dst_zone  action sent_size received_size  \\\n",
       "0   tcp/port:2539        6   HK-LAN  Untrust    Deny         0            28   \n",
       "1  udp/port:37738       17   AP-WAN   HK-DMZ  Permit        93             0   \n",
       "2            snmp       17   HK-DMZ   HK-DMZ  Permit        90             0   \n",
       "3            snmp       17   HK-DMZ   HK-LAN  Permit        92             0   \n",
       "4            snmp       17   HK-DMZ   HK-LAN  Permit        92             0   \n",
       "\n",
       "    src_address     dst_address src_port dst_port       remarks  \n",
       "0  172.20.78.90  192.168.137.42      139     2539  session_id=0  \n",
       "1  10.20.47.254    172.24.66.31      161    37738    src-xlated  \n",
       "2  172.24.66.31   172.20.68.253    47176      161    src-xlated  \n",
       "3  172.24.66.31     172.20.78.2    42377      161    src-xlated  \n",
       "4  172.24.66.31     172.20.78.2    37738      161    src-xlated  "
      ]
     },
     "execution_count": 15,
     "metadata": {},
     "output_type": "execute_result"
    }
   ],
   "source": [
    "juniper.head()"
   ]
  },
  {
   "cell_type": "code",
   "execution_count": null,
   "metadata": {
    "collapsed": false
   },
   "outputs": [],
   "source": []
  }
 ],
 "metadata": {
  "kernelspec": {
   "display_name": "Python 2",
   "language": "python",
   "name": "python2"
  },
  "language_info": {
   "codemirror_mode": {
    "name": "ipython",
    "version": 2
   },
   "file_extension": ".py",
   "mimetype": "text/x-python",
   "name": "python",
   "nbconvert_exporter": "python",
   "pygments_lexer": "ipython2",
   "version": "2.7.10"
  }
 },
 "nbformat": 4,
 "nbformat_minor": 0
}
