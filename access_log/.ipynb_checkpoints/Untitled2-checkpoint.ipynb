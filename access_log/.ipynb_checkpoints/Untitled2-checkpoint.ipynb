{
 "cells": [
  {
   "cell_type": "code",
   "execution_count": 1,
   "metadata": {
    "collapsed": true
   },
   "outputs": [],
   "source": [
    "from __future__ import division"
   ]
  },
  {
   "cell_type": "code",
   "execution_count": 2,
   "metadata": {
    "collapsed": false
   },
   "outputs": [],
   "source": [
    "import csv\n",
    "import pandas as pd\n",
    "import datetime\n",
    "import string\n",
    "import numpy as np\n",
    "import helper as hp\n",
    "import sq\n",
    "import jp\n",
    "import urllib\n",
    "import os"
   ]
  },
  {
   "cell_type": "code",
   "execution_count": 3,
   "metadata": {
    "collapsed": true
   },
   "outputs": [],
   "source": [
    "from sqlalchemy import create_engine"
   ]
  },
  {
   "cell_type": "code",
   "execution_count": 4,
   "metadata": {
    "collapsed": false
   },
   "outputs": [],
   "source": [
    "pd.set_option('display.max_columns', None)\n",
    "Gb = 1000000000"
   ]
  },
  {
   "cell_type": "code",
   "execution_count": 5,
   "metadata": {
    "collapsed": false
   },
   "outputs": [],
   "source": [
    "temp_csv = 'c:'+os.sep+'temp'+os.sep+'temp.log'"
   ]
  },
  {
   "cell_type": "code",
   "execution_count": 6,
   "metadata": {
    "collapsed": true
   },
   "outputs": [],
   "source": [
    "log_file = 'c:'+os.sep+'temp'+os.sep+'hk-ssg140.log-20150922'"
   ]
  },
  {
   "cell_type": "code",
   "execution_count": 7,
   "metadata": {
    "collapsed": false
   },
   "outputs": [],
   "source": [
    "disk_engine = create_engine('sqlite:///c:\\\\temp\\\\access_log.db')"
   ]
  },
  {
   "cell_type": "code",
   "execution_count": 8,
   "metadata": {
    "collapsed": false
   },
   "outputs": [],
   "source": [
    "#store = pd.HDFStore('access_log.h5')"
   ]
  },
  {
   "cell_type": "code",
   "execution_count": 9,
   "metadata": {
    "collapsed": true
   },
   "outputs": [],
   "source": [
    "def get_server_from_URL(URLs):\n",
    "    result = []\n",
    "    \n",
    "    for u in URLs:\n",
    "        if u.startswith('http://'):\n",
    "            temp = u.split('http://')[1]\n",
    "            # further split on '/' character to return only server \n",
    "            result.append(temp.split('/')[0])\n",
    "        \n",
    "        elif u.startswith('http://'):\n",
    "            temp = u.split('https://')[1]\n",
    "            # further split on '/' character to return only server \n",
    "            result.append(temp.split('/')[0])\n",
    "        \n",
    "    return result"
   ]
  },
  {
   "cell_type": "code",
   "execution_count": 10,
   "metadata": {
    "collapsed": true
   },
   "outputs": [],
   "source": [
    "def remove_safe_site(URLs, safe_list):\n",
    "    result = []\n",
    "    for u in URLs:\n",
    "        m = False\n",
    "        for s in safe_list:\n",
    "            if s in u:\n",
    "                m = True\n",
    "                break\n",
    "                \n",
    "        if (m == False):\n",
    "            result.append(u)\n",
    "            \n",
    "    result = pd.Series(result).unique()\n",
    "        \n",
    "    return result            "
   ]
  },
  {
   "cell_type": "code",
   "execution_count": 11,
   "metadata": {
    "collapsed": true
   },
   "outputs": [],
   "source": [
    "def get_match_site(URLs, safe_list):\n",
    "    result = []\n",
    "    for u in URLs:\n",
    "        m = False\n",
    "        for s in safe_list:\n",
    "            if s in u:\n",
    "                m = True                \n",
    "                break\n",
    "                                \n",
    "        if (m == True):\n",
    "            result.append(u)\n",
    "            \n",
    "    result = pd.Series(result).unique()\n",
    "        \n",
    "    return result   "
   ]
  },
  {
   "cell_type": "code",
   "execution_count": 12,
   "metadata": {
    "collapsed": false
   },
   "outputs": [],
   "source": [
    "#squid = sq.read_squid_log('access.log')"
   ]
  },
  {
   "cell_type": "code",
   "execution_count": 13,
   "metadata": {
    "collapsed": false
   },
   "outputs": [],
   "source": [
    "#squid.tail()"
   ]
  },
  {
   "cell_type": "code",
   "execution_count": 14,
   "metadata": {
    "collapsed": true
   },
   "outputs": [],
   "source": [
    "#safe_websites = 'google|microsoft|trendmicro|gstatic.com|bdpinsight.eu|.gov.hk'"
   ]
  },
  {
   "cell_type": "code",
   "execution_count": 15,
   "metadata": {
    "collapsed": false
   },
   "outputs": [],
   "source": [
    "#access = squid[squid['URL'].str.contains(safe_websites) == False]"
   ]
  },
  {
   "cell_type": "code",
   "execution_count": 16,
   "metadata": {
    "collapsed": false
   },
   "outputs": [],
   "source": [
    "#sum(squid.bytes)/Gb"
   ]
  },
  {
   "cell_type": "code",
   "execution_count": 17,
   "metadata": {
    "collapsed": false
   },
   "outputs": [],
   "source": [
    "def clean_juniper_file(infile, outfile):\n",
    "    with open(infile, 'r') as in_file:\n",
    "        with open(outfile, 'w') as out_file:\n",
    "            for line in in_file:\n",
    "                if ('system-notification-00257(traffic)' in line):                                                \n",
    "                    idx_1 = line.find('service=')\n",
    "                    idx_2 = line.find(' proto=')\n",
    "                    if (idx_1 and idx_2):\n",
    "                        out_file.write(line[:idx_1]+line[idx_1:idx_2].replace(' ', '')+line[idx_2:])"
   ]
  },
  {
   "cell_type": "code",
   "execution_count": 18,
   "metadata": {
    "collapsed": false
   },
   "outputs": [],
   "source": [
    "clean_juniper_file(log_file, temp_csv)"
   ]
  },
  {
   "cell_type": "code",
   "execution_count": 19,
   "metadata": {
    "collapsed": false
   },
   "outputs": [],
   "source": [
    "def open_csv(filename, chunksize=20000):\n",
    "    \n",
    "    df = pd.DataFrame()\n",
    "    \n",
    "    for c in pd.read_table(filename, sep='\\s{1,}|\"', chunksize=chunksize, iterator=True, engine='python', index_col=False, header=None, parse_dates=[[0, 1, 2], [9,10]]):        \n",
    "        df = pd.concat([df, c])        \n",
    "        \n",
    "    print(str(len(df)) + \" rows processed.\")\n",
    "    \n",
    "    return df\n",
    "\n",
    "def juniper_log_cleansing(x):\n",
    "    if str(x).find('=') > 0:\n",
    "        return str(x)[str(x).find('=')+1:]\n",
    "    elif str(x).find(':') > 0:\n",
    "        return str(x)[:str(x).find(':')]    \n",
    "    else:\n",
    "        return x\n",
    "\n",
    "def read_syslog_juniper(filename):\n",
    "       \n",
    "    df = open_csv(filename)\n",
    "    \n",
    "    df = df[df[7].str.contains('information') == False]\n",
    "    \n",
    "    # restructure the dataframe\n",
    "    i = [0]\n",
    "    i.extend(range(3, 4))\n",
    "    i.extend([1])\n",
    "    i.extend(range(9, 13))\n",
    "    i.extend([14])\n",
    "    i.extend([16])\n",
    "    i.extend(range(17, 25))\n",
    "    df = df.iloc[:, i]\n",
    "    \n",
    "    df.columns = ['time', 'device_name', 'traffic_start', 'duration', 'policy_no', 'service', 'protocol', 'src_zone', 'dst_zone', 'action', 'sent_size', 'received_size', 'src_address', 'dst_address', 'src_port', 'dst_port', 'remarks']\n",
    "    df[['device_name', 'duration', 'policy_no', 'service', 'protocol', 'src_zone', 'dst_zone', 'action', 'sent_size', 'received_size', 'src_address', 'dst_address', 'src_port', 'dst_port']] = df[['device_name', 'duration', 'policy_no', 'service', 'protocol', 'src_zone', 'dst_zone', 'action', 'sent_size', 'received_size', 'src_address', 'dst_address', 'src_port', 'dst_port']].applymap(juniper_log_cleansing)\n",
    "    df[['policy_no', 'protocol', 'sent_size', 'received_size', 'src_port', 'dst_port']] = df[['policy_no', 'protocol', 'sent_size', 'received_size', 'src_port', 'dst_port']].convert_objects(convert_numeric = True)\n",
    "    \n",
    "    df = df.reset_index(drop=True)\n",
    "    \n",
    "    return df\n",
    "\n",
    "def summary_groups(grouped):\n",
    "    for name, group in grouped:\n",
    "        print group\n",
    "        "
   ]
  },
  {
   "cell_type": "code",
   "execution_count": 20,
   "metadata": {
    "collapsed": false,
    "scrolled": true
   },
   "outputs": [
    {
     "name": "stdout",
     "output_type": "stream",
     "text": [
      "1549682 rows processed.\n"
     ]
    }
   ],
   "source": [
    "juniper = read_syslog_juniper(temp_csv)"
   ]
  },
  {
   "cell_type": "code",
   "execution_count": 21,
   "metadata": {
    "collapsed": false
   },
   "outputs": [
    {
     "data": {
      "text/html": [
       "<div style=\"max-height:1000px;max-width:1500px;overflow:auto;\">\n",
       "<table border=\"1\" class=\"dataframe\">\n",
       "  <thead>\n",
       "    <tr style=\"text-align: right;\">\n",
       "      <th></th>\n",
       "      <th>time</th>\n",
       "      <th>device_name</th>\n",
       "      <th>traffic_start</th>\n",
       "      <th>duration</th>\n",
       "      <th>policy_no</th>\n",
       "      <th>service</th>\n",
       "      <th>protocol</th>\n",
       "      <th>src_zone</th>\n",
       "      <th>dst_zone</th>\n",
       "      <th>action</th>\n",
       "      <th>sent_size</th>\n",
       "      <th>received_size</th>\n",
       "      <th>src_address</th>\n",
       "      <th>dst_address</th>\n",
       "      <th>src_port</th>\n",
       "      <th>dst_port</th>\n",
       "      <th>remarks</th>\n",
       "    </tr>\n",
       "  </thead>\n",
       "  <tbody>\n",
       "    <tr>\n",
       "      <th>0</th>\n",
       "      <td>2015-09-17 04:02:02</td>\n",
       "      <td> hk-SSG140</td>\n",
       "      <td>2015-09-17 04:13:57</td>\n",
       "      <td> 0</td>\n",
       "      <td>  29</td>\n",
       "      <td>            dns</td>\n",
       "      <td> 17</td>\n",
       "      <td> HK-LAN</td>\n",
       "      <td> Untrust</td>\n",
       "      <td> Permit</td>\n",
       "      <td>    0</td>\n",
       "      <td>    0</td>\n",
       "      <td>   172.20.78.20</td>\n",
       "      <td>  216.69.185.8</td>\n",
       "      <td> 57524</td>\n",
       "      <td>    53</td>\n",
       "      <td>   src-xlated</td>\n",
       "    </tr>\n",
       "    <tr>\n",
       "      <th>1</th>\n",
       "      <td>2015-09-17 04:02:02</td>\n",
       "      <td> hk-SSG140</td>\n",
       "      <td>2015-09-17 04:13:57</td>\n",
       "      <td> 0</td>\n",
       "      <td>  29</td>\n",
       "      <td>            dns</td>\n",
       "      <td> 17</td>\n",
       "      <td> HK-LAN</td>\n",
       "      <td> Untrust</td>\n",
       "      <td> Permit</td>\n",
       "      <td>    0</td>\n",
       "      <td>    0</td>\n",
       "      <td>   172.20.78.20</td>\n",
       "      <td>  192.33.14.30</td>\n",
       "      <td> 57436</td>\n",
       "      <td>    53</td>\n",
       "      <td>   src-xlated</td>\n",
       "    </tr>\n",
       "    <tr>\n",
       "      <th>2</th>\n",
       "      <td>2015-09-17 04:02:02</td>\n",
       "      <td> hk-SSG140</td>\n",
       "      <td>2015-09-17 04:13:57</td>\n",
       "      <td> 0</td>\n",
       "      <td>  37</td>\n",
       "      <td>           snmp</td>\n",
       "      <td> 17</td>\n",
       "      <td> HK-DMZ</td>\n",
       "      <td>  HK-LAN</td>\n",
       "      <td>   Deny</td>\n",
       "      <td>    0</td>\n",
       "      <td>   50</td>\n",
       "      <td> 172.21.200.230</td>\n",
       "      <td> 172.20.78.123</td>\n",
       "      <td> 50835</td>\n",
       "      <td>   161</td>\n",
       "      <td> session_id=0</td>\n",
       "    </tr>\n",
       "    <tr>\n",
       "      <th>3</th>\n",
       "      <td>2015-09-17 04:02:03</td>\n",
       "      <td> hk-SSG140</td>\n",
       "      <td>2015-09-17 04:13:56</td>\n",
       "      <td> 3</td>\n",
       "      <td>  38</td>\n",
       "      <td>          https</td>\n",
       "      <td>  6</td>\n",
       "      <td> HK-LAN</td>\n",
       "      <td>  HK-DMZ</td>\n",
       "      <td> Permit</td>\n",
       "      <td> 1271</td>\n",
       "      <td> 2001</td>\n",
       "      <td>   172.20.78.77</td>\n",
       "      <td>  172.20.113.3</td>\n",
       "      <td> 58776</td>\n",
       "      <td>   443</td>\n",
       "      <td>   src-xlated</td>\n",
       "    </tr>\n",
       "    <tr>\n",
       "      <th>4</th>\n",
       "      <td>2015-09-17 04:02:03</td>\n",
       "      <td> hk-SSG140</td>\n",
       "      <td>2015-09-17 04:13:56</td>\n",
       "      <td> 3</td>\n",
       "      <td> 470</td>\n",
       "      <td> tcp/port:47337</td>\n",
       "      <td>  6</td>\n",
       "      <td> HK-LAN</td>\n",
       "      <td>  HK-DMZ</td>\n",
       "      <td> Permit</td>\n",
       "      <td>   95</td>\n",
       "      <td>   58</td>\n",
       "      <td>  172.20.78.115</td>\n",
       "      <td>  172.24.66.31</td>\n",
       "      <td>   443</td>\n",
       "      <td> 47337</td>\n",
       "      <td>   src-xlated</td>\n",
       "    </tr>\n",
       "  </tbody>\n",
       "</table>\n",
       "</div>"
      ],
      "text/plain": [
       "                 time device_name       traffic_start duration  policy_no  \\\n",
       "0 2015-09-17 04:02:02   hk-SSG140 2015-09-17 04:13:57        0         29   \n",
       "1 2015-09-17 04:02:02   hk-SSG140 2015-09-17 04:13:57        0         29   \n",
       "2 2015-09-17 04:02:02   hk-SSG140 2015-09-17 04:13:57        0         37   \n",
       "3 2015-09-17 04:02:03   hk-SSG140 2015-09-17 04:13:56        3         38   \n",
       "4 2015-09-17 04:02:03   hk-SSG140 2015-09-17 04:13:56        3        470   \n",
       "\n",
       "          service  protocol src_zone dst_zone  action  sent_size  \\\n",
       "0             dns        17   HK-LAN  Untrust  Permit          0   \n",
       "1             dns        17   HK-LAN  Untrust  Permit          0   \n",
       "2            snmp        17   HK-DMZ   HK-LAN    Deny          0   \n",
       "3           https         6   HK-LAN   HK-DMZ  Permit       1271   \n",
       "4  tcp/port:47337         6   HK-LAN   HK-DMZ  Permit         95   \n",
       "\n",
       "   received_size     src_address    dst_address  src_port  dst_port  \\\n",
       "0              0    172.20.78.20   216.69.185.8     57524        53   \n",
       "1              0    172.20.78.20   192.33.14.30     57436        53   \n",
       "2             50  172.21.200.230  172.20.78.123     50835       161   \n",
       "3           2001    172.20.78.77   172.20.113.3     58776       443   \n",
       "4             58   172.20.78.115   172.24.66.31       443     47337   \n",
       "\n",
       "        remarks  \n",
       "0    src-xlated  \n",
       "1    src-xlated  \n",
       "2  session_id=0  \n",
       "3    src-xlated  \n",
       "4    src-xlated  "
      ]
     },
     "execution_count": 21,
     "metadata": {},
     "output_type": "execute_result"
    }
   ],
   "source": [
    "juniper.head()"
   ]
  },
  {
   "cell_type": "code",
   "execution_count": 40,
   "metadata": {
    "collapsed": false
   },
   "outputs": [
    {
     "data": {
      "text/plain": [
       "0     17092015\n",
       "1     17092015\n",
       "2     17092015\n",
       "3     17092015\n",
       "4     17092015\n",
       "5     17092015\n",
       "6     17092015\n",
       "7     17092015\n",
       "8     17092015\n",
       "9     17092015\n",
       "10    17092015\n",
       "11    17092015\n",
       "12    17092015\n",
       "13    17092015\n",
       "14    17092015\n",
       "...\n",
       "1549667    18092015\n",
       "1549668    18092015\n",
       "1549669    18092015\n",
       "1549670    18092015\n",
       "1549671    18092015\n",
       "1549672    18092015\n",
       "1549673    18092015\n",
       "1549674    18092015\n",
       "1549675    18092015\n",
       "1549676    18092015\n",
       "1549677    18092015\n",
       "1549678    18092015\n",
       "1549679    18092015\n",
       "1549680    18092015\n",
       "1549681    18092015\n",
       "Name: time, Length: 1549682, dtype: object"
      ]
     },
     "execution_count": 40,
     "metadata": {},
     "output_type": "execute_result"
    }
   ],
   "source": []
  },
  {
   "cell_type": "code",
   "execution_count": 41,
   "metadata": {
    "collapsed": false
   },
   "outputs": [],
   "source": [
    "juniper['date'] = juniper['time'].apply(lambda x: x.strftime('%Y-%m-%d'))\n",
    "juniper['total_size'] = juniper['sent_size'] + juniper['received_size']"
   ]
  },
  {
   "cell_type": "code",
   "execution_count": 42,
   "metadata": {
    "collapsed": false
   },
   "outputs": [
    {
     "data": {
      "text/html": [
       "<div style=\"max-height:1000px;max-width:1500px;overflow:auto;\">\n",
       "<table border=\"1\" class=\"dataframe\">\n",
       "  <thead>\n",
       "    <tr style=\"text-align: right;\">\n",
       "      <th></th>\n",
       "      <th>time</th>\n",
       "      <th>device_name</th>\n",
       "      <th>traffic_start</th>\n",
       "      <th>duration</th>\n",
       "      <th>policy_no</th>\n",
       "      <th>service</th>\n",
       "      <th>protocol</th>\n",
       "      <th>src_zone</th>\n",
       "      <th>dst_zone</th>\n",
       "      <th>action</th>\n",
       "      <th>sent_size</th>\n",
       "      <th>received_size</th>\n",
       "      <th>src_address</th>\n",
       "      <th>dst_address</th>\n",
       "      <th>src_port</th>\n",
       "      <th>dst_port</th>\n",
       "      <th>remarks</th>\n",
       "      <th>date</th>\n",
       "      <th>total_size</th>\n",
       "    </tr>\n",
       "  </thead>\n",
       "  <tbody>\n",
       "    <tr>\n",
       "      <th>0</th>\n",
       "      <td>2015-09-17 04:02:02</td>\n",
       "      <td> hk-SSG140</td>\n",
       "      <td>2015-09-17 04:13:57</td>\n",
       "      <td> 0</td>\n",
       "      <td>  29</td>\n",
       "      <td>            dns</td>\n",
       "      <td> 17</td>\n",
       "      <td> HK-LAN</td>\n",
       "      <td> Untrust</td>\n",
       "      <td> Permit</td>\n",
       "      <td>    0</td>\n",
       "      <td>    0</td>\n",
       "      <td>   172.20.78.20</td>\n",
       "      <td>  216.69.185.8</td>\n",
       "      <td> 57524</td>\n",
       "      <td>    53</td>\n",
       "      <td>   src-xlated</td>\n",
       "      <td> 2015-09-17</td>\n",
       "      <td>    0</td>\n",
       "    </tr>\n",
       "    <tr>\n",
       "      <th>1</th>\n",
       "      <td>2015-09-17 04:02:02</td>\n",
       "      <td> hk-SSG140</td>\n",
       "      <td>2015-09-17 04:13:57</td>\n",
       "      <td> 0</td>\n",
       "      <td>  29</td>\n",
       "      <td>            dns</td>\n",
       "      <td> 17</td>\n",
       "      <td> HK-LAN</td>\n",
       "      <td> Untrust</td>\n",
       "      <td> Permit</td>\n",
       "      <td>    0</td>\n",
       "      <td>    0</td>\n",
       "      <td>   172.20.78.20</td>\n",
       "      <td>  192.33.14.30</td>\n",
       "      <td> 57436</td>\n",
       "      <td>    53</td>\n",
       "      <td>   src-xlated</td>\n",
       "      <td> 2015-09-17</td>\n",
       "      <td>    0</td>\n",
       "    </tr>\n",
       "    <tr>\n",
       "      <th>2</th>\n",
       "      <td>2015-09-17 04:02:02</td>\n",
       "      <td> hk-SSG140</td>\n",
       "      <td>2015-09-17 04:13:57</td>\n",
       "      <td> 0</td>\n",
       "      <td>  37</td>\n",
       "      <td>           snmp</td>\n",
       "      <td> 17</td>\n",
       "      <td> HK-DMZ</td>\n",
       "      <td>  HK-LAN</td>\n",
       "      <td>   Deny</td>\n",
       "      <td>    0</td>\n",
       "      <td>   50</td>\n",
       "      <td> 172.21.200.230</td>\n",
       "      <td> 172.20.78.123</td>\n",
       "      <td> 50835</td>\n",
       "      <td>   161</td>\n",
       "      <td> session_id=0</td>\n",
       "      <td> 2015-09-17</td>\n",
       "      <td>   50</td>\n",
       "    </tr>\n",
       "    <tr>\n",
       "      <th>3</th>\n",
       "      <td>2015-09-17 04:02:03</td>\n",
       "      <td> hk-SSG140</td>\n",
       "      <td>2015-09-17 04:13:56</td>\n",
       "      <td> 3</td>\n",
       "      <td>  38</td>\n",
       "      <td>          https</td>\n",
       "      <td>  6</td>\n",
       "      <td> HK-LAN</td>\n",
       "      <td>  HK-DMZ</td>\n",
       "      <td> Permit</td>\n",
       "      <td> 1271</td>\n",
       "      <td> 2001</td>\n",
       "      <td>   172.20.78.77</td>\n",
       "      <td>  172.20.113.3</td>\n",
       "      <td> 58776</td>\n",
       "      <td>   443</td>\n",
       "      <td>   src-xlated</td>\n",
       "      <td> 2015-09-17</td>\n",
       "      <td> 3272</td>\n",
       "    </tr>\n",
       "    <tr>\n",
       "      <th>4</th>\n",
       "      <td>2015-09-17 04:02:03</td>\n",
       "      <td> hk-SSG140</td>\n",
       "      <td>2015-09-17 04:13:56</td>\n",
       "      <td> 3</td>\n",
       "      <td> 470</td>\n",
       "      <td> tcp/port:47337</td>\n",
       "      <td>  6</td>\n",
       "      <td> HK-LAN</td>\n",
       "      <td>  HK-DMZ</td>\n",
       "      <td> Permit</td>\n",
       "      <td>   95</td>\n",
       "      <td>   58</td>\n",
       "      <td>  172.20.78.115</td>\n",
       "      <td>  172.24.66.31</td>\n",
       "      <td>   443</td>\n",
       "      <td> 47337</td>\n",
       "      <td>   src-xlated</td>\n",
       "      <td> 2015-09-17</td>\n",
       "      <td>  153</td>\n",
       "    </tr>\n",
       "  </tbody>\n",
       "</table>\n",
       "</div>"
      ],
      "text/plain": [
       "                 time device_name       traffic_start duration  policy_no  \\\n",
       "0 2015-09-17 04:02:02   hk-SSG140 2015-09-17 04:13:57        0         29   \n",
       "1 2015-09-17 04:02:02   hk-SSG140 2015-09-17 04:13:57        0         29   \n",
       "2 2015-09-17 04:02:02   hk-SSG140 2015-09-17 04:13:57        0         37   \n",
       "3 2015-09-17 04:02:03   hk-SSG140 2015-09-17 04:13:56        3         38   \n",
       "4 2015-09-17 04:02:03   hk-SSG140 2015-09-17 04:13:56        3        470   \n",
       "\n",
       "          service  protocol src_zone dst_zone  action  sent_size  \\\n",
       "0             dns        17   HK-LAN  Untrust  Permit          0   \n",
       "1             dns        17   HK-LAN  Untrust  Permit          0   \n",
       "2            snmp        17   HK-DMZ   HK-LAN    Deny          0   \n",
       "3           https         6   HK-LAN   HK-DMZ  Permit       1271   \n",
       "4  tcp/port:47337         6   HK-LAN   HK-DMZ  Permit         95   \n",
       "\n",
       "   received_size     src_address    dst_address  src_port  dst_port  \\\n",
       "0              0    172.20.78.20   216.69.185.8     57524        53   \n",
       "1              0    172.20.78.20   192.33.14.30     57436        53   \n",
       "2             50  172.21.200.230  172.20.78.123     50835       161   \n",
       "3           2001    172.20.78.77   172.20.113.3     58776       443   \n",
       "4             58   172.20.78.115   172.24.66.31       443     47337   \n",
       "\n",
       "        remarks        date  total_size  \n",
       "0    src-xlated  2015-09-17           0  \n",
       "1    src-xlated  2015-09-17           0  \n",
       "2  session_id=0  2015-09-17          50  \n",
       "3    src-xlated  2015-09-17        3272  \n",
       "4    src-xlated  2015-09-17         153  "
      ]
     },
     "execution_count": 42,
     "metadata": {},
     "output_type": "execute_result"
    }
   ],
   "source": [
    "juniper.head()"
   ]
  },
  {
   "cell_type": "code",
   "execution_count": 43,
   "metadata": {
    "collapsed": false
   },
   "outputs": [],
   "source": [
    "grouped = juniper.groupby(['date', 'src_address'])"
   ]
  },
  {
   "cell_type": "code",
   "execution_count": 44,
   "metadata": {
    "collapsed": false
   },
   "outputs": [
    {
     "data": {
      "text/plain": [
       "1275"
      ]
     },
     "execution_count": 44,
     "metadata": {},
     "output_type": "execute_result"
    }
   ],
   "source": [
    "grouped.ngroups"
   ]
  },
  {
   "cell_type": "code",
   "execution_count": 45,
   "metadata": {
    "collapsed": false
   },
   "outputs": [
    {
     "name": "stdout",
     "output_type": "stream",
     "text": [
      "total: 21.301632089 Gb\n"
     ]
    }
   ],
   "source": [
    "total = 0\n",
    "for i in grouped.groups.keys():\n",
    "    subtotal = np.nansum(juniper.iloc[grouped.groups[i]].sent_size)\n",
    "    #print (i + ': ' + str(subtotal))\n",
    "    total += subtotal\n",
    "    #print i\n",
    "    #print grouped.groups[i]\n",
    "print 'total: ' + str(total/Gb) + ' Gb'"
   ]
  },
  {
   "cell_type": "code",
   "execution_count": 46,
   "metadata": {
    "collapsed": false
   },
   "outputs": [],
   "source": [
    "temp_result = []\n",
    "for d, i in grouped.groups.keys():\n",
    "    temp_result.append([d, i, len(juniper.iloc[grouped.groups[(d, i)]]), np.sum(juniper.iloc[grouped.groups[(d, i)]]).total_size])"
   ]
  },
  {
   "cell_type": "code",
   "execution_count": 47,
   "metadata": {
    "collapsed": false
   },
   "outputs": [],
   "source": [
    "sqldb = pd.DataFrame(temp_result, columns=['date', 'ip', 'count', 'total_size'])"
   ]
  },
  {
   "cell_type": "code",
   "execution_count": 48,
   "metadata": {
    "collapsed": false
   },
   "outputs": [
    {
     "data": {
      "text/html": [
       "<div style=\"max-height:1000px;max-width:1500px;overflow:auto;\">\n",
       "<table border=\"1\" class=\"dataframe\">\n",
       "  <thead>\n",
       "    <tr style=\"text-align: right;\">\n",
       "      <th></th>\n",
       "      <th>date</th>\n",
       "      <th>ip</th>\n",
       "      <th>count</th>\n",
       "      <th>total_size</th>\n",
       "    </tr>\n",
       "  </thead>\n",
       "  <tbody>\n",
       "    <tr>\n",
       "      <th>0</th>\n",
       "      <td> 2015-09-17</td>\n",
       "      <td> 111.248.115.140</td>\n",
       "      <td>  1</td>\n",
       "      <td>      20</td>\n",
       "    </tr>\n",
       "    <tr>\n",
       "      <th>1</th>\n",
       "      <td> 2015-09-17</td>\n",
       "      <td>  172.20.114.182</td>\n",
       "      <td>  9</td>\n",
       "      <td> 1323484</td>\n",
       "    </tr>\n",
       "    <tr>\n",
       "      <th>2</th>\n",
       "      <td> 2015-09-17</td>\n",
       "      <td>   119.56.124.59</td>\n",
       "      <td>  2</td>\n",
       "      <td>  163451</td>\n",
       "    </tr>\n",
       "    <tr>\n",
       "      <th>3</th>\n",
       "      <td> 2015-09-17</td>\n",
       "      <td>  117.136.40.208</td>\n",
       "      <td> 99</td>\n",
       "      <td>  287993</td>\n",
       "    </tr>\n",
       "    <tr>\n",
       "      <th>4</th>\n",
       "      <td> 2015-09-17</td>\n",
       "      <td>     59.38.97.78</td>\n",
       "      <td> 58</td>\n",
       "      <td> 1506649</td>\n",
       "    </tr>\n",
       "  </tbody>\n",
       "</table>\n",
       "</div>"
      ],
      "text/plain": [
       "         date               ip  count  total_size\n",
       "0  2015-09-17  111.248.115.140      1          20\n",
       "1  2015-09-17   172.20.114.182      9     1323484\n",
       "2  2015-09-17    119.56.124.59      2      163451\n",
       "3  2015-09-17   117.136.40.208     99      287993\n",
       "4  2015-09-17      59.38.97.78     58     1506649"
      ]
     },
     "execution_count": 48,
     "metadata": {},
     "output_type": "execute_result"
    }
   ],
   "source": [
    "sqldb.head()"
   ]
  },
  {
   "cell_type": "code",
   "execution_count": 49,
   "metadata": {
    "collapsed": false
   },
   "outputs": [
    {
     "data": {
      "text/plain": [
       "Int64Index([0, 1, 2, 3, 4, 5, 6, 7, 8, 9, 10, 11, 12, 13, 14, 15, 16, 17, 18, 19, 20, 21, 22, 23, 24, 25, 26, 27, 28, 29, 30, 31, 32, 33, 34, 35, 36, 37, 38, 39, 40, 41, 42, 43, 44, 45, 46, 47, 48, 49, 50, 51, 52, 53, 54, 55, 56, 57, 58, 59, 60, 61, 62, 63, 64, 65, 66, 67, 68, 69, 70, 71, 72, 73, 74, 75, 76, 77, 78, 79, 80, 81, 82, 83, 84, 85, 86, 87, 88, 89, 90, 91, 92, 93, 94, 95, 96, 97, 98, 99, ...], dtype='int64')"
      ]
     },
     "execution_count": 49,
     "metadata": {},
     "output_type": "execute_result"
    }
   ],
   "source": [
    "sqldb.index"
   ]
  },
  {
   "cell_type": "code",
   "execution_count": 50,
   "metadata": {
    "collapsed": false
   },
   "outputs": [],
   "source": [
    "sqldb.to_sql('data', disk_engine, index=False, if_exists='append')"
   ]
  },
  {
   "cell_type": "code",
   "execution_count": null,
   "metadata": {
    "collapsed": false
   },
   "outputs": [],
   "source": [
    "#for k in grouped.groups.keys():\n",
    "#    print k"
   ]
  },
  {
   "cell_type": "code",
   "execution_count": null,
   "metadata": {
    "collapsed": false
   },
   "outputs": [],
   "source": [
    "#len(juniper.iloc[483167:483169, :])"
   ]
  },
  {
   "cell_type": "code",
   "execution_count": null,
   "metadata": {
    "collapsed": false
   },
   "outputs": [],
   "source": [
    "#juniper.iloc[483167:483169, :]"
   ]
  },
  {
   "cell_type": "code",
   "execution_count": null,
   "metadata": {
    "collapsed": false
   },
   "outputs": [],
   "source": [
    "#juniper.iloc[925410,]"
   ]
  },
  {
   "cell_type": "code",
   "execution_count": null,
   "metadata": {
    "collapsed": false,
    "scrolled": true
   },
   "outputs": [],
   "source": [
    "#pd.DataFrame.sum(juniper[['sent_size']])"
   ]
  },
  {
   "cell_type": "code",
   "execution_count": null,
   "metadata": {
    "collapsed": false
   },
   "outputs": [],
   "source": [
    "#juniper"
   ]
  }
 ],
 "metadata": {
  "kernelspec": {
   "display_name": "Python 2",
   "language": "python",
   "name": "python2"
  },
  "language_info": {
   "codemirror_mode": {
    "name": "ipython",
    "version": 2
   },
   "file_extension": ".py",
   "mimetype": "text/x-python",
   "name": "python",
   "nbconvert_exporter": "python",
   "pygments_lexer": "ipython2",
   "version": "2.7.7"
  }
 },
 "nbformat": 4,
 "nbformat_minor": 0
}
