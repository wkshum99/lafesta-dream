{
 "cells": [
  {
   "cell_type": "code",
   "execution_count": 1,
   "metadata": {
    "collapsed": true
   },
   "outputs": [],
   "source": [
    "from __future__ import division"
   ]
  },
  {
   "cell_type": "code",
   "execution_count": 2,
   "metadata": {
    "collapsed": false
   },
   "outputs": [],
   "source": [
    "import csv\n",
    "import pandas as pd\n",
    "import datetime\n",
    "import string\n",
    "import numpy as np\n",
    "import helper as hp\n",
    "import sq\n",
    "import jp\n",
    "import urllib\n",
    "import os"
   ]
  },
  {
   "cell_type": "code",
   "execution_count": 3,
   "metadata": {
    "collapsed": true
   },
   "outputs": [],
   "source": [
    "from sqlalchemy import create_engine"
   ]
  },
  {
   "cell_type": "code",
   "execution_count": 4,
   "metadata": {
    "collapsed": false
   },
   "outputs": [],
   "source": [
    "pd.set_option('display.max_columns', None)\n",
    "Gb = 1000000000"
   ]
  },
  {
   "cell_type": "code",
   "execution_count": 5,
   "metadata": {
    "collapsed": false
   },
   "outputs": [],
   "source": [
    "temp_csv = 'c:'+os.sep+'temp'+os.sep+'temp.log'"
   ]
  },
  {
   "cell_type": "code",
   "execution_count": 6,
   "metadata": {
    "collapsed": true
   },
   "outputs": [],
   "source": [
    "log_file = 'c:'+os.sep+'temp'+os.sep+'hk-ssg140.log-20150922'"
   ]
  },
  {
   "cell_type": "code",
   "execution_count": 7,
   "metadata": {
    "collapsed": false
   },
   "outputs": [],
   "source": [
    "disk_engine = create_engine('sqlite:///c:\\\\temp\\\\access_log.db')"
   ]
  },
  {
   "cell_type": "code",
   "execution_count": 8,
   "metadata": {
    "collapsed": false
   },
   "outputs": [],
   "source": [
    "#store = pd.HDFStore('access_log.h5')"
   ]
  },
  {
   "cell_type": "code",
   "execution_count": 9,
   "metadata": {
    "collapsed": true
   },
   "outputs": [],
   "source": [
    "def get_server_from_URL(URLs):\n",
    "    result = []\n",
    "    \n",
    "    for u in URLs:\n",
    "        if u.startswith('http://'):\n",
    "            temp = u.split('http://')[1]\n",
    "            # further split on '/' character to return only server \n",
    "            result.append(temp.split('/')[0])\n",
    "        \n",
    "        elif u.startswith('http://'):\n",
    "            temp = u.split('https://')[1]\n",
    "            # further split on '/' character to return only server \n",
    "            result.append(temp.split('/')[0])\n",
    "        \n",
    "    return result"
   ]
  },
  {
   "cell_type": "code",
   "execution_count": 10,
   "metadata": {
    "collapsed": true
   },
   "outputs": [],
   "source": [
    "def remove_safe_site(URLs, safe_list):\n",
    "    result = []\n",
    "    for u in URLs:\n",
    "        m = False\n",
    "        for s in safe_list:\n",
    "            if s in u:\n",
    "                m = True\n",
    "                break\n",
    "                \n",
    "        if (m == False):\n",
    "            result.append(u)\n",
    "            \n",
    "    result = pd.Series(result).unique()\n",
    "        \n",
    "    return result            "
   ]
  },
  {
   "cell_type": "code",
   "execution_count": 11,
   "metadata": {
    "collapsed": true
   },
   "outputs": [],
   "source": [
    "def get_match_site(URLs, safe_list):\n",
    "    result = []\n",
    "    for u in URLs:\n",
    "        m = False\n",
    "        for s in safe_list:\n",
    "            if s in u:\n",
    "                m = True                \n",
    "                break\n",
    "                                \n",
    "        if (m == True):\n",
    "            result.append(u)\n",
    "            \n",
    "    result = pd.Series(result).unique()\n",
    "        \n",
    "    return result   "
   ]
  },
  {
   "cell_type": "code",
   "execution_count": 12,
   "metadata": {
    "collapsed": false
   },
   "outputs": [],
   "source": [
    "#squid = sq.read_squid_log('access.log')"
   ]
  },
  {
   "cell_type": "code",
   "execution_count": 13,
   "metadata": {
    "collapsed": false
   },
   "outputs": [],
   "source": [
    "#squid.tail()"
   ]
  },
  {
   "cell_type": "code",
   "execution_count": 14,
   "metadata": {
    "collapsed": true
   },
   "outputs": [],
   "source": [
    "#safe_websites = 'google|microsoft|trendmicro|gstatic.com|bdpinsight.eu|.gov.hk'"
   ]
  },
  {
   "cell_type": "code",
   "execution_count": 15,
   "metadata": {
    "collapsed": false
   },
   "outputs": [],
   "source": [
    "#access = squid[squid['URL'].str.contains(safe_websites) == False]"
   ]
  },
  {
   "cell_type": "code",
   "execution_count": 16,
   "metadata": {
    "collapsed": false
   },
   "outputs": [],
   "source": [
    "#sum(squid.bytes)/Gb"
   ]
  },
  {
   "cell_type": "code",
   "execution_count": 17,
   "metadata": {
    "collapsed": false
   },
   "outputs": [],
   "source": [
    "def clean_juniper_file(infile, outfile):\n",
    "    with open(infile, 'r') as in_file:\n",
    "        with open(outfile, 'w') as out_file:\n",
    "            for line in in_file:\n",
    "                if ('system-notification-00257(traffic)' in line):                                                \n",
    "                    idx_1 = line.find('service=')\n",
    "                    idx_2 = line.find(' proto=')\n",
    "                    if (idx_1 and idx_2):\n",
    "                        out_file.write(line[:idx_1]+line[idx_1:idx_2].replace(' ', '')+line[idx_2:])"
   ]
  },
  {
   "cell_type": "code",
   "execution_count": 18,
   "metadata": {
    "collapsed": false
   },
   "outputs": [],
   "source": [
    "clean_juniper_file(log_file, temp_csv)"
   ]
  },
  {
   "cell_type": "code",
   "execution_count": 19,
   "metadata": {
    "collapsed": false
   },
   "outputs": [],
   "source": [
    "def open_csv(filename, chunksize=20000):\n",
    "    \n",
    "    df = pd.DataFrame()\n",
    "    \n",
    "    for c in pd.read_table(filename, sep='\\s{1,}|\"', chunksize=chunksize, iterator=True, engine='python', index_col=False, header=None, parse_dates=[[0, 1, 2], [9,10]]):        \n",
    "        df = pd.concat([df, c])        \n",
    "        \n",
    "    print(str(len(df)) + \" rows processed.\")\n",
    "    \n",
    "    return df\n",
    "\n",
    "def juniper_log_cleansing(x):\n",
    "    if str(x).find('=') > 0:\n",
    "        return str(x)[str(x).find('=')+1:]\n",
    "    elif str(x).find(':') > 0:\n",
    "        return str(x)[:str(x).find(':')]    \n",
    "    else:\n",
    "        return x\n",
    "\n",
    "def read_syslog_juniper(filename):\n",
    "       \n",
    "    df = open_csv(filename)\n",
    "    \n",
    "    df = df[df[7].str.contains('information') == False]\n",
    "    \n",
    "    # restructure the dataframe\n",
    "    i = [0]\n",
    "    i.extend(range(3, 4))\n",
    "    i.extend([1])\n",
    "    i.extend(range(9, 13))\n",
    "    i.extend([14])\n",
    "    i.extend([16])\n",
    "    i.extend(range(17, 25))\n",
    "    df = df.iloc[:, i]\n",
    "    \n",
    "    df.columns = ['time', 'device_name', 'traffic_start', 'duration', 'policy_no', 'service', 'protocol', 'src_zone', 'dst_zone', 'action', 'sent_size', 'received_size', 'src_address', 'dst_address', 'src_port', 'dst_port', 'remarks']\n",
    "    df[['device_name', 'duration', 'policy_no', 'service', 'protocol', 'src_zone', 'dst_zone', 'action', 'sent_size', 'received_size', 'src_address', 'dst_address', 'src_port', 'dst_port']] = df[['device_name', 'duration', 'policy_no', 'service', 'protocol', 'src_zone', 'dst_zone', 'action', 'sent_size', 'received_size', 'src_address', 'dst_address', 'src_port', 'dst_port']].applymap(juniper_log_cleansing)\n",
    "    df[['policy_no', 'protocol', 'sent_size', 'received_size', 'src_port', 'dst_port']] = df[['policy_no', 'protocol', 'sent_size', 'received_size', 'src_port', 'dst_port']].convert_objects(convert_numeric = True)\n",
    "    \n",
    "    df = df.reset_index(drop=True)\n",
    "    \n",
    "    return df\n",
    "\n",
    "def summary_groups(grouped):\n",
    "    for name, group in grouped:\n",
    "        print group\n",
    "        "
   ]
  },
  {
   "cell_type": "code",
   "execution_count": 20,
   "metadata": {
    "collapsed": false,
    "scrolled": true
   },
   "outputs": [
    {
     "name": "stdout",
     "output_type": "stream",
     "text": [
      "1657993 rows processed.\n"
     ]
    }
   ],
   "source": [
    "juniper = read_syslog_juniper(temp_csv)"
   ]
  },
  {
   "cell_type": "code",
   "execution_count": 21,
   "metadata": {
    "collapsed": false
   },
   "outputs": [
    {
     "data": {
      "text/html": [
       "<div>\n",
       "<table border=\"1\" class=\"dataframe\">\n",
       "  <thead>\n",
       "    <tr style=\"text-align: right;\">\n",
       "      <th></th>\n",
       "      <th>time</th>\n",
       "      <th>device_name</th>\n",
       "      <th>traffic_start</th>\n",
       "      <th>duration</th>\n",
       "      <th>policy_no</th>\n",
       "      <th>service</th>\n",
       "      <th>protocol</th>\n",
       "      <th>src_zone</th>\n",
       "      <th>dst_zone</th>\n",
       "      <th>action</th>\n",
       "      <th>sent_size</th>\n",
       "      <th>received_size</th>\n",
       "      <th>src_address</th>\n",
       "      <th>dst_address</th>\n",
       "      <th>src_port</th>\n",
       "      <th>dst_port</th>\n",
       "      <th>remarks</th>\n",
       "    </tr>\n",
       "  </thead>\n",
       "  <tbody>\n",
       "    <tr>\n",
       "      <th>0</th>\n",
       "      <td>2015-09-21 03:40:03</td>\n",
       "      <td>hk-SSG140</td>\n",
       "      <td>2015-09-21 03:52:07</td>\n",
       "      <td>0</td>\n",
       "      <td>29</td>\n",
       "      <td>dns</td>\n",
       "      <td>17</td>\n",
       "      <td>HK-LAN</td>\n",
       "      <td>Untrust</td>\n",
       "      <td>Permit</td>\n",
       "      <td>0</td>\n",
       "      <td>0</td>\n",
       "      <td>172.20.78.20</td>\n",
       "      <td>203.80.96.10</td>\n",
       "      <td>57320</td>\n",
       "      <td>53</td>\n",
       "      <td>src-xlated</td>\n",
       "    </tr>\n",
       "    <tr>\n",
       "      <th>1</th>\n",
       "      <td>2015-09-21 03:40:03</td>\n",
       "      <td>hk-SSG140</td>\n",
       "      <td>2015-09-21 03:52:07</td>\n",
       "      <td>0</td>\n",
       "      <td>29</td>\n",
       "      <td>dns</td>\n",
       "      <td>17</td>\n",
       "      <td>HK-LAN</td>\n",
       "      <td>Untrust</td>\n",
       "      <td>Permit</td>\n",
       "      <td>0</td>\n",
       "      <td>0</td>\n",
       "      <td>172.20.78.20</td>\n",
       "      <td>210.184.16.65</td>\n",
       "      <td>57320</td>\n",
       "      <td>53</td>\n",
       "      <td>src-xlated</td>\n",
       "    </tr>\n",
       "    <tr>\n",
       "      <th>2</th>\n",
       "      <td>2015-09-21 03:40:03</td>\n",
       "      <td>hk-SSG140</td>\n",
       "      <td>2015-09-21 03:52:07</td>\n",
       "      <td>0</td>\n",
       "      <td>29</td>\n",
       "      <td>dns</td>\n",
       "      <td>17</td>\n",
       "      <td>HK-LAN</td>\n",
       "      <td>Untrust</td>\n",
       "      <td>Permit</td>\n",
       "      <td>0</td>\n",
       "      <td>0</td>\n",
       "      <td>172.20.78.20</td>\n",
       "      <td>210.0.128.250</td>\n",
       "      <td>57320</td>\n",
       "      <td>53</td>\n",
       "      <td>src-xlated</td>\n",
       "    </tr>\n",
       "    <tr>\n",
       "      <th>3</th>\n",
       "      <td>2015-09-21 03:40:03</td>\n",
       "      <td>hk-SSG140</td>\n",
       "      <td>2015-09-21 03:52:07</td>\n",
       "      <td>0</td>\n",
       "      <td>29</td>\n",
       "      <td>dns</td>\n",
       "      <td>17</td>\n",
       "      <td>HK-LAN</td>\n",
       "      <td>Untrust</td>\n",
       "      <td>Permit</td>\n",
       "      <td>0</td>\n",
       "      <td>0</td>\n",
       "      <td>172.20.78.20</td>\n",
       "      <td>202.14.67.4</td>\n",
       "      <td>57320</td>\n",
       "      <td>53</td>\n",
       "      <td>src-xlated</td>\n",
       "    </tr>\n",
       "    <tr>\n",
       "      <th>4</th>\n",
       "      <td>2015-09-21 03:40:03</td>\n",
       "      <td>hk-SSG140</td>\n",
       "      <td>2015-09-21 03:52:07</td>\n",
       "      <td>0</td>\n",
       "      <td>29</td>\n",
       "      <td>dns</td>\n",
       "      <td>17</td>\n",
       "      <td>HK-LAN</td>\n",
       "      <td>Untrust</td>\n",
       "      <td>Permit</td>\n",
       "      <td>0</td>\n",
       "      <td>0</td>\n",
       "      <td>172.20.78.20</td>\n",
       "      <td>208.109.255.8</td>\n",
       "      <td>57071</td>\n",
       "      <td>53</td>\n",
       "      <td>src-xlated</td>\n",
       "    </tr>\n",
       "  </tbody>\n",
       "</table>\n",
       "</div>"
      ],
      "text/plain": [
       "                 time device_name       traffic_start duration  policy_no  \\\n",
       "0 2015-09-21 03:40:03   hk-SSG140 2015-09-21 03:52:07        0         29   \n",
       "1 2015-09-21 03:40:03   hk-SSG140 2015-09-21 03:52:07        0         29   \n",
       "2 2015-09-21 03:40:03   hk-SSG140 2015-09-21 03:52:07        0         29   \n",
       "3 2015-09-21 03:40:03   hk-SSG140 2015-09-21 03:52:07        0         29   \n",
       "4 2015-09-21 03:40:03   hk-SSG140 2015-09-21 03:52:07        0         29   \n",
       "\n",
       "  service  protocol src_zone dst_zone  action  sent_size  received_size  \\\n",
       "0     dns        17   HK-LAN  Untrust  Permit          0              0   \n",
       "1     dns        17   HK-LAN  Untrust  Permit          0              0   \n",
       "2     dns        17   HK-LAN  Untrust  Permit          0              0   \n",
       "3     dns        17   HK-LAN  Untrust  Permit          0              0   \n",
       "4     dns        17   HK-LAN  Untrust  Permit          0              0   \n",
       "\n",
       "    src_address    dst_address  src_port  dst_port     remarks  \n",
       "0  172.20.78.20   203.80.96.10     57320        53  src-xlated  \n",
       "1  172.20.78.20  210.184.16.65     57320        53  src-xlated  \n",
       "2  172.20.78.20  210.0.128.250     57320        53  src-xlated  \n",
       "3  172.20.78.20    202.14.67.4     57320        53  src-xlated  \n",
       "4  172.20.78.20  208.109.255.8     57071        53  src-xlated  "
      ]
     },
     "execution_count": 21,
     "metadata": {},
     "output_type": "execute_result"
    }
   ],
   "source": [
    "juniper.head()"
   ]
  },
  {
   "cell_type": "code",
   "execution_count": 22,
   "metadata": {
    "collapsed": false
   },
   "outputs": [],
   "source": [
    "juniper['date'] = juniper.time.dt.date.astype(str)\n",
    "juniper['total_size'] = juniper['sent_size'] + juniper['received_size']"
   ]
  },
  {
   "cell_type": "code",
   "execution_count": 23,
   "metadata": {
    "collapsed": false
   },
   "outputs": [
    {
     "data": {
      "text/html": [
       "<div>\n",
       "<table border=\"1\" class=\"dataframe\">\n",
       "  <thead>\n",
       "    <tr style=\"text-align: right;\">\n",
       "      <th></th>\n",
       "      <th>time</th>\n",
       "      <th>device_name</th>\n",
       "      <th>traffic_start</th>\n",
       "      <th>duration</th>\n",
       "      <th>policy_no</th>\n",
       "      <th>service</th>\n",
       "      <th>protocol</th>\n",
       "      <th>src_zone</th>\n",
       "      <th>dst_zone</th>\n",
       "      <th>action</th>\n",
       "      <th>sent_size</th>\n",
       "      <th>received_size</th>\n",
       "      <th>src_address</th>\n",
       "      <th>dst_address</th>\n",
       "      <th>src_port</th>\n",
       "      <th>dst_port</th>\n",
       "      <th>remarks</th>\n",
       "      <th>date</th>\n",
       "      <th>total_size</th>\n",
       "    </tr>\n",
       "  </thead>\n",
       "  <tbody>\n",
       "    <tr>\n",
       "      <th>0</th>\n",
       "      <td>2015-09-21 03:40:03</td>\n",
       "      <td>hk-SSG140</td>\n",
       "      <td>2015-09-21 03:52:07</td>\n",
       "      <td>0</td>\n",
       "      <td>29</td>\n",
       "      <td>dns</td>\n",
       "      <td>17</td>\n",
       "      <td>HK-LAN</td>\n",
       "      <td>Untrust</td>\n",
       "      <td>Permit</td>\n",
       "      <td>0</td>\n",
       "      <td>0</td>\n",
       "      <td>172.20.78.20</td>\n",
       "      <td>203.80.96.10</td>\n",
       "      <td>57320</td>\n",
       "      <td>53</td>\n",
       "      <td>src-xlated</td>\n",
       "      <td>2015-09-21</td>\n",
       "      <td>0</td>\n",
       "    </tr>\n",
       "    <tr>\n",
       "      <th>1</th>\n",
       "      <td>2015-09-21 03:40:03</td>\n",
       "      <td>hk-SSG140</td>\n",
       "      <td>2015-09-21 03:52:07</td>\n",
       "      <td>0</td>\n",
       "      <td>29</td>\n",
       "      <td>dns</td>\n",
       "      <td>17</td>\n",
       "      <td>HK-LAN</td>\n",
       "      <td>Untrust</td>\n",
       "      <td>Permit</td>\n",
       "      <td>0</td>\n",
       "      <td>0</td>\n",
       "      <td>172.20.78.20</td>\n",
       "      <td>210.184.16.65</td>\n",
       "      <td>57320</td>\n",
       "      <td>53</td>\n",
       "      <td>src-xlated</td>\n",
       "      <td>2015-09-21</td>\n",
       "      <td>0</td>\n",
       "    </tr>\n",
       "    <tr>\n",
       "      <th>2</th>\n",
       "      <td>2015-09-21 03:40:03</td>\n",
       "      <td>hk-SSG140</td>\n",
       "      <td>2015-09-21 03:52:07</td>\n",
       "      <td>0</td>\n",
       "      <td>29</td>\n",
       "      <td>dns</td>\n",
       "      <td>17</td>\n",
       "      <td>HK-LAN</td>\n",
       "      <td>Untrust</td>\n",
       "      <td>Permit</td>\n",
       "      <td>0</td>\n",
       "      <td>0</td>\n",
       "      <td>172.20.78.20</td>\n",
       "      <td>210.0.128.250</td>\n",
       "      <td>57320</td>\n",
       "      <td>53</td>\n",
       "      <td>src-xlated</td>\n",
       "      <td>2015-09-21</td>\n",
       "      <td>0</td>\n",
       "    </tr>\n",
       "    <tr>\n",
       "      <th>3</th>\n",
       "      <td>2015-09-21 03:40:03</td>\n",
       "      <td>hk-SSG140</td>\n",
       "      <td>2015-09-21 03:52:07</td>\n",
       "      <td>0</td>\n",
       "      <td>29</td>\n",
       "      <td>dns</td>\n",
       "      <td>17</td>\n",
       "      <td>HK-LAN</td>\n",
       "      <td>Untrust</td>\n",
       "      <td>Permit</td>\n",
       "      <td>0</td>\n",
       "      <td>0</td>\n",
       "      <td>172.20.78.20</td>\n",
       "      <td>202.14.67.4</td>\n",
       "      <td>57320</td>\n",
       "      <td>53</td>\n",
       "      <td>src-xlated</td>\n",
       "      <td>2015-09-21</td>\n",
       "      <td>0</td>\n",
       "    </tr>\n",
       "    <tr>\n",
       "      <th>4</th>\n",
       "      <td>2015-09-21 03:40:03</td>\n",
       "      <td>hk-SSG140</td>\n",
       "      <td>2015-09-21 03:52:07</td>\n",
       "      <td>0</td>\n",
       "      <td>29</td>\n",
       "      <td>dns</td>\n",
       "      <td>17</td>\n",
       "      <td>HK-LAN</td>\n",
       "      <td>Untrust</td>\n",
       "      <td>Permit</td>\n",
       "      <td>0</td>\n",
       "      <td>0</td>\n",
       "      <td>172.20.78.20</td>\n",
       "      <td>208.109.255.8</td>\n",
       "      <td>57071</td>\n",
       "      <td>53</td>\n",
       "      <td>src-xlated</td>\n",
       "      <td>2015-09-21</td>\n",
       "      <td>0</td>\n",
       "    </tr>\n",
       "  </tbody>\n",
       "</table>\n",
       "</div>"
      ],
      "text/plain": [
       "                 time device_name       traffic_start duration  policy_no  \\\n",
       "0 2015-09-21 03:40:03   hk-SSG140 2015-09-21 03:52:07        0         29   \n",
       "1 2015-09-21 03:40:03   hk-SSG140 2015-09-21 03:52:07        0         29   \n",
       "2 2015-09-21 03:40:03   hk-SSG140 2015-09-21 03:52:07        0         29   \n",
       "3 2015-09-21 03:40:03   hk-SSG140 2015-09-21 03:52:07        0         29   \n",
       "4 2015-09-21 03:40:03   hk-SSG140 2015-09-21 03:52:07        0         29   \n",
       "\n",
       "  service  protocol src_zone dst_zone  action  sent_size  received_size  \\\n",
       "0     dns        17   HK-LAN  Untrust  Permit          0              0   \n",
       "1     dns        17   HK-LAN  Untrust  Permit          0              0   \n",
       "2     dns        17   HK-LAN  Untrust  Permit          0              0   \n",
       "3     dns        17   HK-LAN  Untrust  Permit          0              0   \n",
       "4     dns        17   HK-LAN  Untrust  Permit          0              0   \n",
       "\n",
       "    src_address    dst_address  src_port  dst_port     remarks        date  \\\n",
       "0  172.20.78.20   203.80.96.10     57320        53  src-xlated  2015-09-21   \n",
       "1  172.20.78.20  210.184.16.65     57320        53  src-xlated  2015-09-21   \n",
       "2  172.20.78.20  210.0.128.250     57320        53  src-xlated  2015-09-21   \n",
       "3  172.20.78.20    202.14.67.4     57320        53  src-xlated  2015-09-21   \n",
       "4  172.20.78.20  208.109.255.8     57071        53  src-xlated  2015-09-21   \n",
       "\n",
       "   total_size  \n",
       "0           0  \n",
       "1           0  \n",
       "2           0  \n",
       "3           0  \n",
       "4           0  "
      ]
     },
     "execution_count": 23,
     "metadata": {},
     "output_type": "execute_result"
    }
   ],
   "source": [
    "juniper.head()"
   ]
  },
  {
   "cell_type": "code",
   "execution_count": 24,
   "metadata": {
    "collapsed": false
   },
   "outputs": [],
   "source": [
    "grouped = juniper.groupby(['date', 'src_address'])"
   ]
  },
  {
   "cell_type": "code",
   "execution_count": 25,
   "metadata": {
    "collapsed": false
   },
   "outputs": [
    {
     "data": {
      "text/plain": [
       "1251"
      ]
     },
     "execution_count": 25,
     "metadata": {},
     "output_type": "execute_result"
    }
   ],
   "source": [
    "grouped.ngroups"
   ]
  },
  {
   "cell_type": "code",
   "execution_count": 26,
   "metadata": {
    "collapsed": false
   },
   "outputs": [
    {
     "name": "stdout",
     "output_type": "stream",
     "text": [
      "total: 24.844180885 Gb\n"
     ]
    }
   ],
   "source": [
    "total = 0\n",
    "for i in grouped.groups.keys():\n",
    "    subtotal = np.nansum(juniper.iloc[grouped.groups[i]].sent_size)\n",
    "    #print (i + ': ' + str(subtotal))\n",
    "    total += subtotal\n",
    "    #print i\n",
    "    #print grouped.groups[i]\n",
    "print 'total: ' + str(total/Gb) + ' Gb'"
   ]
  },
  {
   "cell_type": "code",
   "execution_count": 27,
   "metadata": {
    "collapsed": false
   },
   "outputs": [],
   "source": [
    "temp_result = []\n",
    "for d, i in grouped.groups.keys():\n",
    "    temp_result.append([d, i, len(juniper.iloc[grouped.groups[(d, i)]]), np.sum(juniper.iloc[grouped.groups[(d, i)]]).total_size])"
   ]
  },
  {
   "cell_type": "code",
   "execution_count": 28,
   "metadata": {
    "collapsed": false
   },
   "outputs": [],
   "source": [
    "sqldb = pd.DataFrame(temp_result, columns=['date', 'ip', 'count', 'total_size'])"
   ]
  },
  {
   "cell_type": "code",
   "execution_count": 29,
   "metadata": {
    "collapsed": false
   },
   "outputs": [
    {
     "data": {
      "text/html": [
       "<div>\n",
       "<table border=\"1\" class=\"dataframe\">\n",
       "  <thead>\n",
       "    <tr style=\"text-align: right;\">\n",
       "      <th></th>\n",
       "      <th>date</th>\n",
       "      <th>ip</th>\n",
       "      <th>count</th>\n",
       "      <th>total_size</th>\n",
       "    </tr>\n",
       "  </thead>\n",
       "  <tbody>\n",
       "    <tr>\n",
       "      <th>0</th>\n",
       "      <td>2015-09-21</td>\n",
       "      <td>141.212.122.204</td>\n",
       "      <td>1</td>\n",
       "      <td>192</td>\n",
       "    </tr>\n",
       "    <tr>\n",
       "      <th>1</th>\n",
       "      <td>2015-09-21</td>\n",
       "      <td>122.96.129.236</td>\n",
       "      <td>1</td>\n",
       "      <td>1025</td>\n",
       "    </tr>\n",
       "    <tr>\n",
       "      <th>2</th>\n",
       "      <td>2015-09-22</td>\n",
       "      <td>172.20.78.50</td>\n",
       "      <td>6</td>\n",
       "      <td>366</td>\n",
       "    </tr>\n",
       "    <tr>\n",
       "      <th>3</th>\n",
       "      <td>2015-09-22</td>\n",
       "      <td>184.105.247.224</td>\n",
       "      <td>1</td>\n",
       "      <td>192</td>\n",
       "    </tr>\n",
       "    <tr>\n",
       "      <th>4</th>\n",
       "      <td>2015-09-21</td>\n",
       "      <td>172.20.68.21</td>\n",
       "      <td>55098</td>\n",
       "      <td>8623658517</td>\n",
       "    </tr>\n",
       "  </tbody>\n",
       "</table>\n",
       "</div>"
      ],
      "text/plain": [
       "         date               ip  count  total_size\n",
       "0  2015-09-21  141.212.122.204      1         192\n",
       "1  2015-09-21   122.96.129.236      1        1025\n",
       "2  2015-09-22     172.20.78.50      6         366\n",
       "3  2015-09-22  184.105.247.224      1         192\n",
       "4  2015-09-21     172.20.68.21  55098  8623658517"
      ]
     },
     "execution_count": 29,
     "metadata": {},
     "output_type": "execute_result"
    }
   ],
   "source": [
    "sqldb.head()"
   ]
  },
  {
   "cell_type": "code",
   "execution_count": 30,
   "metadata": {
    "collapsed": false
   },
   "outputs": [
    {
     "data": {
      "text/plain": [
       "Int64Index([   0,    1,    2,    3,    4,    5,    6,    7,    8,    9, \n",
       "            ...\n",
       "            1241, 1242, 1243, 1244, 1245, 1246, 1247, 1248, 1249, 1250],\n",
       "           dtype='int64', length=1251)"
      ]
     },
     "execution_count": 30,
     "metadata": {},
     "output_type": "execute_result"
    }
   ],
   "source": [
    "sqldb.index"
   ]
  },
  {
   "cell_type": "code",
   "execution_count": 34,
   "metadata": {
    "collapsed": false
   },
   "outputs": [],
   "source": [
    "sqldb.to_sql('data', disk_engine, index=False, if_exists='replace')"
   ]
  },
  {
   "cell_type": "code",
   "execution_count": null,
   "metadata": {
    "collapsed": false
   },
   "outputs": [],
   "source": [
    "juniper[grouped.groups[(('2015-09-22 00:00:00'), '172.20.78.252')]]"
   ]
  },
  {
   "cell_type": "code",
   "execution_count": null,
   "metadata": {
    "collapsed": false
   },
   "outputs": [],
   "source": [
    "#for k in grouped.groups.keys():\n",
    "#    print k"
   ]
  },
  {
   "cell_type": "code",
   "execution_count": null,
   "metadata": {
    "collapsed": false
   },
   "outputs": [],
   "source": [
    "#len(juniper.iloc[483167:483169, :])"
   ]
  },
  {
   "cell_type": "code",
   "execution_count": null,
   "metadata": {
    "collapsed": false
   },
   "outputs": [],
   "source": [
    "#juniper.iloc[483167:483169, :]"
   ]
  },
  {
   "cell_type": "code",
   "execution_count": null,
   "metadata": {
    "collapsed": false
   },
   "outputs": [],
   "source": [
    "#juniper.iloc[925410,]"
   ]
  },
  {
   "cell_type": "code",
   "execution_count": null,
   "metadata": {
    "collapsed": false,
    "scrolled": true
   },
   "outputs": [],
   "source": [
    "#pd.DataFrame.sum(juniper[['sent_size']])"
   ]
  },
  {
   "cell_type": "code",
   "execution_count": null,
   "metadata": {
    "collapsed": false
   },
   "outputs": [],
   "source": [
    "#juniper"
   ]
  }
 ],
 "metadata": {
  "kernelspec": {
   "display_name": "Python 2",
   "language": "python",
   "name": "python2"
  },
  "language_info": {
   "codemirror_mode": {
    "name": "ipython",
    "version": 2
   },
   "file_extension": ".py",
   "mimetype": "text/x-python",
   "name": "python",
   "nbconvert_exporter": "python",
   "pygments_lexer": "ipython2",
   "version": "2.7.10"
  }
 },
 "nbformat": 4,
 "nbformat_minor": 0
}
