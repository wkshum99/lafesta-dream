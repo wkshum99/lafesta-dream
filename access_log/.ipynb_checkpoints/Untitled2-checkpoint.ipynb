{
 "cells": [
  {
   "cell_type": "code",
   "execution_count": 18,
   "metadata": {
    "collapsed": true
   },
   "outputs": [],
   "source": [
    "from __future__ import division"
   ]
  },
  {
   "cell_type": "code",
   "execution_count": 19,
   "metadata": {
    "collapsed": false
   },
   "outputs": [],
   "source": [
    "import csv\n",
    "import pandas as pd\n",
    "import datetime\n",
    "import string\n",
    "import numpy as np\n",
    "import helper as hp\n",
    "import sq\n",
    "import jp\n",
    "import urllib\n",
    "import os"
   ]
  },
  {
   "cell_type": "code",
   "execution_count": 20,
   "metadata": {
    "collapsed": true
   },
   "outputs": [],
   "source": [
    "from sqlalchemy import create_engine"
   ]
  },
  {
   "cell_type": "code",
   "execution_count": 21,
   "metadata": {
    "collapsed": false
   },
   "outputs": [],
   "source": [
    "pd.set_option('display.max_columns', None)\n",
    "Gb = 1000000000"
   ]
  },
  {
   "cell_type": "code",
   "execution_count": 22,
   "metadata": {
    "collapsed": false
   },
   "outputs": [],
   "source": [
    "temp_csv = 'c:'+os.sep+'temp'+os.sep+'temp.log'"
   ]
  },
  {
   "cell_type": "code",
   "execution_count": 23,
   "metadata": {
    "collapsed": true
   },
   "outputs": [],
   "source": [
    "log_dir = 'c:'+os.sep+'temp'+os.sep+'log'+os.sep"
   ]
  },
  {
   "cell_type": "code",
   "execution_count": 24,
   "metadata": {
    "collapsed": true
   },
   "outputs": [],
   "source": [
    "#log_file = 'c:'+os.sep+'temp'+os.sep+'hk-ssg140.log-20150922'"
   ]
  },
  {
   "cell_type": "code",
   "execution_count": 25,
   "metadata": {
    "collapsed": false
   },
   "outputs": [],
   "source": [
    "disk_engine = create_engine('sqlite:///c:\\\\temp\\\\access_log.db')"
   ]
  },
  {
   "cell_type": "code",
   "execution_count": 26,
   "metadata": {
    "collapsed": false
   },
   "outputs": [],
   "source": [
    "#store = pd.HDFStore('access_log.h5')"
   ]
  },
  {
   "cell_type": "code",
   "execution_count": 27,
   "metadata": {
    "collapsed": false
   },
   "outputs": [
    {
     "data": {
      "text/plain": [
       "\"\\ndef get_server_from_URL(URLs):\\n    result = []\\n    \\n    for u in URLs:\\n        if u.startswith('http://'):\\n            temp = u.split('http://')[1]\\n            # further split on '/' character to return only server \\n            result.append(temp.split('/')[0])\\n        \\n        elif u.startswith('http://'):\\n            temp = u.split('https://')[1]\\n            # further split on '/' character to return only server \\n            result.append(temp.split('/')[0])\\n        \\n    return result\\n\""
      ]
     },
     "execution_count": 27,
     "metadata": {},
     "output_type": "execute_result"
    }
   ],
   "source": [
    "'''\n",
    "def get_server_from_URL(URLs):\n",
    "    result = []\n",
    "    \n",
    "    for u in URLs:\n",
    "        if u.startswith('http://'):\n",
    "            temp = u.split('http://')[1]\n",
    "            # further split on '/' character to return only server \n",
    "            result.append(temp.split('/')[0])\n",
    "        \n",
    "        elif u.startswith('http://'):\n",
    "            temp = u.split('https://')[1]\n",
    "            # further split on '/' character to return only server \n",
    "            result.append(temp.split('/')[0])\n",
    "        \n",
    "    return result\n",
    "'''    "
   ]
  },
  {
   "cell_type": "code",
   "execution_count": 28,
   "metadata": {
    "collapsed": false
   },
   "outputs": [
    {
     "data": {
      "text/plain": [
       "'\\ndef remove_safe_site(URLs, safe_list):\\n    result = []\\n    for u in URLs:\\n        m = False\\n        for s in safe_list:\\n            if s in u:\\n                m = True\\n                break\\n                \\n        if (m == False):\\n            result.append(u)\\n            \\n    result = pd.Series(result).unique()\\n        \\n    return result \\n'"
      ]
     },
     "execution_count": 28,
     "metadata": {},
     "output_type": "execute_result"
    }
   ],
   "source": [
    "'''\n",
    "def remove_safe_site(URLs, safe_list):\n",
    "    result = []\n",
    "    for u in URLs:\n",
    "        m = False\n",
    "        for s in safe_list:\n",
    "            if s in u:\n",
    "                m = True\n",
    "                break\n",
    "                \n",
    "        if (m == False):\n",
    "            result.append(u)\n",
    "            \n",
    "    result = pd.Series(result).unique()\n",
    "        \n",
    "    return result \n",
    "'''    "
   ]
  },
  {
   "cell_type": "code",
   "execution_count": 29,
   "metadata": {
    "collapsed": false
   },
   "outputs": [
    {
     "data": {
      "text/plain": [
       "'\\ndef get_match_site(URLs, safe_list):\\n    result = []\\n    for u in URLs:\\n        m = False\\n        for s in safe_list:\\n            if s in u:\\n                m = True                \\n                break\\n                                \\n        if (m == True):\\n            result.append(u)\\n            \\n    result = pd.Series(result).unique()\\n        \\n    return result   \\n'"
      ]
     },
     "execution_count": 29,
     "metadata": {},
     "output_type": "execute_result"
    }
   ],
   "source": [
    "'''\n",
    "def get_match_site(URLs, safe_list):\n",
    "    result = []\n",
    "    for u in URLs:\n",
    "        m = False\n",
    "        for s in safe_list:\n",
    "            if s in u:\n",
    "                m = True                \n",
    "                break\n",
    "                                \n",
    "        if (m == True):\n",
    "            result.append(u)\n",
    "            \n",
    "    result = pd.Series(result).unique()\n",
    "        \n",
    "    return result   \n",
    "'''    "
   ]
  },
  {
   "cell_type": "code",
   "execution_count": 30,
   "metadata": {
    "collapsed": false
   },
   "outputs": [],
   "source": [
    "#squid = sq.read_squid_log('access.log')\n",
    "#squid.tail()\n",
    "#safe_websites = 'google|microsoft|trendmicro|gstatic.com|bdpinsight.eu|.gov.hk'\n",
    "#access = squid[squid['URL'].str.contains(safe_websites) == False]\n",
    "#sum(squid.bytes)/Gb"
   ]
  },
  {
   "cell_type": "code",
   "execution_count": 31,
   "metadata": {
    "collapsed": false
   },
   "outputs": [
    {
     "data": {
      "text/plain": [
       "\"\\ndef clean_juniper_file(infile, outfile):\\n    with open(infile, 'r') as in_file:\\n        with open(outfile, 'w') as out_file:\\n            for line in in_file:\\n                if ('system-notification-00257(traffic)' in line):                                                \\n                    idx_1 = line.find('service=')\\n                    idx_2 = line.find(' proto=')\\n                    if (idx_1 and idx_2):\\n                        out_file.write(line[:idx_1]+line[idx_1:idx_2].replace(' ', '')+line[idx_2:])\\n\""
      ]
     },
     "execution_count": 31,
     "metadata": {},
     "output_type": "execute_result"
    }
   ],
   "source": [
    "'''\n",
    "def clean_juniper_file(infile, outfile):\n",
    "    with open(infile, 'r') as in_file:\n",
    "        with open(outfile, 'w') as out_file:\n",
    "            for line in in_file:\n",
    "                if ('system-notification-00257(traffic)' in line):                                                \n",
    "                    idx_1 = line.find('service=')\n",
    "                    idx_2 = line.find(' proto=')\n",
    "                    if (idx_1 and idx_2):\n",
    "                        out_file.write(line[:idx_1]+line[idx_1:idx_2].replace(' ', '')+line[idx_2:])\n",
    "'''                        "
   ]
  },
  {
   "cell_type": "code",
   "execution_count": 32,
   "metadata": {
    "collapsed": false
   },
   "outputs": [
    {
     "data": {
      "text/plain": [
       "'\\ndef open_csv(filename, chunksize=20000):\\n    \\n    df = pd.DataFrame()\\n    \\n    for c in pd.read_table(filename, sep=\\'\\\\s{1,}|\"\\', chunksize=chunksize, iterator=True, engine=\\'python\\', index_col=False, header=None, parse_dates=[[0, 1, 2], [9,10]]):        \\n        df = pd.concat([df, c])        \\n        \\n    print(str(len(df)) + \" rows processed.\")\\n    \\n    return df\\n\\ndef juniper_log_cleansing(x):\\n    if str(x).find(\\'=\\') > 0:\\n        return str(x)[str(x).find(\\'=\\')+1:]\\n    elif str(x).find(\\':\\') > 0:\\n        return str(x)[:str(x).find(\\':\\')]    \\n    else:\\n        return x\\n\\ndef read_syslog_juniper(filename):\\n       \\n    df = open_csv(filename)\\n    \\n    df = df[df[7].str.contains(\\'information\\') == False]\\n    \\n    # restructure the dataframe\\n    i = [0]\\n    i.extend(range(3, 4))\\n    i.extend([1])\\n    i.extend(range(9, 13))\\n    i.extend([14])\\n    i.extend([16])\\n    i.extend(range(17, 25))\\n    df = df.iloc[:, i]\\n    \\n    df.columns = [\\'time\\', \\'device_name\\', \\'traffic_start\\', \\'duration\\', \\'policy_no\\', \\'service\\', \\'protocol\\', \\'src_zone\\', \\'dst_zone\\', \\'action\\', \\'sent_size\\', \\'received_size\\', \\'src_address\\', \\'dst_address\\', \\'src_port\\', \\'dst_port\\', \\'remarks\\']\\n    df[[\\'device_name\\', \\'duration\\', \\'policy_no\\', \\'service\\', \\'protocol\\', \\'src_zone\\', \\'dst_zone\\', \\'action\\', \\'sent_size\\', \\'received_size\\', \\'src_address\\', \\'dst_address\\', \\'src_port\\', \\'dst_port\\']] = df[[\\'device_name\\', \\'duration\\', \\'policy_no\\', \\'service\\', \\'protocol\\', \\'src_zone\\', \\'dst_zone\\', \\'action\\', \\'sent_size\\', \\'received_size\\', \\'src_address\\', \\'dst_address\\', \\'src_port\\', \\'dst_port\\']].applymap(juniper_log_cleansing)\\n    df[[\\'policy_no\\', \\'protocol\\', \\'sent_size\\', \\'received_size\\', \\'src_port\\', \\'dst_port\\']] = df[[\\'policy_no\\', \\'protocol\\', \\'sent_size\\', \\'received_size\\', \\'src_port\\', \\'dst_port\\']].convert_objects(convert_numeric = True)\\n    \\n    df = df.reset_index(drop=True)\\n    \\n    return df      \\n'"
      ]
     },
     "execution_count": 32,
     "metadata": {},
     "output_type": "execute_result"
    }
   ],
   "source": [
    "'''\n",
    "def open_csv(filename, chunksize=20000):\n",
    "    \n",
    "    df = pd.DataFrame()\n",
    "    \n",
    "    for c in pd.read_table(filename, sep='\\s{1,}|\"', chunksize=chunksize, iterator=True, engine='python', index_col=False, header=None, parse_dates=[[0, 1, 2], [9,10]]):        \n",
    "        df = pd.concat([df, c])        \n",
    "        \n",
    "    print(str(len(df)) + \" rows processed.\")\n",
    "    \n",
    "    return df\n",
    "\n",
    "def juniper_log_cleansing(x):\n",
    "    if str(x).find('=') > 0:\n",
    "        return str(x)[str(x).find('=')+1:]\n",
    "    elif str(x).find(':') > 0:\n",
    "        return str(x)[:str(x).find(':')]    \n",
    "    else:\n",
    "        return x\n",
    "\n",
    "def read_syslog_juniper(filename):\n",
    "       \n",
    "    df = open_csv(filename)\n",
    "    \n",
    "    df = df[df[7].str.contains('information') == False]\n",
    "    \n",
    "    # restructure the dataframe\n",
    "    i = [0]\n",
    "    i.extend(range(3, 4))\n",
    "    i.extend([1])\n",
    "    i.extend(range(9, 13))\n",
    "    i.extend([14])\n",
    "    i.extend([16])\n",
    "    i.extend(range(17, 25))\n",
    "    df = df.iloc[:, i]\n",
    "    \n",
    "    df.columns = ['time', 'device_name', 'traffic_start', 'duration', 'policy_no', 'service', 'protocol', 'src_zone', 'dst_zone', 'action', 'sent_size', 'received_size', 'src_address', 'dst_address', 'src_port', 'dst_port', 'remarks']\n",
    "    df[['device_name', 'duration', 'policy_no', 'service', 'protocol', 'src_zone', 'dst_zone', 'action', 'sent_size', 'received_size', 'src_address', 'dst_address', 'src_port', 'dst_port']] = df[['device_name', 'duration', 'policy_no', 'service', 'protocol', 'src_zone', 'dst_zone', 'action', 'sent_size', 'received_size', 'src_address', 'dst_address', 'src_port', 'dst_port']].applymap(juniper_log_cleansing)\n",
    "    df[['policy_no', 'protocol', 'sent_size', 'received_size', 'src_port', 'dst_port']] = df[['policy_no', 'protocol', 'sent_size', 'received_size', 'src_port', 'dst_port']].convert_objects(convert_numeric = True)\n",
    "    \n",
    "    df = df.reset_index(drop=True)\n",
    "    \n",
    "    return df      \n",
    "'''"
   ]
  },
  {
   "cell_type": "code",
   "execution_count": 33,
   "metadata": {
    "collapsed": false
   },
   "outputs": [
    {
     "data": {
      "text/plain": [
       "'\\ndef process_group(grouped):\\n    temp_result = []\\n    for d, src, dst, srv, a in grouped.groups.keys():\\n        temp_result.append([d, src, dst, srv, len(juniper.iloc[grouped.groups[(d, src, dst, srv, a)]]), \\n                            np.sum(juniper.iloc[grouped.groups[(d, src, dst, srv, a)]]).total_size, a])\\n    \\n    return temp_result\\n'"
      ]
     },
     "execution_count": 33,
     "metadata": {},
     "output_type": "execute_result"
    }
   ],
   "source": [
    "'''\n",
    "def process_group(grouped):\n",
    "    temp_result = []\n",
    "    for d, src, dst, srv, a in grouped.groups.keys():\n",
    "        temp_result.append([d, src, dst, srv, len(juniper.iloc[grouped.groups[(d, src, dst, srv, a)]]), \n",
    "                            np.sum(juniper.iloc[grouped.groups[(d, src, dst, srv, a)]]).total_size, a])\n",
    "    \n",
    "    return temp_result\n",
    "'''    "
   ]
  },
  {
   "cell_type": "code",
   "execution_count": 34,
   "metadata": {
    "collapsed": false
   },
   "outputs": [
    {
     "name": "stdout",
     "output_type": "stream",
     "text": [
      "948911 rows processed.\n",
      "hk-ssg140.log-20150921 processed\n",
      "1657993 rows processed.\n",
      "hk-ssg140.log-20150922 processed\n"
     ]
    }
   ],
   "source": [
    "for file in os.listdir(log_dir):\n",
    "    log_file = os.path.join(log_dir, file)\n",
    "    jp.clean_juniper_file(log_file, temp_csv)\n",
    "    \n",
    "    juniper = [] \n",
    "    temp_result = []\n",
    "    \n",
    "    juniper = jp.read_syslog_juniper(temp_csv)\n",
    "    juniper['date'] = juniper['time'].apply(lambda x: x.strftime('%Y-%m-%d'))\n",
    "    juniper['total_size'] = juniper['sent_size'] + juniper['received_size']        \n",
    "    \n",
    "    temp_result = jp.process_group(juniper)\n",
    "    \n",
    "    temp_result = pd.DataFrame(temp_result, columns=['date', 'src', 'dst', 'count', 'total_size'])\n",
    "    temp_result['location'] = 'HK'\n",
    "    \n",
    "    try:\n",
    "        temp_result.to_sql('data', disk_engine, index=False, if_exists='append')\n",
    "        print (file + ' processed')\n",
    "    except:\n",
    "        pass\n",
    "    \n",
    "    os.remove(temp_csv)"
   ]
  }
 ],
 "metadata": {
  "kernelspec": {
   "display_name": "Python 2",
   "language": "python",
   "name": "python2"
  },
  "language_info": {
   "codemirror_mode": {
    "name": "ipython",
    "version": 2
   },
   "file_extension": ".py",
   "mimetype": "text/x-python",
   "name": "python",
   "nbconvert_exporter": "python",
   "pygments_lexer": "ipython2",
   "version": "2.7.10"
  }
 },
 "nbformat": 4,
 "nbformat_minor": 0
}
