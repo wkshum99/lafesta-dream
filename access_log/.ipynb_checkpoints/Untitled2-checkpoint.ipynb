{
 "cells": [
  {
   "cell_type": "code",
   "execution_count": 3,
   "metadata": {
    "collapsed": true
   },
   "outputs": [],
   "source": [
    "from __future__ import division"
   ]
  },
  {
   "cell_type": "code",
   "execution_count": 4,
   "metadata": {
    "collapsed": false
   },
   "outputs": [],
   "source": [
    "import csv\n",
    "import pandas as pd\n",
    "import datetime\n",
    "import string\n",
    "import numpy as np\n",
    "import helper as hp\n",
    "import sq\n",
    "import jp"
   ]
  },
  {
   "cell_type": "code",
   "execution_count": 3,
   "metadata": {
    "collapsed": true
   },
   "outputs": [],
   "source": [
    "Gb = 1000000000"
   ]
  },
  {
   "cell_type": "code",
   "execution_count": 4,
   "metadata": {
    "collapsed": false
   },
   "outputs": [],
   "source": [
    "#store = pd.HDFStore('access_log.h5')"
   ]
  },
  {
   "cell_type": "code",
   "execution_count": 5,
   "metadata": {
    "collapsed": true
   },
   "outputs": [],
   "source": [
    "def get_server_from_URL(URLs):\n",
    "    result = []\n",
    "    \n",
    "    for u in URLs:\n",
    "        if u.startswith('http://'):\n",
    "            temp = u.split('http://')[1]\n",
    "            # further split on '/' character to return only server \n",
    "            result.append(temp.split('/')[0])\n",
    "        \n",
    "        elif u.startswith('http://'):\n",
    "            temp = u.split('https://')[1]\n",
    "            # further split on '/' character to return only server \n",
    "            result.append(temp.split('/')[0])\n",
    "        \n",
    "    return result"
   ]
  },
  {
   "cell_type": "code",
   "execution_count": 6,
   "metadata": {
    "collapsed": true
   },
   "outputs": [],
   "source": [
    "def remove_safe_site(URLs, safe_list):\n",
    "    result = []\n",
    "    for u in URLs:\n",
    "        m = False\n",
    "        for s in safe_list:\n",
    "            if s in u:\n",
    "                m = True\n",
    "                break\n",
    "                \n",
    "        if (m == False):\n",
    "            result.append(u)\n",
    "            \n",
    "    result = pd.Series(result).unique()\n",
    "        \n",
    "    return result            "
   ]
  },
  {
   "cell_type": "code",
   "execution_count": 7,
   "metadata": {
    "collapsed": true
   },
   "outputs": [],
   "source": [
    "def get_match_site(URLs, safe_list):\n",
    "    result = []\n",
    "    for u in URLs:\n",
    "        m = False\n",
    "        for s in safe_list:\n",
    "            if s in u:\n",
    "                m = True                \n",
    "                break\n",
    "                                \n",
    "        if (m == True):\n",
    "            result.append(u)\n",
    "            \n",
    "    result = pd.Series(result).unique()\n",
    "        \n",
    "    return result   "
   ]
  },
  {
   "cell_type": "code",
   "execution_count": 8,
   "metadata": {
    "collapsed": false
   },
   "outputs": [],
   "source": [
    "#result = []\n",
    "\n",
    "#f = hp.open_tar_gz('sgkc-ssg140.log-20150610.tar.gz')\n",
    "\n",
    "#f = f[0].split('\\n')"
   ]
  },
  {
   "cell_type": "code",
   "execution_count": 9,
   "metadata": {
    "collapsed": false
   },
   "outputs": [],
   "source": [
    "#sample = f[0]\n",
    "#sample"
   ]
  },
  {
   "cell_type": "code",
   "execution_count": 10,
   "metadata": {
    "collapsed": false
   },
   "outputs": [],
   "source": [
    "def process_juniper_line(line):\n",
    "    result = []\n",
    "    line = hp.remove_duplicate_spaces(line).split(' ')\n",
    "    result.append(line[0] + ' ' + line[1] + ' ' + line[2])\n",
    "    result.append(line[3])\n",
    "    result.append(line[4] + ' ' + line[5])\n",
    "    result.append(line[6])\n",
    "    result.append(line[8] + ' ' + line[9])\n",
    "    for i in range(10, 13):\n",
    "        result.append(line[i])\n",
    "    result.append(line[14] + ' ' + line[15])    \n",
    "    result.append(line[16] + ' ' + line[17])\n",
    "    for i in range(18, 25):\n",
    "        result.append(line[i])\n",
    "    result.append(line[26] + ' ' + line[27]) \n",
    "    result.append(line[28] + ' ' + line[29]) \n",
    "    for i in range(30, len(line) - 4):\n",
    "        result.append(line[i])\n",
    "    result.append(line[32] + ' ' + line[33] + ' ' + line[34] + ' ' + line[35])\n",
    "    return result"
   ]
  },
  {
   "cell_type": "code",
   "execution_count": 12,
   "metadata": {
    "collapsed": false
   },
   "outputs": [],
   "source": [
    "squid = sq.read_squid_log('access.log')"
   ]
  },
  {
   "cell_type": "code",
   "execution_count": 13,
   "metadata": {
    "collapsed": false
   },
   "outputs": [
    {
     "data": {
      "text/html": [
       "<div>\n",
       "<table border=\"1\" class=\"dataframe\">\n",
       "  <thead>\n",
       "    <tr style=\"text-align: right;\">\n",
       "      <th></th>\n",
       "      <th>date</th>\n",
       "      <th>duration</th>\n",
       "      <th>client_address</th>\n",
       "      <th>result_code</th>\n",
       "      <th>bytes</th>\n",
       "      <th>method</th>\n",
       "      <th>URL</th>\n",
       "      <th>hierarchy</th>\n",
       "      <th>type</th>\n",
       "    </tr>\n",
       "  </thead>\n",
       "  <tbody>\n",
       "    <tr>\n",
       "      <th>702572</th>\n",
       "      <td>2015-09-18 06:12:27.933</td>\n",
       "      <td>6247</td>\n",
       "      <td>172.20.78.194</td>\n",
       "      <td>TCP_MISS/200</td>\n",
       "      <td>715</td>\n",
       "      <td>CONNECT</td>\n",
       "      <td>www.baacon.com:443</td>\n",
       "      <td>HIER_DIRECT/52.26.176.230</td>\n",
       "      <td>-</td>\n",
       "    </tr>\n",
       "    <tr>\n",
       "      <th>702573</th>\n",
       "      <td>2015-09-18 06:12:27.969</td>\n",
       "      <td>6940</td>\n",
       "      <td>172.20.78.194</td>\n",
       "      <td>TCP_MISS/200</td>\n",
       "      <td>34270</td>\n",
       "      <td>CONNECT</td>\n",
       "      <td>www.baacon.com:443</td>\n",
       "      <td>HIER_DIRECT/52.26.176.230</td>\n",
       "      <td>-</td>\n",
       "    </tr>\n",
       "    <tr>\n",
       "      <th>702574</th>\n",
       "      <td>2015-09-18 06:12:28.102</td>\n",
       "      <td>6426</td>\n",
       "      <td>172.20.78.194</td>\n",
       "      <td>TCP_MISS/200</td>\n",
       "      <td>10079</td>\n",
       "      <td>CONNECT</td>\n",
       "      <td>www.baacon.com:443</td>\n",
       "      <td>HIER_DIRECT/52.26.176.230</td>\n",
       "      <td>-</td>\n",
       "    </tr>\n",
       "    <tr>\n",
       "      <th>702575</th>\n",
       "      <td>2015-09-18 06:12:29.504</td>\n",
       "      <td>0</td>\n",
       "      <td>172.20.78.158</td>\n",
       "      <td>TCP_DENIED/403</td>\n",
       "      <td>4026</td>\n",
       "      <td>GET</td>\n",
       "      <td>http://csm90-en.url.trendmicro.com/T/152/M318s...</td>\n",
       "      <td>HIER_NONE/-</td>\n",
       "      <td>text/html</td>\n",
       "    </tr>\n",
       "    <tr>\n",
       "      <th>702576</th>\n",
       "      <td>2015-09-18 06:12:29.557</td>\n",
       "      <td>535</td>\n",
       "      <td>172.20.78.174</td>\n",
       "      <td>TCP_MISS/200</td>\n",
       "      <td>574</td>\n",
       "      <td>GET</td>\n",
       "      <td>http://csm90-en.url.trendmicro.com/T/172/2uHnX...</td>\n",
       "      <td>HIER_DIRECT/61.244.242.16</td>\n",
       "      <td>text/html</td>\n",
       "    </tr>\n",
       "  </tbody>\n",
       "</table>\n",
       "</div>"
      ],
      "text/plain": [
       "                          date  duration client_address     result_code  \\\n",
       "702572 2015-09-18 06:12:27.933      6247  172.20.78.194    TCP_MISS/200   \n",
       "702573 2015-09-18 06:12:27.969      6940  172.20.78.194    TCP_MISS/200   \n",
       "702574 2015-09-18 06:12:28.102      6426  172.20.78.194    TCP_MISS/200   \n",
       "702575 2015-09-18 06:12:29.504         0  172.20.78.158  TCP_DENIED/403   \n",
       "702576 2015-09-18 06:12:29.557       535  172.20.78.174    TCP_MISS/200   \n",
       "\n",
       "        bytes   method                                                URL  \\\n",
       "702572    715  CONNECT                                 www.baacon.com:443   \n",
       "702573  34270  CONNECT                                 www.baacon.com:443   \n",
       "702574  10079  CONNECT                                 www.baacon.com:443   \n",
       "702575   4026      GET  http://csm90-en.url.trendmicro.com/T/152/M318s...   \n",
       "702576    574      GET  http://csm90-en.url.trendmicro.com/T/172/2uHnX...   \n",
       "\n",
       "                        hierarchy       type  \n",
       "702572  HIER_DIRECT/52.26.176.230          -  \n",
       "702573  HIER_DIRECT/52.26.176.230          -  \n",
       "702574  HIER_DIRECT/52.26.176.230          -  \n",
       "702575                HIER_NONE/-  text/html  \n",
       "702576  HIER_DIRECT/61.244.242.16  text/html  "
      ]
     },
     "execution_count": 13,
     "metadata": {},
     "output_type": "execute_result"
    }
   ],
   "source": [
    "squid.tail()"
   ]
  },
  {
   "cell_type": "code",
   "execution_count": 14,
   "metadata": {
    "collapsed": true
   },
   "outputs": [],
   "source": [
    "safe_websites = 'google|microsoft|trendmicro|gstatic.com|bdpinsight.eu|.gov.hk'"
   ]
  },
  {
   "cell_type": "code",
   "execution_count": 15,
   "metadata": {
    "collapsed": false
   },
   "outputs": [],
   "source": [
    "access = squid[squid['URL'].str.contains(safe_websites) == False]"
   ]
  },
  {
   "cell_type": "code",
   "execution_count": 16,
   "metadata": {
    "collapsed": false
   },
   "outputs": [
    {
     "data": {
      "text/plain": [
       "22.080774489"
      ]
     },
     "execution_count": 16,
     "metadata": {},
     "output_type": "execute_result"
    }
   ],
   "source": [
    "sum(squid.bytes)/Gb"
   ]
  },
  {
   "cell_type": "code",
   "execution_count": 17,
   "metadata": {
    "collapsed": false
   },
   "outputs": [],
   "source": [
    "#store.put('GZ', squid, format='table')\n",
    "#store"
   ]
  },
  {
   "cell_type": "code",
   "execution_count": 18,
   "metadata": {
    "collapsed": false
   },
   "outputs": [],
   "source": [
    "#df = []"
   ]
  },
  {
   "cell_type": "code",
   "execution_count": 19,
   "metadata": {
    "collapsed": false
   },
   "outputs": [],
   "source": [
    "#store.open()"
   ]
  },
  {
   "cell_type": "code",
   "execution_count": 20,
   "metadata": {
    "collapsed": false
   },
   "outputs": [],
   "source": [
    "#pd.read_table"
   ]
  },
  {
   "cell_type": "code",
   "execution_count": 21,
   "metadata": {
    "collapsed": false
   },
   "outputs": [],
   "source": [
    "#squid.h"
   ]
  },
  {
   "cell_type": "code",
   "execution_count": 22,
   "metadata": {
    "collapsed": false
   },
   "outputs": [],
   "source": [
    "#np.max(squid['bytes'])"
   ]
  },
  {
   "cell_type": "code",
   "execution_count": 23,
   "metadata": {
    "collapsed": false
   },
   "outputs": [],
   "source": [
    "#squid.head()"
   ]
  },
  {
   "cell_type": "code",
   "execution_count": 24,
   "metadata": {
    "collapsed": false
   },
   "outputs": [],
   "source": [
    "#URL = squid[squid['time'] > '2015-06-05 09:00:00']['URL']\n",
    "#URL = squid[squid['client_address'] == '172.20.70.89']['URL']\n",
    "#URL = squid['URL']"
   ]
  },
  {
   "cell_type": "code",
   "execution_count": 25,
   "metadata": {
    "collapsed": false
   },
   "outputs": [],
   "source": [
    "#server = get_server_from_URL(URL)"
   ]
  },
  {
   "cell_type": "code",
   "execution_count": 26,
   "metadata": {
    "collapsed": false
   },
   "outputs": [],
   "source": [
    "#question_url = remove_safe_site(server, ['qq.com', 'bdpint.com', 'sogou.com', 'sohu.com', 'trendmicro.com'])"
   ]
  },
  {
   "cell_type": "code",
   "execution_count": 27,
   "metadata": {
    "collapsed": false
   },
   "outputs": [],
   "source": [
    "#np.mean(squid['bytes'])"
   ]
  },
  {
   "cell_type": "code",
   "execution_count": 28,
   "metadata": {
    "collapsed": false
   },
   "outputs": [],
   "source": [
    "#squid.to_csv('20150601004228-20150608105645.csv', index=False)"
   ]
  },
  {
   "cell_type": "code",
   "execution_count": 1,
   "metadata": {
    "collapsed": true
   },
   "outputs": [],
   "source": [
    "def read_syslog_juniper(filename, filter=None):\n",
    "    result = []\n",
    "    \n",
    "    if (filename)[-3:] == '.gz':\n",
    "        f = hp.open_gz(filename)\n",
    "    elif (filename)[-6:] == 'tar.gz':\n",
    "        f = hp.open_tar_gz(filename)\n",
    "    else:\n",
    "        f = hp.open_txt(filename)\n",
    "\n",
    "    df = pd.read_table(f, sep=' {1,}', engine='python', index_col=False, header=None, parse_dates=[0])\n",
    "    \n",
    "    #return df\n",
    "    return filename"
   ]
  },
  {
   "cell_type": "code",
   "execution_count": 2,
   "metadata": {
    "collapsed": false
   },
   "outputs": [
    {
     "ename": "NameError",
     "evalue": "global name 'hp' is not defined",
     "output_type": "error",
     "traceback": [
      "\u001b[1;31m---------------------------------------------------------------------------\u001b[0m",
      "\u001b[1;31mNameError\u001b[0m                                 Traceback (most recent call last)",
      "\u001b[1;32m<ipython-input-2-bd393af098e2>\u001b[0m in \u001b[0;36m<module>\u001b[1;34m()\u001b[0m\n\u001b[1;32m----> 1\u001b[1;33m \u001b[0mjp\u001b[0m \u001b[1;33m=\u001b[0m \u001b[0mread_syslog_juniper\u001b[0m\u001b[1;33m(\u001b[0m\u001b[1;34m'hk-ssg140.log'\u001b[0m\u001b[1;33m)\u001b[0m\u001b[1;33m\u001b[0m\u001b[0m\n\u001b[0m",
      "\u001b[1;32m<ipython-input-1-0e48a973a2d6>\u001b[0m in \u001b[0;36mread_syslog_juniper\u001b[1;34m(filename, filter)\u001b[0m\n\u001b[0;32m      7\u001b[0m         \u001b[0mf\u001b[0m \u001b[1;33m=\u001b[0m \u001b[0mhp\u001b[0m\u001b[1;33m.\u001b[0m\u001b[0mopen_tar_gz\u001b[0m\u001b[1;33m(\u001b[0m\u001b[0mfilename\u001b[0m\u001b[1;33m)\u001b[0m\u001b[1;33m\u001b[0m\u001b[0m\n\u001b[0;32m      8\u001b[0m     \u001b[1;32melse\u001b[0m\u001b[1;33m:\u001b[0m\u001b[1;33m\u001b[0m\u001b[0m\n\u001b[1;32m----> 9\u001b[1;33m         \u001b[0mf\u001b[0m \u001b[1;33m=\u001b[0m \u001b[0mhp\u001b[0m\u001b[1;33m.\u001b[0m\u001b[0mopen_txt\u001b[0m\u001b[1;33m(\u001b[0m\u001b[0mfilename\u001b[0m\u001b[1;33m)\u001b[0m\u001b[1;33m\u001b[0m\u001b[0m\n\u001b[0m\u001b[0;32m     10\u001b[0m \u001b[1;33m\u001b[0m\u001b[0m\n\u001b[0;32m     11\u001b[0m     \u001b[0mdf\u001b[0m \u001b[1;33m=\u001b[0m \u001b[0mpd\u001b[0m\u001b[1;33m.\u001b[0m\u001b[0mread_table\u001b[0m\u001b[1;33m(\u001b[0m\u001b[0mf\u001b[0m\u001b[1;33m,\u001b[0m \u001b[0msep\u001b[0m\u001b[1;33m=\u001b[0m\u001b[1;34m' {1,}'\u001b[0m\u001b[1;33m,\u001b[0m \u001b[0mengine\u001b[0m\u001b[1;33m=\u001b[0m\u001b[1;34m'python'\u001b[0m\u001b[1;33m,\u001b[0m \u001b[0mindex_col\u001b[0m\u001b[1;33m=\u001b[0m\u001b[0mFalse\u001b[0m\u001b[1;33m,\u001b[0m \u001b[0mheader\u001b[0m\u001b[1;33m=\u001b[0m\u001b[0mNone\u001b[0m\u001b[1;33m,\u001b[0m \u001b[0mparse_dates\u001b[0m\u001b[1;33m=\u001b[0m\u001b[1;33m[\u001b[0m\u001b[1;36m0\u001b[0m\u001b[1;33m]\u001b[0m\u001b[1;33m)\u001b[0m\u001b[1;33m\u001b[0m\u001b[0m\n",
      "\u001b[1;31mNameError\u001b[0m: global name 'hp' is not defined"
     ]
    }
   ],
   "source": [
    "jp = read_syslog_juniper('hk-ssg140.log')"
   ]
  }
 ],
 "metadata": {
  "kernelspec": {
   "display_name": "Python 2",
   "language": "python",
   "name": "python2"
  },
  "language_info": {
   "codemirror_mode": {
    "name": "ipython",
    "version": 2
   },
   "file_extension": ".py",
   "mimetype": "text/x-python",
   "name": "python",
   "nbconvert_exporter": "python",
   "pygments_lexer": "ipython2",
   "version": "2.7.10"
  }
 },
 "nbformat": 4,
 "nbformat_minor": 0
}
