{
 "cells": [
  {
   "cell_type": "code",
   "execution_count": 32,
   "metadata": {
    "collapsed": false
   },
   "outputs": [],
   "source": [
    "#from __future__ import division\n",
    "import pandas as pd\n",
    "import re\n",
    "import numpy as np\n",
    "import datetime"
   ]
  },
  {
   "cell_type": "code",
   "execution_count": 33,
   "metadata": {
    "collapsed": true
   },
   "outputs": [],
   "source": [
    "import urllib\n",
    "import urllib.request"
   ]
  },
  {
   "cell_type": "code",
   "execution_count": 34,
   "metadata": {
    "collapsed": true
   },
   "outputs": [],
   "source": [
    "from bs4 import BeautifulSoup "
   ]
  },
  {
   "cell_type": "code",
   "execution_count": 35,
   "metadata": {
    "collapsed": true
   },
   "outputs": [],
   "source": [
    "def download_csv(url, file):\n",
    "    urllib.request.urlretrieve(url, file)"
   ]
  },
  {
   "cell_type": "code",
   "execution_count": 36,
   "metadata": {
    "collapsed": true
   },
   "outputs": [],
   "source": [
    "def read_stock_csv(surl):\n",
    "    df = pd.read_csv(surl, parse_dates=1)\n",
    "    df['Avg Price'] = ((df['High'] + df['Low']) / 2).round(4)\n",
    "    return df"
   ]
  },
  {
   "cell_type": "code",
   "execution_count": 37,
   "metadata": {
    "collapsed": true
   },
   "outputs": [],
   "source": [
    "def read_div_csv(durl):\n",
    "    df = pd.read_csv(durl, parse_dates=1)\n",
    "    df['Avg Price'] = ((df['High'] + df['Low']) / 2).round(4)\n",
    "    return df"
   ]
  },
  {
   "cell_type": "code",
   "execution_count": 52,
   "metadata": {
    "collapsed": true
   },
   "outputs": [],
   "source": [
    "# extract the dividend amount from text field\n",
    "def ext_div(text):\n",
    "    loc = str(text).find('HKD')\n",
    "    if loc != -1:\n",
    "        return float(text[loc+4:loc+4+6])\n",
    "    else:\n",
    "        return text"
   ]
  },
  {
   "cell_type": "code",
   "execution_count": 39,
   "metadata": {
    "collapsed": false
   },
   "outputs": [],
   "source": [
    "durl = 'http://www.aastocks.com/en/stocks/analysis/dividend.aspx?symbol=00388'\n",
    "page = urllib.request.urlopen(durl)\n",
    "soup = BeautifulSoup(page, 'lxml')\n",
    "\n",
    "# web scraping\n",
    "data = []\n",
    "table = soup.find('table', attrs={'class':'cnhk-cf tblM s4 s5'})\n",
    "rows = table.find_all('tr')\n",
    "for row in rows:\n",
    "    cols = row.find_all('td')\n",
    "    cols = [ele.text.strip() for ele in cols]\n",
    "    data.append([ele for ele in cols if ele])\n",
    "\n",
    "# convert to dataframe\n",
    "df = pd.DataFrame(data[1:], columns=data[0])\n",
    "# sort by Ex-Date\n",
    "#df.sort_values(by='Ex-Date', ascending=False, inplace=True)"
   ]
  },
  {
   "cell_type": "code",
   "execution_count": 53,
   "metadata": {
    "collapsed": false
   },
   "outputs": [],
   "source": [
    "df['Particular'] = df['Particular'].apply(ext_div)\n",
    "a = df[df['Type'].str.contains('Cash')]"
   ]
  },
  {
   "cell_type": "code",
   "execution_count": 57,
   "metadata": {
    "collapsed": false
   },
   "outputs": [
    {
     "data": {
      "text/html": [
       "<div>\n",
       "<table border=\"1\" class=\"dataframe\">\n",
       "  <thead>\n",
       "    <tr style=\"text-align: right;\">\n",
       "      <th></th>\n",
       "      <th>Announce Date</th>\n",
       "      <th>Year Ended</th>\n",
       "      <th>Event</th>\n",
       "      <th>Particular</th>\n",
       "      <th>Type</th>\n",
       "      <th>Ex-Date</th>\n",
       "      <th>Book Close Date</th>\n",
       "      <th>Payable Date</th>\n",
       "    </tr>\n",
       "  </thead>\n",
       "  <tbody>\n",
       "    <tr>\n",
       "      <th>0</th>\n",
       "      <td>2016/03/02</td>\n",
       "      <td>2015/12</td>\n",
       "      <td>Final</td>\n",
       "      <td>2.87</td>\n",
       "      <td>Cash/Scrip</td>\n",
       "      <td>2016/05/03</td>\n",
       "      <td>2016/05/05-2016/05/06</td>\n",
       "      <td>2016/06/02</td>\n",
       "    </tr>\n",
       "    <tr>\n",
       "      <th>2</th>\n",
       "      <td>2015/08/12</td>\n",
       "      <td>2015/12</td>\n",
       "      <td>Interim</td>\n",
       "      <td>3.08</td>\n",
       "      <td>Cash/Scrip</td>\n",
       "      <td>2015/08/25</td>\n",
       "      <td>2015/08/27-2015/08/28</td>\n",
       "      <td>2015/09/24</td>\n",
       "    </tr>\n",
       "    <tr>\n",
       "      <th>4</th>\n",
       "      <td>2015/03/05</td>\n",
       "      <td>2014/12</td>\n",
       "      <td>Final</td>\n",
       "      <td>2.15</td>\n",
       "      <td>Cash/Scrip</td>\n",
       "      <td>2015/05/04</td>\n",
       "      <td>2015/05/06-2015/05/07</td>\n",
       "      <td>2015/06/05</td>\n",
       "    </tr>\n",
       "    <tr>\n",
       "      <th>6</th>\n",
       "      <td>2014/08/06</td>\n",
       "      <td>2014/12</td>\n",
       "      <td>Interim</td>\n",
       "      <td>1.83</td>\n",
       "      <td>Cash/Scrip</td>\n",
       "      <td>2014/08/19</td>\n",
       "      <td>2014/08/21-2014/08/22</td>\n",
       "      <td>2014/09/22</td>\n",
       "    </tr>\n",
       "    <tr>\n",
       "      <th>8</th>\n",
       "      <td>2014/02/26</td>\n",
       "      <td>2013/12</td>\n",
       "      <td>Final</td>\n",
       "      <td>1.72</td>\n",
       "      <td>Cash/Scrip</td>\n",
       "      <td>2014/04/22</td>\n",
       "      <td>2014/04/24-2014/04/25</td>\n",
       "      <td>2014/05/27</td>\n",
       "    </tr>\n",
       "  </tbody>\n",
       "</table>\n",
       "</div>"
      ],
      "text/plain": [
       "  Announce Date Year Ended    Event Particular        Type     Ex-Date  \\\n",
       "0    2016/03/02    2015/12    Final       2.87  Cash/Scrip  2016/05/03   \n",
       "2    2015/08/12    2015/12  Interim       3.08  Cash/Scrip  2015/08/25   \n",
       "4    2015/03/05    2014/12    Final       2.15  Cash/Scrip  2015/05/04   \n",
       "6    2014/08/06    2014/12  Interim       1.83  Cash/Scrip  2014/08/19   \n",
       "8    2014/02/26    2013/12    Final       1.72  Cash/Scrip  2014/04/22   \n",
       "\n",
       "         Book Close Date Payable Date  \n",
       "0  2016/05/05-2016/05/06   2016/06/02  \n",
       "2  2015/08/27-2015/08/28   2015/09/24  \n",
       "4  2015/05/06-2015/05/07   2015/06/05  \n",
       "6  2014/08/21-2014/08/22   2014/09/22  \n",
       "8  2014/04/24-2014/04/25   2014/05/27  "
      ]
     },
     "execution_count": 57,
     "metadata": {},
     "output_type": "execute_result"
    }
   ],
   "source": [
    "a.head()"
   ]
  },
  {
   "cell_type": "code",
   "execution_count": 70,
   "metadata": {
    "collapsed": false
   },
   "outputs": [
    {
     "data": {
      "text/html": [
       "<div>\n",
       "<table border=\"1\" class=\"dataframe\">\n",
       "  <thead>\n",
       "    <tr style=\"text-align: right;\">\n",
       "      <th></th>\n",
       "      <th>Announce Date</th>\n",
       "      <th>Year Ended</th>\n",
       "      <th>Event</th>\n",
       "      <th>Particular</th>\n",
       "      <th>Type</th>\n",
       "      <th>Ex-Date</th>\n",
       "      <th>Book Close Date</th>\n",
       "      <th>Payable Date</th>\n",
       "    </tr>\n",
       "  </thead>\n",
       "  <tbody>\n",
       "    <tr>\n",
       "      <th>0</th>\n",
       "      <td>2016/03/02</td>\n",
       "      <td>2015/12</td>\n",
       "      <td>Final</td>\n",
       "      <td>2.87</td>\n",
       "      <td>Cash/Scrip</td>\n",
       "      <td>2016/05/03</td>\n",
       "      <td>2016/05/05-2016/05/06</td>\n",
       "      <td>2016/06/02</td>\n",
       "    </tr>\n",
       "    <tr>\n",
       "      <th>2</th>\n",
       "      <td>2015/08/12</td>\n",
       "      <td>2015/12</td>\n",
       "      <td>Interim</td>\n",
       "      <td>3.08</td>\n",
       "      <td>Cash/Scrip</td>\n",
       "      <td>2015/08/25</td>\n",
       "      <td>2015/08/27-2015/08/28</td>\n",
       "      <td>2015/09/24</td>\n",
       "    </tr>\n",
       "    <tr>\n",
       "      <th>4</th>\n",
       "      <td>2015/03/05</td>\n",
       "      <td>2014/12</td>\n",
       "      <td>Final</td>\n",
       "      <td>2.15</td>\n",
       "      <td>Cash/Scrip</td>\n",
       "      <td>2015/05/04</td>\n",
       "      <td>2015/05/06-2015/05/07</td>\n",
       "      <td>2015/06/05</td>\n",
       "    </tr>\n",
       "    <tr>\n",
       "      <th>6</th>\n",
       "      <td>2014/08/06</td>\n",
       "      <td>2014/12</td>\n",
       "      <td>Interim</td>\n",
       "      <td>1.83</td>\n",
       "      <td>Cash/Scrip</td>\n",
       "      <td>2014/08/19</td>\n",
       "      <td>2014/08/21-2014/08/22</td>\n",
       "      <td>2014/09/22</td>\n",
       "    </tr>\n",
       "    <tr>\n",
       "      <th>8</th>\n",
       "      <td>2014/02/26</td>\n",
       "      <td>2013/12</td>\n",
       "      <td>Final</td>\n",
       "      <td>1.72</td>\n",
       "      <td>Cash/Scrip</td>\n",
       "      <td>2014/04/22</td>\n",
       "      <td>2014/04/24-2014/04/25</td>\n",
       "      <td>2014/05/27</td>\n",
       "    </tr>\n",
       "    <tr>\n",
       "      <th>10</th>\n",
       "      <td>2013/08/15</td>\n",
       "      <td>2013/12</td>\n",
       "      <td>Interim</td>\n",
       "      <td>1.82</td>\n",
       "      <td>Cash/Scrip</td>\n",
       "      <td>2013/08/27</td>\n",
       "      <td>2013/08/29-2013/08/30</td>\n",
       "      <td>2013/09/30</td>\n",
       "    </tr>\n",
       "    <tr>\n",
       "      <th>12</th>\n",
       "      <td>2013/02/27</td>\n",
       "      <td>2012/12</td>\n",
       "      <td>Final</td>\n",
       "      <td>1.46</td>\n",
       "      <td>Cash/Scrip</td>\n",
       "      <td>2013/04/26</td>\n",
       "      <td>2013/04/30-2013/05/02</td>\n",
       "      <td>2013/05/31</td>\n",
       "    </tr>\n",
       "    <tr>\n",
       "      <th>14</th>\n",
       "      <td>2012/08/08</td>\n",
       "      <td>2012/12</td>\n",
       "      <td>Interim</td>\n",
       "      <td>1.85</td>\n",
       "      <td>Cash/Scrip</td>\n",
       "      <td>2012/08/21</td>\n",
       "      <td>2012/08/23-2012/08/24</td>\n",
       "      <td>2012/09/21</td>\n",
       "    </tr>\n",
       "    <tr>\n",
       "      <th>16</th>\n",
       "      <td>2012/02/29</td>\n",
       "      <td>2011/12</td>\n",
       "      <td>Final</td>\n",
       "      <td>2.09</td>\n",
       "      <td>Cash/Scrip</td>\n",
       "      <td>2012/04/25</td>\n",
       "      <td>2012/04/27-2012/04/30</td>\n",
       "      <td>2012/05/29</td>\n",
       "    </tr>\n",
       "    <tr>\n",
       "      <th>18</th>\n",
       "      <td>2011/08/10</td>\n",
       "      <td>2011/12</td>\n",
       "      <td>Interim</td>\n",
       "      <td>2.16</td>\n",
       "      <td>Cash/Scrip</td>\n",
       "      <td>2011/08/24</td>\n",
       "      <td>2011/08/26-2011/08/30</td>\n",
       "      <td>2011/10/06</td>\n",
       "    </tr>\n",
       "    <tr>\n",
       "      <th>20</th>\n",
       "      <td>2011/03/02</td>\n",
       "      <td>2010/12</td>\n",
       "      <td>Final</td>\n",
       "      <td>2.31</td>\n",
       "      <td>Cash/Scrip</td>\n",
       "      <td>2011/04/13</td>\n",
       "      <td>2011/04/15-2011/04/20</td>\n",
       "      <td>2011/05/27</td>\n",
       "    </tr>\n",
       "    <tr>\n",
       "      <th>22</th>\n",
       "      <td>2010/08/11</td>\n",
       "      <td>2010/12</td>\n",
       "      <td>Interim</td>\n",
       "      <td>1.89</td>\n",
       "      <td>Cash</td>\n",
       "      <td>2010/08/25</td>\n",
       "      <td>2010/08/27-2010/08/31</td>\n",
       "      <td>2010/09/08</td>\n",
       "    </tr>\n",
       "    <tr>\n",
       "      <th>24</th>\n",
       "      <td>2010/03/04</td>\n",
       "      <td>2009/12</td>\n",
       "      <td>Final</td>\n",
       "      <td>2.09</td>\n",
       "      <td>Cash</td>\n",
       "      <td>2010/04/15</td>\n",
       "      <td>2010/04/19-2010/04/22</td>\n",
       "      <td>2010/05/03</td>\n",
       "    </tr>\n",
       "    <tr>\n",
       "      <th>26</th>\n",
       "      <td>2009/08/12</td>\n",
       "      <td>2009/12</td>\n",
       "      <td>Interim</td>\n",
       "      <td>1.84</td>\n",
       "      <td>Cash</td>\n",
       "      <td>2009/08/26</td>\n",
       "      <td>2009/08/28-2009/09/01</td>\n",
       "      <td>2009/09/09</td>\n",
       "    </tr>\n",
       "    <tr>\n",
       "      <th>28</th>\n",
       "      <td>2009/03/04</td>\n",
       "      <td>2008/12</td>\n",
       "      <td>Final</td>\n",
       "      <td>1.8</td>\n",
       "      <td>Cash</td>\n",
       "      <td>2009/04/16</td>\n",
       "      <td>2009/04/20-2009/04/23</td>\n",
       "      <td>2009/05/05</td>\n",
       "    </tr>\n",
       "    <tr>\n",
       "      <th>30</th>\n",
       "      <td>2008/08/13</td>\n",
       "      <td>2008/12</td>\n",
       "      <td>Interim</td>\n",
       "      <td>2.49</td>\n",
       "      <td>Cash</td>\n",
       "      <td>2008/08/27</td>\n",
       "      <td>2008/08/29-2008/09/02</td>\n",
       "      <td>2008/09/11</td>\n",
       "    </tr>\n",
       "    <tr>\n",
       "      <th>32</th>\n",
       "      <td>2008/03/05</td>\n",
       "      <td>2007/12</td>\n",
       "      <td>Final</td>\n",
       "      <td>3.4</td>\n",
       "      <td>Cash</td>\n",
       "      <td>2008/04/17</td>\n",
       "      <td>2008/04/21-2008/04/24</td>\n",
       "      <td>2008/05/09</td>\n",
       "    </tr>\n",
       "    <tr>\n",
       "      <th>34</th>\n",
       "      <td>2007/08/31</td>\n",
       "      <td>2007/12</td>\n",
       "      <td>Interim</td>\n",
       "      <td>1.79</td>\n",
       "      <td>Cash</td>\n",
       "      <td>2007/09/05</td>\n",
       "      <td>2007/09/07-2007/09/11</td>\n",
       "      <td>2007/09/18</td>\n",
       "    </tr>\n",
       "    <tr>\n",
       "      <th>36</th>\n",
       "      <td>2007/03/08</td>\n",
       "      <td>2006/12</td>\n",
       "      <td>Final</td>\n",
       "      <td>1.19</td>\n",
       "      <td>Cash</td>\n",
       "      <td>2007/04/19</td>\n",
       "      <td>2007/04/23-2007/04/26</td>\n",
       "      <td>2007/05/08</td>\n",
       "    </tr>\n",
       "    <tr>\n",
       "      <th>38</th>\n",
       "      <td>2006/08/16</td>\n",
       "      <td>2006/12</td>\n",
       "      <td>Interim</td>\n",
       "      <td>0.94</td>\n",
       "      <td>Cash</td>\n",
       "      <td>2006/09/06</td>\n",
       "      <td>2006/09/08-2006/09/12</td>\n",
       "      <td>2006/09/19</td>\n",
       "    </tr>\n",
       "    <tr>\n",
       "      <th>40</th>\n",
       "      <td>2006/03/08</td>\n",
       "      <td>2005/12</td>\n",
       "      <td>Final</td>\n",
       "      <td>0.64</td>\n",
       "      <td>Cash</td>\n",
       "      <td>2006/04/19</td>\n",
       "      <td>2006/04/21-2006/04/26</td>\n",
       "      <td>2006/05/08</td>\n",
       "    </tr>\n",
       "    <tr>\n",
       "      <th>41</th>\n",
       "      <td>2005/08/17</td>\n",
       "      <td>2005/12</td>\n",
       "      <td>Interim</td>\n",
       "      <td>0.49</td>\n",
       "      <td>Cash</td>\n",
       "      <td>2005/09/05</td>\n",
       "      <td>2005/09/07-2005/09/09</td>\n",
       "      <td>2005/09/15</td>\n",
       "    </tr>\n",
       "    <tr>\n",
       "      <th>42</th>\n",
       "      <td>2005/02/28</td>\n",
       "      <td>2004/12</td>\n",
       "      <td>Final</td>\n",
       "      <td>0.47</td>\n",
       "      <td>Cash</td>\n",
       "      <td>2005/04/04</td>\n",
       "      <td>2005/04/07-2005/04/12</td>\n",
       "      <td>2005/04/25</td>\n",
       "    </tr>\n",
       "    <tr>\n",
       "      <th>43</th>\n",
       "      <td>2004/08/11</td>\n",
       "      <td>2004/12</td>\n",
       "      <td>Interim</td>\n",
       "      <td>0.43</td>\n",
       "      <td>Cash</td>\n",
       "      <td>2004/09/03</td>\n",
       "      <td>2004/09/07-2004/09/09</td>\n",
       "      <td>2004/09/13</td>\n",
       "    </tr>\n",
       "    <tr>\n",
       "      <th>44</th>\n",
       "      <td>2004/02/26</td>\n",
       "      <td>2003/12</td>\n",
       "      <td>Final</td>\n",
       "      <td>0.42</td>\n",
       "      <td>Cash</td>\n",
       "      <td>2004/03/24</td>\n",
       "      <td>2004/03/26-2004/03/31</td>\n",
       "      <td>2004/04/14</td>\n",
       "    </tr>\n",
       "    <tr>\n",
       "      <th>45</th>\n",
       "      <td>2003/08/13</td>\n",
       "      <td>2003/12</td>\n",
       "      <td>Interim</td>\n",
       "      <td>0.18</td>\n",
       "      <td>Cash</td>\n",
       "      <td>2003/09/05</td>\n",
       "      <td>2003/09/09-2003/09/11</td>\n",
       "      <td>2003/09/15</td>\n",
       "    </tr>\n",
       "    <tr>\n",
       "      <th>46</th>\n",
       "      <td>2003/03/12</td>\n",
       "      <td>2002/12</td>\n",
       "      <td>Final</td>\n",
       "      <td>0.43</td>\n",
       "      <td>Cash</td>\n",
       "      <td>2003/04/08</td>\n",
       "      <td>2003/04/10-2003/04/15</td>\n",
       "      <td>2003/04/25</td>\n",
       "    </tr>\n",
       "    <tr>\n",
       "      <th>47</th>\n",
       "      <td>2002/08/15</td>\n",
       "      <td>2002/12</td>\n",
       "      <td>Interim</td>\n",
       "      <td>0.08</td>\n",
       "      <td>Cash</td>\n",
       "      <td>2002/09/05</td>\n",
       "      <td>2002/09/09-2002/09/11</td>\n",
       "      <td>2002/09/12</td>\n",
       "    </tr>\n",
       "    <tr>\n",
       "      <th>48</th>\n",
       "      <td>2002/03/13</td>\n",
       "      <td>2001/12</td>\n",
       "      <td>Final</td>\n",
       "      <td>0.25</td>\n",
       "      <td>Cash</td>\n",
       "      <td>2002/04/11</td>\n",
       "      <td>2002/04/15-2002/04/17</td>\n",
       "      <td>2002/04/22</td>\n",
       "    </tr>\n",
       "    <tr>\n",
       "      <th>49</th>\n",
       "      <td>2001/09/12</td>\n",
       "      <td>2001/12</td>\n",
       "      <td>Interim</td>\n",
       "      <td>0.08</td>\n",
       "      <td>Cash</td>\n",
       "      <td>2001/10/08</td>\n",
       "      <td>2001/10/10-2001/10/12</td>\n",
       "      <td>2001/10/15</td>\n",
       "    </tr>\n",
       "    <tr>\n",
       "      <th>50</th>\n",
       "      <td>2001/03/13</td>\n",
       "      <td>2000/12</td>\n",
       "      <td>Final</td>\n",
       "      <td>0.25</td>\n",
       "      <td>Cash</td>\n",
       "      <td>2001/04/23</td>\n",
       "      <td>2001/04/25-2001/04/27</td>\n",
       "      <td>2001/05/03</td>\n",
       "    </tr>\n",
       "    <tr>\n",
       "      <th>51</th>\n",
       "      <td>2000/09/06</td>\n",
       "      <td>2000/12</td>\n",
       "      <td>Interim</td>\n",
       "      <td>0.08</td>\n",
       "      <td>Cash</td>\n",
       "      <td>2000/10/04</td>\n",
       "      <td>2000/10/09-2000/10/11</td>\n",
       "      <td>2000/10/12</td>\n",
       "    </tr>\n",
       "  </tbody>\n",
       "</table>\n",
       "</div>"
      ],
      "text/plain": [
       "   Announce Date Year Ended    Event Particular        Type     Ex-Date  \\\n",
       "0     2016/03/02    2015/12    Final       2.87  Cash/Scrip  2016/05/03   \n",
       "2     2015/08/12    2015/12  Interim       3.08  Cash/Scrip  2015/08/25   \n",
       "4     2015/03/05    2014/12    Final       2.15  Cash/Scrip  2015/05/04   \n",
       "6     2014/08/06    2014/12  Interim       1.83  Cash/Scrip  2014/08/19   \n",
       "8     2014/02/26    2013/12    Final       1.72  Cash/Scrip  2014/04/22   \n",
       "10    2013/08/15    2013/12  Interim       1.82  Cash/Scrip  2013/08/27   \n",
       "12    2013/02/27    2012/12    Final       1.46  Cash/Scrip  2013/04/26   \n",
       "14    2012/08/08    2012/12  Interim       1.85  Cash/Scrip  2012/08/21   \n",
       "16    2012/02/29    2011/12    Final       2.09  Cash/Scrip  2012/04/25   \n",
       "18    2011/08/10    2011/12  Interim       2.16  Cash/Scrip  2011/08/24   \n",
       "20    2011/03/02    2010/12    Final       2.31  Cash/Scrip  2011/04/13   \n",
       "22    2010/08/11    2010/12  Interim       1.89        Cash  2010/08/25   \n",
       "24    2010/03/04    2009/12    Final       2.09        Cash  2010/04/15   \n",
       "26    2009/08/12    2009/12  Interim       1.84        Cash  2009/08/26   \n",
       "28    2009/03/04    2008/12    Final        1.8        Cash  2009/04/16   \n",
       "30    2008/08/13    2008/12  Interim       2.49        Cash  2008/08/27   \n",
       "32    2008/03/05    2007/12    Final        3.4        Cash  2008/04/17   \n",
       "34    2007/08/31    2007/12  Interim       1.79        Cash  2007/09/05   \n",
       "36    2007/03/08    2006/12    Final       1.19        Cash  2007/04/19   \n",
       "38    2006/08/16    2006/12  Interim       0.94        Cash  2006/09/06   \n",
       "40    2006/03/08    2005/12    Final       0.64        Cash  2006/04/19   \n",
       "41    2005/08/17    2005/12  Interim       0.49        Cash  2005/09/05   \n",
       "42    2005/02/28    2004/12    Final       0.47        Cash  2005/04/04   \n",
       "43    2004/08/11    2004/12  Interim       0.43        Cash  2004/09/03   \n",
       "44    2004/02/26    2003/12    Final       0.42        Cash  2004/03/24   \n",
       "45    2003/08/13    2003/12  Interim       0.18        Cash  2003/09/05   \n",
       "46    2003/03/12    2002/12    Final       0.43        Cash  2003/04/08   \n",
       "47    2002/08/15    2002/12  Interim       0.08        Cash  2002/09/05   \n",
       "48    2002/03/13    2001/12    Final       0.25        Cash  2002/04/11   \n",
       "49    2001/09/12    2001/12  Interim       0.08        Cash  2001/10/08   \n",
       "50    2001/03/13    2000/12    Final       0.25        Cash  2001/04/23   \n",
       "51    2000/09/06    2000/12  Interim       0.08        Cash  2000/10/04   \n",
       "\n",
       "          Book Close Date Payable Date  \n",
       "0   2016/05/05-2016/05/06   2016/06/02  \n",
       "2   2015/08/27-2015/08/28   2015/09/24  \n",
       "4   2015/05/06-2015/05/07   2015/06/05  \n",
       "6   2014/08/21-2014/08/22   2014/09/22  \n",
       "8   2014/04/24-2014/04/25   2014/05/27  \n",
       "10  2013/08/29-2013/08/30   2013/09/30  \n",
       "12  2013/04/30-2013/05/02   2013/05/31  \n",
       "14  2012/08/23-2012/08/24   2012/09/21  \n",
       "16  2012/04/27-2012/04/30   2012/05/29  \n",
       "18  2011/08/26-2011/08/30   2011/10/06  \n",
       "20  2011/04/15-2011/04/20   2011/05/27  \n",
       "22  2010/08/27-2010/08/31   2010/09/08  \n",
       "24  2010/04/19-2010/04/22   2010/05/03  \n",
       "26  2009/08/28-2009/09/01   2009/09/09  \n",
       "28  2009/04/20-2009/04/23   2009/05/05  \n",
       "30  2008/08/29-2008/09/02   2008/09/11  \n",
       "32  2008/04/21-2008/04/24   2008/05/09  \n",
       "34  2007/09/07-2007/09/11   2007/09/18  \n",
       "36  2007/04/23-2007/04/26   2007/05/08  \n",
       "38  2006/09/08-2006/09/12   2006/09/19  \n",
       "40  2006/04/21-2006/04/26   2006/05/08  \n",
       "41  2005/09/07-2005/09/09   2005/09/15  \n",
       "42  2005/04/07-2005/04/12   2005/04/25  \n",
       "43  2004/09/07-2004/09/09   2004/09/13  \n",
       "44  2004/03/26-2004/03/31   2004/04/14  \n",
       "45  2003/09/09-2003/09/11   2003/09/15  \n",
       "46  2003/04/10-2003/04/15   2003/04/25  \n",
       "47  2002/09/09-2002/09/11   2002/09/12  \n",
       "48  2002/04/15-2002/04/17   2002/04/22  \n",
       "49  2001/10/10-2001/10/12   2001/10/15  \n",
       "50  2001/04/25-2001/04/27   2001/05/03  \n",
       "51  2000/10/09-2000/10/11   2000/10/12  "
      ]
     },
     "execution_count": 70,
     "metadata": {},
     "output_type": "execute_result"
    }
   ],
   "source": [
    "a"
   ]
  },
  {
   "cell_type": "code",
   "execution_count": 61,
   "metadata": {
    "collapsed": false
   },
   "outputs": [],
   "source": [
    "earliest = results[0]\n",
    "latest = results[len(results)-1]"
   ]
  },
  {
   "cell_type": "code",
   "execution_count": 63,
   "metadata": {
    "collapsed": false
   },
   "outputs": [
    {
     "data": {
      "text/plain": [
       "['2015-01-12', 18.73]"
      ]
     },
     "execution_count": 63,
     "metadata": {},
     "output_type": "execute_result"
    }
   ],
   "source": [
    "earliest"
   ]
  },
  {
   "cell_type": "code",
   "execution_count": 72,
   "metadata": {
    "collapsed": false
   },
   "outputs": [
    {
     "name": "stderr",
     "output_type": "stream",
     "text": [
      "/Users/kenneth/anaconda/lib/python3.5/site-packages/ipykernel/__main__.py:1: UserWarning: Boolean Series key will be reindexed to match DataFrame index.\n",
      "  if __name__ == '__main__':\n"
     ]
    },
    {
     "data": {
      "text/html": [
       "<div>\n",
       "<table border=\"1\" class=\"dataframe\">\n",
       "  <thead>\n",
       "    <tr style=\"text-align: right;\">\n",
       "      <th></th>\n",
       "      <th>Announce Date</th>\n",
       "      <th>Year Ended</th>\n",
       "      <th>Event</th>\n",
       "      <th>Particular</th>\n",
       "      <th>Type</th>\n",
       "      <th>Ex-Date</th>\n",
       "      <th>Book Close Date</th>\n",
       "      <th>Payable Date</th>\n",
       "    </tr>\n",
       "  </thead>\n",
       "  <tbody>\n",
       "    <tr>\n",
       "      <th>0</th>\n",
       "      <td>2016/03/02</td>\n",
       "      <td>2015/12</td>\n",
       "      <td>Final</td>\n",
       "      <td>2.87</td>\n",
       "      <td>Cash/Scrip</td>\n",
       "      <td>2016/05/03</td>\n",
       "      <td>2016/05/05-2016/05/06</td>\n",
       "      <td>2016/06/02</td>\n",
       "    </tr>\n",
       "  </tbody>\n",
       "</table>\n",
       "</div>"
      ],
      "text/plain": [
       "  Announce Date Year Ended  Event Particular        Type     Ex-Date  \\\n",
       "0    2016/03/02    2015/12  Final       2.87  Cash/Scrip  2016/05/03   \n",
       "\n",
       "         Book Close Date Payable Date  \n",
       "0  2016/05/05-2016/05/06   2016/06/02  "
      ]
     },
     "execution_count": 72,
     "metadata": {},
     "output_type": "execute_result"
    }
   ],
   "source": []
  },
  {
   "cell_type": "code",
   "execution_count": 78,
   "metadata": {
    "collapsed": false
   },
   "outputs": [
    {
     "name": "stderr",
     "output_type": "stream",
     "text": [
      "/Users/kenneth/anaconda/lib/python3.5/site-packages/ipykernel/__main__.py:6: UserWarning: Boolean Series key will be reindexed to match DataFrame index.\n"
     ]
    }
   ],
   "source": [
    "temp = 0\n",
    "accumulated = 0\n",
    "\n",
    "for r in results:\n",
    "    accumulated += r[1]\n",
    "    b = a[(df['Ex-Date'] >= r[0]) & (df['Ex-Date'] >= earliest[0])]\n",
    "    temp += np.sum(b['Particular']) * accumulated\n",
    "    "
   ]
  },
  {
   "cell_type": "code",
   "execution_count": 79,
   "metadata": {
    "collapsed": false
   },
   "outputs": [
    {
     "data": {
      "text/plain": [
       "14249.7382"
      ]
     },
     "execution_count": 79,
     "metadata": {},
     "output_type": "execute_result"
    }
   ],
   "source": [
    "temp"
   ]
  },
  {
   "cell_type": "code",
   "execution_count": 41,
   "metadata": {
    "collapsed": false
   },
   "outputs": [],
   "source": [
    "def months_between(start, end):\n",
    "    start_year = int(start[:start.find('-')])\n",
    "    start_month = int(start[start.find('-')+1:])\n",
    "    end_year = int(end[:end.find('-')])\n",
    "    end_month = int(end[end.find('-')+1:])\n",
    "    \n",
    "    year_diff = end_year - start_year\n",
    "    month_diff = end_month - start_month\n",
    "    \n",
    "    diff = []\n",
    "    \n",
    "    if year_diff <= 0:\n",
    "        for j in range(start_month, end_month + 1):\n",
    "            diff.append(str(start_year).rjust(2, '0') + '-' + str(j).rjust(2, '0'))\n",
    "    else:\n",
    "        for i in range(start_year, end_year + 1):\n",
    "            if (i == start_year ):\n",
    "                for j in range(start_month, 12 + 1):\n",
    "                    diff.append(str(i).rjust(2, '0') + '-' + str(j).rjust(2, '0'))\n",
    "            elif (i == end_year):\n",
    "                for j in range(1, end_month + 1):\n",
    "                    diff.append(str(i).rjust(2, '0') + '-' + str(j).rjust(2, '0'))\n",
    "            else:\n",
    "                for j in range(1, 12 + 1):\n",
    "                    diff.append(str(i).rjust(2, '0') + '-' + str(j).rjust(2, '0'))                    \n",
    "      \n",
    "    return diff"
   ]
  },
  {
   "cell_type": "code",
   "execution_count": 48,
   "metadata": {
    "collapsed": false
   },
   "outputs": [],
   "source": [
    "def buy_shares(results, contrib, fee):\n",
    "    shares = []\n",
    "    total_shares = 0\n",
    "    total_contrib = 0\n",
    "    f = 0\n",
    "    \n",
    "    for r in results:\n",
    "        s = round((contrib - fee)/r[1], 2)\n",
    "        shares.append([r[0], s])\n",
    "        total_shares += s\n",
    "        total_contrib += contrib\n",
    "        f += fee\n",
    "    return shares, total_shares, total_contrib, f"
   ]
  },
  {
   "cell_type": "code",
   "execution_count": 43,
   "metadata": {
    "collapsed": false
   },
   "outputs": [],
   "source": [
    "#def cal_dividend(shares, div):\n",
    "    "
   ]
  },
  {
   "cell_type": "code",
   "execution_count": 44,
   "metadata": {
    "collapsed": true
   },
   "outputs": [],
   "source": [
    "def cal_profit(total_shares, total_contrib, current_price, dividend=0):\n",
    "    profit = (current_price * total_shares + dividend - total_contrib) / total_contrib\n",
    "    \n",
    "    return profit    "
   ]
  },
  {
   "cell_type": "code",
   "execution_count": 49,
   "metadata": {
    "collapsed": false
   },
   "outputs": [],
   "source": [
    "def eval_stock(surl, durl, contrib, fee, start, end, day=10):\n",
    "    # contrib: monthly contribution amount\n",
    "    # fee\n",
    "    # current_price\n",
    "    # start: a string indicate the start year and month\n",
    "    # end: a string indicate the end year and month\n",
    "    # day: day to execution    \n",
    "    \n",
    "    results = []\n",
    "    \n",
    "    months = months_between(start, end)\n",
    "    \n",
    "    df = read_stock_csv(surl)\n",
    "    \n",
    "    # current price is the latest average price\n",
    "    current_price = df[df['Date'] ==np.max(df['Date'])].iloc[0]['Avg Price']\n",
    "    \n",
    "    for m in months:\n",
    "        for d in range(day, day + 5):\n",
    "            temp = df[df['Date'].str.contains(m + '-' + str(d).rjust(2, '0'))]\n",
    "            if len(temp) > 0:\n",
    "                results.append([m + '-' + str(d).rjust(2, '0'), temp.iloc[0]['Avg Price']])\n",
    "                break\n",
    "                \n",
    "    shares, total_shares, total_contrib, total_fee = buy_shares(results, contrib, fee)\n",
    "    \n",
    "    profit = cal_profit(total_shares, total_contrib, current_price)\n",
    "                    \n",
    "    return shares"
   ]
  },
  {
   "cell_type": "code",
   "execution_count": 29,
   "metadata": {
    "collapsed": true
   },
   "outputs": [],
   "source": [
    "#stocks = ['0002', '0175', '0700', '0388', '0066']\n",
    "stocks = ['0001']"
   ]
  },
  {
   "cell_type": "code",
   "execution_count": 46,
   "metadata": {
    "collapsed": false
   },
   "outputs": [],
   "source": [
    "today = datetime.datetime.now().timetuple()\n",
    "\n",
    "# download csv files\n",
    "for s in stocks:\n",
    "    surl = 'http://real-chart.finance.yahoo.com/table.csv?s='+s+'.HK'+'&a=05&b=16&c=2000&d=03&e='+str(today[2])+'&f=2016&g=d&ignore=.csv'\n",
    "    download_csv(surl, s+'.csv')\n",
    "#http://real-chart.finance.yahoo.com/table.csv?s=2800.HK&a=11&b=31&c=2000&d=03&e=26&f=2016&g=v&ignore=.csv    "
   ]
  },
  {
   "cell_type": "code",
   "execution_count": 50,
   "metadata": {
    "collapsed": false
   },
   "outputs": [
    {
     "data": {
      "text/plain": [
       "[['2015-01-12', 18.73],\n",
       " ['2015-02-10', 18.350000000000001],\n",
       " ['2015-03-10', 17.850000000000001],\n",
       " ['2015-04-10', 16.440000000000001],\n",
       " ['2015-05-11', 16.629999999999999],\n",
       " ['2015-06-10', 17.460000000000001],\n",
       " ['2015-07-10', 17.43],\n",
       " ['2015-08-10', 16.949999999999999],\n",
       " ['2015-09-10', 18.039999999999999],\n",
       " ['2015-10-12', 18.800000000000001],\n",
       " ['2015-11-10', 19.059999999999999],\n",
       " ['2015-12-10', 19.25],\n",
       " ['2016-01-11', 19.829999999999998],\n",
       " ['2016-02-10', 20.489999999999998],\n",
       " ['2016-03-10', 19.870000000000001],\n",
       " ['2016-04-11', 19.670000000000002]]"
      ]
     },
     "execution_count": 50,
     "metadata": {},
     "output_type": "execute_result"
    }
   ],
   "source": [
    "#results = []\n",
    "for s in stocks:\n",
    "    surl = s+'.csv'\n",
    "    durl = ''\n",
    "    #results.append([s, eval_stock(surl, durl, 2000, 50, '2015-01', '2016-04')])\n",
    "    results = eval_stock(surl, durl, 2000, 50, '2015-01', '2016-04')\n",
    "results"
   ]
  }
 ],
 "metadata": {
  "kernelspec": {
   "display_name": "Python 3",
   "language": "python",
   "name": "python3"
  },
  "language_info": {
   "codemirror_mode": {
    "name": "ipython",
    "version": 3
   },
   "file_extension": ".py",
   "mimetype": "text/x-python",
   "name": "python",
   "nbconvert_exporter": "python",
   "pygments_lexer": "ipython3",
   "version": "3.5.1"
  }
 },
 "nbformat": 4,
 "nbformat_minor": 0
}
